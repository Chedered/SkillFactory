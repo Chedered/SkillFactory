{
 "cells": [
  {
   "cell_type": "code",
   "execution_count": 1,
   "id": "f8dfc916",
   "metadata": {},
   "outputs": [],
   "source": [
    "import pandas as pd\n",
    "import requests\n",
    "from bs4 import BeautifulSoup\n",
    "import time\n",
    "from tqdm.notebook import tqdm\n",
    "import json\n",
    "import lxml\n",
    "from datetime import date\n",
    "from multiprocess import Pool"
   ]
  },
  {
   "cell_type": "code",
   "execution_count": 3,
   "id": "d4bec1f1",
   "metadata": {},
   "outputs": [],
   "source": [
    "brands_list = ['SKODA',\n",
    "               'AUDI',\n",
    "               'HONDA',\n",
    "               'VOLVO',\n",
    "               'BMW',\n",
    "               'NISSAN',\n",
    "               'INFINITI',\n",
    "               'MERCEDES',\n",
    "               'TOYOTA',\n",
    "               'LEXUS',\n",
    "               'VOLKSWAGEN',\n",
    "               'MITSUBISHI']"
   ]
  },
  {
   "cell_type": "code",
   "execution_count": 52,
   "id": "e62db8f5",
   "metadata": {},
   "outputs": [],
   "source": [
    "def get_max_page(brand):\n",
    "    response = requests.get(f'https://auto.ru/moskva/cars/{brand}/used/')\n",
    "    soup = BeautifulSoup(response.text, 'lxml')\n",
    "    pages = soup.find('span', class_='ControlGroup ControlGroup_responsive_no ControlGroup_size_s ListingPagination__pages')\n",
    "    max_page = int(pages.find_all('span', class_='Button__text')[-1].text)\n",
    "    return max_page"
   ]
  },
  {
   "cell_type": "code",
   "execution_count": 53,
   "id": "e0925013",
   "metadata": {},
   "outputs": [],
   "source": [
    "def get_cars_on_page(brand, page):\n",
    "    response = requests.get(f'https://auto.ru/moskva/cars/{brand}/used/?output_type=list&page={page}')\n",
    "    soup = BeautifulSoup(response.text, 'lxml')\n",
    "    cars = soup.find_all('div', class_='ListingItem__description')\n",
    "    return len(cars)"
   ]
  },
  {
   "cell_type": "code",
   "execution_count": 54,
   "id": "e8d2ac25",
   "metadata": {},
   "outputs": [],
   "source": [
    "def get_param(brand, page):\n",
    "    param = {\n",
    "        \"category\":\"cars\",\n",
    "        \"section\":\"used\",\n",
    "        \"catalog_filter\":[{\"mark\":brand}],\n",
    "        \"page\":page,\n",
    "        \"geo_radius\":200,\n",
    "        \"geo_id\":[213]\n",
    "    }\n",
    "    return param"
   ]
  },
  {
   "cell_type": "code",
   "execution_count": 55,
   "id": "c609adf8",
   "metadata": {},
   "outputs": [],
   "source": [
    "def get_headers(brand, page):\n",
    "    headers = f'''\n",
    "Host: auto.ru\n",
    "User-Agent: Mozilla/5.0 (Windows NT 10.0; Win64; x64; rv:89.0) Gecko/20100101 Firefox/89.0\n",
    "Accept: */*\n",
    "Accept-Language: ru-RU,ru;q=0.8,en-US;q=0.5,en;q=0.3\n",
    "Accept-Encoding: gzip, deflate, br\n",
    "Referer: https://auto.ru/moskva/cars/{brand}/used/?page={page}\n",
    "x-client-app-version: fc2932d200d\n",
    "x-page-request-id: 14721e109a8a263b47dcef08d7daa8c7\n",
    "x-client-date: {int(round(time.time(), 3)*1000)}\n",
    "x-csrf-token: b67177e46b40cc0938201d6add6543f6d8b01407c60dfe78\n",
    "x-requested-with: fetch\n",
    "content-type: application/json\n",
    "Origin: https://auto.ru\n",
    "Content-Length: 112\n",
    "Connection: keep-alive\n",
    "Cookie: suid=b82b1360a9cce2355897aadee2636626.f4d44d07389f12d728062e2cea4b2aec; _csrf_token=b67177e46b40cc0938201d6add6543f6d8b01407c60dfe78; autoru_sid=a%3Ag6176eb732coj9q16e3n8h9e5omgpacn.d795fd04efb17e2a3b86396dc5cac4b1%7C1635183475903.604800.LF2Hyxf7sEx06WNYkwr2Bg.Y_Z-QGmY2PjZPgvgCtCTWirX21_1yFvxDpsOzmN7rCg; autoruuid=g6176eb732coj9q16e3n8h9e5omgpacn.d795fd04efb17e2a3b86396dc5cac4b1; from_lifetime=1635184525442; from=direct; X-Vertis-DC=sas; yuidlt=1; yandexuid=7127153541604003384; my=YwA%3D; crookie=g/G4q1/cHpkS2ByfKgZMeN+LDW+2Z7tCBnQv7PLopkGEY0+o5C6Y1sjFSIb7KvxLpCESCvaR7EZ1OMcehpJf92hqGjY=; cmtchd=MTYzNTE4MzQ4Mjk1OA==; gdpr=0; _ym_uid=1635183483662690441; _ym_d=1635184525; cycada=sIK8EDyagkn5foGrW7t7sX5vJGobFwB8hMAlOzjQGY8=; _ym_isad=2\n",
    "'''\n",
    "    headers = {line.split(': ')[0]: line.split(': ')[1] for line in headers.strip().split('\\n')}\n",
    "    return headers"
   ]
  },
  {
   "cell_type": "code",
   "execution_count": 56,
   "id": "bdd8ac9d",
   "metadata": {},
   "outputs": [],
   "source": [
    "def get_json(param, headers):\n",
    "    url = 'https://auto.ru/-/ajax/desktop/listing/'\n",
    "    response = ''\n",
    "    while response == '':\n",
    "        try:\n",
    "            response = requests.post(url, json=param, headers=headers)\n",
    "            break\n",
    "        except:\n",
    "            time.sleep(5)\n",
    "            continue\n",
    "            \n",
    "    return response.json()    "
   ]
  },
  {
   "cell_type": "code",
   "execution_count": 57,
   "id": "852ace86",
   "metadata": {},
   "outputs": [],
   "source": [
    "def get_car_dict(car):\n",
    "    try:\n",
    "        price = car['price_info']['RUR']\n",
    "    except KeyError:\n",
    "        return False   \n",
    "\n",
    "    brand = car['vehicle_info']['mark_info']['name']\n",
    "    model = car['vehicle_info']['model_info']['name']\n",
    "    sell_id = car['saleId']\n",
    "    section = car['section']\n",
    "    car_url = f'https://auto.ru/cars/{section}/sale/{brand.lower()}/{model.lower()}/{sell_id}/'  \n",
    "    \n",
    "    import requests\n",
    "    from bs4 import BeautifulSoup\n",
    "    import time\n",
    "    import lxml\n",
    "    \n",
    "    response = ''\n",
    "    while response == '':\n",
    "        try:\n",
    "            response = requests.get(car_url)\n",
    "            break\n",
    "        except:\n",
    "            time.sleep(5)\n",
    "            continue\n",
    "    \n",
    "    \n",
    "    if response.status_code != 200:\n",
    "        return False\n",
    "    response.encoding = 'utf-8'\n",
    "    soup = BeautifulSoup(response.text, 'lxml')\n",
    "    card_info = soup.find('ul', class_='CardInfo')\n",
    "    \n",
    "    try:\n",
    "        color = card_info.find('li', class_='CardInfoRow CardInfoRow_color')\n",
    "        color = color.find('a').text\n",
    "    except AttributeError:\n",
    "        color = None\n",
    "        \n",
    "    try:\n",
    "        fuelType = card_info.find('li', class_='CardInfoRow CardInfoRow_engine')\n",
    "        fuelType = fuelType.find('a').text\n",
    "    except AttributeError:\n",
    "        fuelType = None\n",
    "        \n",
    "    try:\n",
    "        ownersCount = card_info.find('li', class_='CardInfoRow CardInfoRow_ownersCount')\n",
    "        ownersCount = ownersCount.find_all('span')[1].text\n",
    "        ownersCount = ownersCount.replace('\\xa0', ' ')\n",
    "    except AttributeError:\n",
    "        ownersCount = None\n",
    "        \n",
    "    try:\n",
    "        owningTime = card_info.find('li', class_='CardInfoRow CardInfoRow_owningTime')\n",
    "        owningTime = owningTime.find_all('span')[1].text \n",
    "    except AttributeError:\n",
    "        owningTime = None\n",
    "        \n",
    "    try:\n",
    "        pts = card_info.find('li', class_='CardInfoRow CardInfoRow_pts')\n",
    "        pts = pts.find_all('span')[1].text \n",
    "    except AttributeError:\n",
    "        pts = None\n",
    "        \n",
    "    try:\n",
    "        drive = card_info.find('li', class_='CardInfoRow CardInfoRow_drive')\n",
    "        drive = drive.find_all('span')[1].text \n",
    "    except AttributeError:\n",
    "        drive = None\n",
    "        \n",
    "    try:\n",
    "        wheel = card_info.find('li', class_='CardInfoRow CardInfoRow_wheel')\n",
    "        wheel = wheel.find_all('span')[1].text \n",
    "    except AttributeError:\n",
    "        wheel = None\n",
    "        \n",
    "    try:\n",
    "        state = card_info.find('li', class_='CardInfoRow CardInfoRow_state')\n",
    "        state = state.find_all('span')[1].text \n",
    "    except AttributeError:\n",
    "        state = None\n",
    "        \n",
    "    try:\n",
    "        customs = card_info.find('li', class_='CardInfoRow CardInfoRow_customs')\n",
    "        customs = customs.find_all('span')[1].text \n",
    "    except AttributeError:\n",
    "        customs = None\n",
    "        \n",
    "    try:\n",
    "        transmission = card_info.find('li', class_='CardInfoRow CardInfoRow_transmission')\n",
    "        transmission = transmission.find_all('span')[1].text \n",
    "    except AttributeError:\n",
    "        transmission = None\n",
    "        \n",
    "    try:\n",
    "        description = car['description']\n",
    "    except KeyError:\n",
    "        description = None\n",
    "        \n",
    "    body_type_human = car['vehicle_info']['configuration']['human_name']\n",
    "    body_type = car['vehicle_info']['configuration']['body_type']\n",
    "    eng_transmission = car['vehicle_info']['tech_param']['transmission']\n",
    "    engine_volume = car['vehicle_info']['tech_param']['displacement']\n",
    "    engine_volume = round(float(engine_volume) / 1000, 1)\n",
    "    \n",
    "    car_dict = {}\n",
    "    car_dict['bodyType'] = body_type_human\n",
    "    car_dict['brand'] = brand\n",
    "    car_dict['car_url'] = car_url\n",
    "    car_dict['color'] = color\n",
    "    car_dict['complectation_dict'] = car['vehicle_info']['complectation']\n",
    "    car_dict['description'] = description\n",
    "    car_dict['engineDisplacement'] = str(engine_volume) + ' LTR'\n",
    "    car_dict['enginePower'] = str(car['vehicle_info']['tech_param']['power']) + ' N12'\n",
    "    car_dict['equipment_dict'] = car['vehicle_info']['equipment']\n",
    "    car_dict['fuelType'] = fuelType\n",
    "    car_dict['image'] = 'https:' + car['state']['image_urls'][0]['sizes']['small']\n",
    "    car_dict['mileage'] = car['state']['mileage']\n",
    "    car_dict['modelDate'] = car['vehicle_info']['super_gen']['year_from']\n",
    "    car_dict['model_info'] = car['vehicle_info']['model_info']\n",
    "    car_dict['model_name'] = model\n",
    "    car_dict['name'] = car['vehicle_info']['tech_param']['human_name']\n",
    "    car_dict['numberOfDoors'] = car['vehicle_info']['configuration']['doors_count']\n",
    "    car_dict['parsing_unixtime'] = round(time.time())\n",
    "    car_dict['priceCurrency'] = 'RUB'\n",
    "    car_dict['productionDate'] = car['documents']['year']\n",
    "    car_dict['sell_id'] = car['id']\n",
    "    car_dict['super_gen'] = car['vehicle_info']['super_gen']\n",
    "    car_dict['vehicleConfiguration'] = body_type + \" \" + eng_transmission + \" \" + str(engine_volume)\n",
    "    car_dict['vehicleTransmission'] = transmission\n",
    "    car_dict['vendor'] = car['vehicle_info']['vendor']\n",
    "    car_dict['Владельцы'] = ownersCount\n",
    "    car_dict['Владение'] = owningTime\n",
    "    car_dict['ПТС'] = pts\n",
    "    car_dict['Привод'] = drive\n",
    "    car_dict['Руль'] = wheel\n",
    "    car_dict['Состояние'] = state\n",
    "    car_dict['Таможня'] = customs\n",
    "    car_dict['price'] = price\n",
    "    \n",
    "    return car_dict"
   ]
  },
  {
   "cell_type": "code",
   "execution_count": 58,
   "id": "5a71b5ce",
   "metadata": {},
   "outputs": [],
   "source": [
    "def get_cars_data(brands):\n",
    "    cars_lst = []\n",
    "    for brand in tqdm(brands, desc='Brands'):\n",
    "        max_page = get_max_page(brand)\n",
    "        for page in tqdm(range(1, max_page+1), \n",
    "                         leave=False, \n",
    "                         desc='Pages'):\n",
    "            param = get_param(brand, page)\n",
    "            headers = get_headers(brand, page)\n",
    "            cars = get_json(param, headers)\n",
    "            if cars['offers']:\n",
    "                cars = cars['offers']\n",
    "                cars_lst += Pool().map(get_car_dict, cars)\n",
    "                    \n",
    "    return pd.DataFrame([car for car in cars_lst if car])"
   ]
  },
  {
   "cell_type": "code",
   "execution_count": 59,
   "id": "c986c2da",
   "metadata": {
    "scrolled": true
   },
   "outputs": [
    {
     "data": {
      "application/vnd.jupyter.widget-view+json": {
       "model_id": "2a76633f22b0482191c3085772d6ff7d",
       "version_major": 2,
       "version_minor": 0
      },
      "text/plain": [
       "Brands:   0%|          | 0/12 [00:00<?, ?it/s]"
      ]
     },
     "metadata": {},
     "output_type": "display_data"
    },
    {
     "data": {
      "application/vnd.jupyter.widget-view+json": {
       "model_id": "",
       "version_major": 2,
       "version_minor": 0
      },
      "text/plain": [
       "Pages:   0%|          | 0/59 [00:00<?, ?it/s]"
      ]
     },
     "metadata": {},
     "output_type": "display_data"
    },
    {
     "data": {
      "application/vnd.jupyter.widget-view+json": {
       "model_id": "",
       "version_major": 2,
       "version_minor": 0
      },
      "text/plain": [
       "Pages:   0%|          | 0/74 [00:00<?, ?it/s]"
      ]
     },
     "metadata": {},
     "output_type": "display_data"
    },
    {
     "data": {
      "application/vnd.jupyter.widget-view+json": {
       "model_id": "",
       "version_major": 2,
       "version_minor": 0
      },
      "text/plain": [
       "Pages:   0%|          | 0/23 [00:00<?, ?it/s]"
      ]
     },
     "metadata": {},
     "output_type": "display_data"
    },
    {
     "data": {
      "application/vnd.jupyter.widget-view+json": {
       "model_id": "",
       "version_major": 2,
       "version_minor": 0
      },
      "text/plain": [
       "Pages:   0%|          | 0/30 [00:00<?, ?it/s]"
      ]
     },
     "metadata": {},
     "output_type": "display_data"
    },
    {
     "data": {
      "application/vnd.jupyter.widget-view+json": {
       "model_id": "",
       "version_major": 2,
       "version_minor": 0
      },
      "text/plain": [
       "Pages:   0%|          | 0/99 [00:00<?, ?it/s]"
      ]
     },
     "metadata": {},
     "output_type": "display_data"
    },
    {
     "data": {
      "application/vnd.jupyter.widget-view+json": {
       "model_id": "",
       "version_major": 2,
       "version_minor": 0
      },
      "text/plain": [
       "Pages:   0%|          | 0/86 [00:00<?, ?it/s]"
      ]
     },
     "metadata": {},
     "output_type": "display_data"
    },
    {
     "data": {
      "application/vnd.jupyter.widget-view+json": {
       "model_id": "",
       "version_major": 2,
       "version_minor": 0
      },
      "text/plain": [
       "Pages:   0%|          | 0/17 [00:00<?, ?it/s]"
      ]
     },
     "metadata": {},
     "output_type": "display_data"
    },
    {
     "data": {
      "application/vnd.jupyter.widget-view+json": {
       "model_id": "",
       "version_major": 2,
       "version_minor": 0
      },
      "text/plain": [
       "Pages:   0%|          | 0/99 [00:00<?, ?it/s]"
      ]
     },
     "metadata": {},
     "output_type": "display_data"
    },
    {
     "data": {
      "application/vnd.jupyter.widget-view+json": {
       "model_id": "",
       "version_major": 2,
       "version_minor": 0
      },
      "text/plain": [
       "Pages:   0%|          | 0/93 [00:00<?, ?it/s]"
      ]
     },
     "metadata": {},
     "output_type": "display_data"
    },
    {
     "data": {
      "application/vnd.jupyter.widget-view+json": {
       "model_id": "",
       "version_major": 2,
       "version_minor": 0
      },
      "text/plain": [
       "Pages:   0%|          | 0/27 [00:00<?, ?it/s]"
      ]
     },
     "metadata": {},
     "output_type": "display_data"
    },
    {
     "data": {
      "application/vnd.jupyter.widget-view+json": {
       "model_id": "",
       "version_major": 2,
       "version_minor": 0
      },
      "text/plain": [
       "Pages:   0%|          | 0/99 [00:00<?, ?it/s]"
      ]
     },
     "metadata": {},
     "output_type": "display_data"
    },
    {
     "data": {
      "application/vnd.jupyter.widget-view+json": {
       "model_id": "",
       "version_major": 2,
       "version_minor": 0
      },
      "text/plain": [
       "Pages:   0%|          | 0/61 [00:00<?, ?it/s]"
      ]
     },
     "metadata": {},
     "output_type": "display_data"
    }
   ],
   "source": [
    "cars_df = get_cars_data(brands_list)\n",
    "filename = f'autoru-{date.today()}-parsingdate.csv'\n",
    "cars_df.to_csv(filename, index=False)"
   ]
  }
 ],
 "metadata": {
  "kernelspec": {
   "display_name": "Python 3",
   "language": "python",
   "name": "python3"
  },
  "language_info": {
   "codemirror_mode": {
    "name": "ipython",
    "version": 3
   },
   "file_extension": ".py",
   "mimetype": "text/x-python",
   "name": "python",
   "nbconvert_exporter": "python",
   "pygments_lexer": "ipython3",
   "version": "3.8.8"
  }
 },
 "nbformat": 4,
 "nbformat_minor": 5
}
