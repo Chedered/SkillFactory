{
 "cells": [
  {
   "cell_type": "code",
   "execution_count": null,
   "id": "858f6bd1",
   "metadata": {},
   "outputs": [],
   "source": [
    "import numpy as np\n",
    "import pandas as pd\n",
    "from tqdm.notebook import tqdm\n",
    "import json\n",
    "import ast\n",
    "import warnings\n",
    "warnings.filterwarnings(\"ignore\")"
   ]
  },
  {
   "cell_type": "code",
   "execution_count": null,
   "id": "c81b0c6e",
   "metadata": {},
   "outputs": [],
   "source": [
    "def complectation_proccesing(x):\n",
    "    '''Достает список доступных опций модели'''\n",
    "    if pd.isnull(x):\n",
    "        return x\n",
    "    else:\n",
    "        try:\n",
    "            dict_x = json.loads(x)\n",
    "            return list(dict_x.values())[2]\n",
    "        except:\n",
    "            try:\n",
    "                dict_x = ast.literal_eval(x)\n",
    "                return list(dict_x.values())[2]\n",
    "            except:\n",
    "                return np.nan\n",
    "\n",
    "          \n",
    "            \n",
    "def get_dicts(x):\n",
    "    '''Преобразует строку в словарь'''\n",
    "    if pd.isnull(x):\n",
    "        return {'temp': 'temp'}\n",
    "    else:\n",
    "        try:\n",
    "            return json.loads(x)\n",
    "        except:\n",
    "            return ast.literal_eval(x)\n",
    "\n",
    "        \n",
    "        \n",
    "def pct_missing(df, column):\n",
    "    '''Фильтр признаков'''\n",
    "    missing = df[column].isna().mean()*100\n",
    "    if missing > 40: # Сила фильтрации\n",
    "        return column\n",
    "        \n",
    "        \n",
    "        \n",
    "def fill_missing(df, col_x, col_y):\n",
    "    '''\n",
    "    Функция для заполнения пропусков.\n",
    "    \n",
    "    Группирует столбец y по количеству значений. \n",
    "    Затем заменяет пропуски  в столбце x на максимальное \n",
    "    значение из сгруппированного датафрейма.\n",
    "    '''\n",
    "    y_counts = df.groupby([col_y])[col_x].value_counts().unstack().T\n",
    "    values_lst = list(y_counts.columns)\n",
    "    filled_col = df[[col_x, col_y]].apply(lambda x: y_counts[x[1]].idxmax() if \n",
    "                                          pd.isna(x[0]) and x[1] in values_lst else x[0], axis=1)\n",
    "    return filled_col"
   ]
  },
  {
   "cell_type": "code",
   "execution_count": null,
   "id": "271a506e",
   "metadata": {},
   "outputs": [],
   "source": [
    "data = pd.read_csv('temp_data.csv')"
   ]
  },
  {
   "cell_type": "code",
   "execution_count": null,
   "id": "6008a176",
   "metadata": {},
   "outputs": [],
   "source": [
    "'''Преобразуем и сохраняем значения в переменные'''\n",
    "complect = data['complectation'].apply(complectation_proccesing)\n",
    "equip = data['equipment'].apply(get_dicts)\n",
    "gen = data['super_gen'].apply(get_dicts)"
   ]
  },
  {
   "cell_type": "code",
   "execution_count": null,
   "id": "efa8321e",
   "metadata": {},
   "outputs": [],
   "source": [
    "'''Создаем датафреймы на основе переменных со словарями'''\n",
    "equip_df = pd.DataFrame(list(equip))\n",
    "gen_df = pd.DataFrame(list(gen))"
   ]
  },
  {
   "cell_type": "code",
   "execution_count": null,
   "id": "612bc184",
   "metadata": {},
   "outputs": [],
   "source": [
    "'''\n",
    "В equip_df получилось слишком много признаков.\n",
    "Чистим от неинформативных.\n",
    "'''\n",
    "equip_drop_lst = ['PW1','8T6','PL2','9S6','9P5','RAB','PN0','PB0','6XE','PX2','3L5','6NQ','PNQ','9R1','KA2','4D3','235','242',\n",
    " '246','249','270','274','351','364','367','431','448','475','500','501','513','551','670','728','772','776','807','810','824',\n",
    " '871','873','881','882','883','889','927','989','U09','51U','H06','U22','DZ9','P17','B63','RVR','14U','R66','P29','03B','P31',\n",
    " '16U','P44','R01','B16','17U','L5C','WVA','S7N','E0P','2C5','1N1','7AA','9AB','UI4','6XD','3B3','7B2','9S3','4I2','3NZ','4UC',\n",
    " '4UE','4A3','4R2','4R3','6R1','9T1','3Q6','temp']\n",
    "\n",
    "equip_df.drop(equip_drop_lst, axis=1, inplace=True)"
   ]
  },
  {
   "cell_type": "code",
   "execution_count": null,
   "id": "5389abe6",
   "metadata": {},
   "outputs": [],
   "source": [
    "'''Заполняем часть пропусков на основе списков с опциями из complect'''\n",
    "equip_df_col = list(equip_df.columns)\n",
    "equip_df['complect'] = complect\n",
    "for col in tqdm(equip_df_col):\n",
    "    equip_df[col] = equip_df[[col, 'complect']].apply(lambda x: True if col in str(x[1]) else x[0], axis=1)"
   ]
  },
  {
   "cell_type": "code",
   "execution_count": null,
   "id": "7f5ce323",
   "metadata": {},
   "outputs": [],
   "source": [
    "'''Чистим признаки на основе данных о complect'''\n",
    "drop_cols = []\n",
    "for col in equip_df_col:\n",
    "    drop_cols.append(pct_missing(equip_df[equip_df['complect'].notnull()], col))\n",
    "drop_cols = list(filter(None, drop_cols))\n",
    "equip_df.drop(drop_cols+['complect'], axis=1, inplace=True)"
   ]
  },
  {
   "cell_type": "code",
   "execution_count": null,
   "id": "a0b6f904",
   "metadata": {},
   "outputs": [],
   "source": [
    "'''\n",
    "Заполняем часть пропусков в зависимости от модели.\n",
    "Остальные заполняем False\n",
    "'''\n",
    "equip_df_col = list(equip_df.columns)\n",
    "equip_df['model'] = data['model_name']\n",
    "\n",
    "for col in tqdm(equip_df_col):\n",
    "    equip_df[col] = fill_missing(equip_df, col, 'model')\n",
    "\n",
    "equip_df.drop(['model'], axis=1, inplace=True)\n",
    "equip_df = equip_df.fillna(False)"
   ]
  },
  {
   "cell_type": "code",
   "execution_count": null,
   "id": "849863a7",
   "metadata": {},
   "outputs": [],
   "source": [
    "'''Фильтруем датафрейм по интересующим нас признакам'''\n",
    "gen_df_cols = ['acceleration', 'clearance_min', 'fuel_rate']\n",
    "gen_df = gen_df[gen_df_cols]"
   ]
  },
  {
   "cell_type": "code",
   "execution_count": null,
   "id": "2441412d",
   "metadata": {},
   "outputs": [],
   "source": [
    "'''Заполняем часть пропусков в зависимости от модели'''\n",
    "gen_df['model'] = data['model_name']\n",
    "for col in tqdm(gen_df_cols):\n",
    "    gen_df[col] = fill_missing(gen_df, col, 'model')\n",
    "\n",
    "gen_df.drop(['model'], axis=1, inplace=True)"
   ]
  },
  {
   "cell_type": "code",
   "execution_count": null,
   "id": "f29e604a",
   "metadata": {},
   "outputs": [],
   "source": [
    "'''Заполняем часть пропусков в зависимости от мощности двигателя'''\n",
    "gen_df['power'] = data['engine_power']\n",
    "for col in tqdm(gen_df_cols):\n",
    "    gen_df[col] = fill_missing(gen_df, col, 'power')\n",
    "\n",
    "gen_df.drop(['power'], axis=1, inplace=True)"
   ]
  },
  {
   "cell_type": "code",
   "execution_count": null,
   "id": "08277eef",
   "metadata": {},
   "outputs": [],
   "source": [
    "'''Заполняем часть пропусков в зависимости от объема двигателя'''\n",
    "gen_df['volume'] = data['engine_volume']\n",
    "for col in tqdm(gen_df_cols):\n",
    "    gen_df[col] = fill_missing(gen_df, col, 'volume')\n",
    "\n",
    "gen_df.drop(['volume'], axis=1, inplace=True)"
   ]
  },
  {
   "cell_type": "code",
   "execution_count": null,
   "id": "26cd90f9",
   "metadata": {},
   "outputs": [],
   "source": [
    "'''Заполняем оставшиеся пропуски'''\n",
    "gen_df['acceleration'] = gen_df['acceleration'].fillna(gen_df['acceleration'].min())\n",
    "gen_df['fuel_rate'] = gen_df['fuel_rate'].fillna(gen_df['fuel_rate'].min())\n",
    "gen_df['clearance_min'] = gen_df['clearance_min'].fillna(round(gen_df['clearance_min'].mean()))"
   ]
  },
  {
   "cell_type": "code",
   "execution_count": null,
   "id": "cffe2c8b",
   "metadata": {},
   "outputs": [],
   "source": [
    "'''Объединяем датасеты и сохраняем в файл'''\n",
    "final_df = equip_df.join(gen_df)\n",
    "final_df.to_csv('dict_data.csv', index=False)"
   ]
  }
 ],
 "metadata": {
  "kernelspec": {
   "display_name": "Python 3",
   "language": "python",
   "name": "python3"
  },
  "language_info": {
   "codemirror_mode": {
    "name": "ipython",
    "version": 3
   },
   "file_extension": ".py",
   "mimetype": "text/x-python",
   "name": "python",
   "nbconvert_exporter": "python",
   "pygments_lexer": "ipython3",
   "version": "3.8.8"
  }
 },
 "nbformat": 4,
 "nbformat_minor": 5
}
