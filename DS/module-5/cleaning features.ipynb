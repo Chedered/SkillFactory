{
 "cells": [
  {
   "cell_type": "code",
   "execution_count": null,
   "id": "cf122fdb",
   "metadata": {},
   "outputs": [],
   "source": [
    "import numpy as np\n",
    "import pandas as pd\n",
    "\n",
    "from IPython.display import Markdown, display\n",
    "\n",
    "from tqdm.notebook import tqdm\n",
    "\n",
    "from sklearn.ensemble import ExtraTreesRegressor\n",
    "from sklearn.model_selection import train_test_split\n",
    "from sklearn.model_selection import KFold"
   ]
  },
  {
   "cell_type": "code",
   "execution_count": null,
   "id": "4f1bb9a1",
   "metadata": {},
   "outputs": [],
   "source": [
    "RANDOM_SEED = 42\n",
    "VAL_SIZE   = 0.20"
   ]
  },
  {
   "cell_type": "code",
   "execution_count": null,
   "id": "9859dfa2",
   "metadata": {},
   "outputs": [],
   "source": [
    "def printmd(string):\n",
    "    '''Продвинутый вывод строк'''\n",
    "    display(Markdown(string))\n",
    "\n",
    "\n",
    "\n",
    "def mape(y_true, y_pred):\n",
    "    '''Ключевая метрика'''\n",
    "    return np.mean(np.abs((y_pred-y_true)/y_true))\n",
    "\n",
    "\n",
    "def search_bad_features(df, goal, model, metric_value, col_lst, r=2, cv=4):\n",
    "    '''Ищет признаки, ухудшающие модель\n",
    "\n",
    "    Удаляет признак, обучает модель и сверяет метрики.\n",
    "    Если показатели улучшились, удаляет признак из изначальной выборки\n",
    "    и снова запускает цикл, пока метрики не перестанут улучшаться.\n",
    "    Параметр r отвечает за точность метрик.\n",
    "    '''\n",
    "    \n",
    "    min_mape = round(metric_value, r)\n",
    "    drop_lst = []\n",
    "    cnt = 0\n",
    "    while True:\n",
    "        temp_lst = []\n",
    "        for i, col in enumerate (tqdm(col_lst, leave=False, desc='Cols')):\n",
    "            if len(temp_lst) != 0:\n",
    "                continue\n",
    "\n",
    "            X_func = df.drop([goal]+[col]+drop_lst, axis=1).reset_index(drop=True)\n",
    "            y_func = df[goal].values\n",
    "\n",
    "            temp_min_mape = round(kfold_validation(model, X_func, y_func, cv=cv), r)\n",
    "\n",
    "            if temp_min_mape < min_mape:\n",
    "                min_mape = temp_min_mape\n",
    "                temp_lst.append(col)\n",
    "                printmd(f\"*Столбец для удаления:* ***{col}.***\")\n",
    "                printmd(f\"*Значение метрики* ***MAPE - {min_mape}***\")\n",
    "\n",
    "        drop_lst += temp_lst\n",
    "        for drop in drop_lst:\n",
    "            if drop in col_lst:\n",
    "                col_lst.remove(drop)\n",
    "        if cnt != len(drop_lst):\n",
    "            cnt = len(drop_lst)\n",
    "        else:\n",
    "            break\n",
    "\n",
    "    if len(drop_lst) == 0:\n",
    "        printmd(\"**Нет признаков для удаления**\")\n",
    "    else:\n",
    "        drop_cols = ', '.join(drop_lst)\n",
    "        printmd(f\"Признаки для удаления: **{drop_cols}**\")\n",
    "\n",
    "    return drop_lst\n",
    "\n",
    "\n",
    "\n",
    "def kfold_validation(model, X, y, cv=4): \n",
    "    '''Кросс-валидация алгоритма'''\n",
    "    skf = KFold(n_splits=cv, shuffle=True, random_state=RANDOM_SEED)\n",
    "    mape_values = []\n",
    "\n",
    "    for train_index, test_index in tqdm(skf.split(X, y), leave=False, desc='kv'):\n",
    "        X_train = X.filter(items=train_index, axis=0)\n",
    "        X_test = X.filter(items=test_index, axis=0)\n",
    "        y_train = y[train_index]\n",
    "        y_test = y[test_index]\n",
    "\n",
    "        # For training, fit() is used\n",
    "        model.fit(X_train, np.log(y_train))\n",
    "\n",
    "        # For MAPE metric (or any other), we need the predictions of the model\n",
    "        y_pred = np.exp(model.predict(X_test))\n",
    "\n",
    "        mape_value = mape(y_test, y_pred)\n",
    "        mape_values.append(mape_value)\n",
    "\n",
    "    return np.mean(mape_values)"
   ]
  },
  {
   "cell_type": "code",
   "execution_count": null,
   "id": "17a22ac6",
   "metadata": {},
   "outputs": [],
   "source": [
    "'''Предобработка датасета'''\n",
    "data = pd.read_csv('my_data.csv')\n",
    "data['year'] = data['data'].apply(lambda x: 1 if x == 'parsed' else 0)\n",
    "data = data[data['data'] != 'test'].drop(['data']+['parsing_date_to_now'], axis=1)"
   ]
  },
  {
   "cell_type": "code",
   "execution_count": null,
   "id": "a6d7e889",
   "metadata": {},
   "outputs": [],
   "source": [
    "X = data.drop(['price'], axis=1).reset_index(drop=True)\n",
    "y = data['price'].values"
   ]
  },
  {
   "cell_type": "code",
   "execution_count": null,
   "id": "d39c4850",
   "metadata": {},
   "outputs": [],
   "source": [
    "X_train, X_test, y_train, y_test = train_test_split(X, y, test_size=VAL_SIZE, shuffle=True, random_state=RANDOM_SEED)"
   ]
  },
  {
   "cell_type": "code",
   "execution_count": null,
   "id": "53005894",
   "metadata": {},
   "outputs": [],
   "source": [
    "'''Первичное обучение модели для получения начальной метрики'''\n",
    "etr_log = ExtraTreesRegressor(random_state=RANDOM_SEED, n_jobs=-1)\n",
    "MAPE = kfold_validation(etr_log, X, y, cv=10)\n",
    "printmd(f\"*Значение метрики* ***MAPE - {(MAPE)*100:0.2f}%***\")"
   ]
  },
  {
   "cell_type": "code",
   "execution_count": null,
   "id": "0cc42f60",
   "metadata": {},
   "outputs": [],
   "source": [
    "'''\n",
    "Формирование списка признаков для для дальнейшей проверки.\n",
    "Сортирует от наименее важного к наиболее.\n",
    "'''\n",
    "feat_importances = pd.Series(etr_log.feature_importances_, index=X.columns)\n",
    "feat_cnt = len(pd.Series(etr_log.feature_importances_, index=X.columns))\n",
    "feat_lst = list(feat_importances.nsmallest(feat_cnt).index)"
   ]
  },
  {
   "cell_type": "code",
   "execution_count": null,
   "id": "e9a1da76",
   "metadata": {},
   "outputs": [],
   "source": [
    "'''Получение списка признаков на удаление'''\n",
    "drop_lst = search_bad_features(data, 'price', etr_log, MAPE, feat_lst, r=5, cv=10)\n",
    "print(drop_lst)"
   ]
  }
 ],
 "metadata": {
  "kernelspec": {
   "display_name": "Python 3",
   "language": "python",
   "name": "python3"
  },
  "language_info": {
   "codemirror_mode": {
    "name": "ipython",
    "version": 3
   },
   "file_extension": ".py",
   "mimetype": "text/x-python",
   "name": "python",
   "nbconvert_exporter": "python",
   "pygments_lexer": "ipython3",
   "version": "3.8.8"
  }
 },
 "nbformat": 4,
 "nbformat_minor": 5
}
