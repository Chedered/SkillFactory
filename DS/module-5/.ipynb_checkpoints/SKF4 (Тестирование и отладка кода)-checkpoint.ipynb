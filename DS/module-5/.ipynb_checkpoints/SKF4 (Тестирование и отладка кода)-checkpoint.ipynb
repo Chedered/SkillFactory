{
 "cells": [
  {
   "cell_type": "markdown",
   "metadata": {},
   "source": [
    "# Содержание<a name=\"0\"></a>"
   ]
  },
  {
   "cell_type": "markdown",
   "metadata": {},
   "source": [
    "1. [Чтение сообщений об ошибках](#1)\n",
    "2. [Исключения](#2)\n",
    "3. [Стэк вызова](#3)\n",
    "4. [Что такое исключение](#4)\n",
    "5. [Обработка исключений](#5)\n",
    "6. [Осознанная обработка исключений](#6)\n",
    "7. [Иерархия исключений](#7)\n",
    "8. [Детали try-except](#8)\n",
    "9. [Отладка: введение](#9)\n",
    "10. [Отладка исключений](#10)\n",
    "11. [Отладка через print](#11)\n",
    "12. [Отлов багов](#12)\n",
    "13. [Смысл тестирования](#13)\n",
    "14. [V-мера. Практика](#14)\n",
    "15. [Автоматическое тестирование](#15)\n",
    "16. [Типы тестов](#16)"
   ]
  },
  {
   "cell_type": "markdown",
   "metadata": {},
   "source": [
    "---"
   ]
  },
  {
   "cell_type": "markdown",
   "metadata": {},
   "source": [
    "# Чтение сообщений об ошибках<a name=\"1\"></a>"
   ]
  },
  {
   "cell_type": "markdown",
   "metadata": {},
   "source": [
    "**Программа** — набор **инструкций**, которые мы отправляем интерпретатору. Когда интерпретатор не понимает наших инструкций, он сообщает об этом. В сообщениях об ошибках в *Python* содержится много полезной информации, и правильно их читать — полезный навык.\n",
    "\n",
    "Мы допустили **синтаксическую ошибку** и получили сообщение:"
   ]
  },
  {
   "cell_type": "code",
   "execution_count": 3,
   "metadata": {},
   "outputs": [
    {
     "ename": "SyntaxError",
     "evalue": "EOL while scanning string literal (<ipython-input-3-f67a3b4ec1d7>, line 1)",
     "output_type": "error",
     "traceback": [
      "\u001b[1;36m  File \u001b[1;32m\"<ipython-input-3-f67a3b4ec1d7>\"\u001b[1;36m, line \u001b[1;32m1\u001b[0m\n\u001b[1;33m    print(\"hello')\u001b[0m\n\u001b[1;37m                   ^\u001b[0m\n\u001b[1;31mSyntaxError\u001b[0m\u001b[1;31m:\u001b[0m EOL while scanning string literal\n"
     ]
    }
   ],
   "source": [
    "print(\"hello') "
   ]
  },
  {
   "cell_type": "markdown",
   "metadata": {},
   "source": [
    "На что стоит обратить внимание:\n",
    "\n",
    "* Сообщение начинается с **названия файла**, где допущена ошибка. В примере это ячейка из *Jupyter*, поэтому название является техническим. Если вы собираете проект из многих файлов, то здесь будет имя соответствующего файла.\n",
    "* После названия файла идёт **номер строки** с ошибкой, в данном случае — первая строка (line 1).\n",
    "* Дальше выводится **строка** из кода, так что вы сразу можете оценить, что пошло не так.\n",
    "* В конце указывается, что это была синтаксическая ошибка (**SyntaxError**), и идёт пояснительное сообщение. У разных синтаксических ошибок пояснительное сообщение разное и обычно позволяет понять, как исправить ошибку.  \n",
    "\n",
    "Лучше начинать чтение сообщения с конца, чтобы понять, на что жалуется интерпретатор, а потом уже смотреть, где именно."
   ]
  },
  {
   "cell_type": "markdown",
   "metadata": {},
   "source": [
    "[К содержанию](#0)"
   ]
  },
  {
   "cell_type": "markdown",
   "metadata": {},
   "source": [
    "---"
   ]
  },
  {
   "cell_type": "markdown",
   "metadata": {},
   "source": [
    "# Исключения<a name=\"2\"></a>"
   ]
  },
  {
   "cell_type": "markdown",
   "metadata": {},
   "source": [
    "**Синтаксические ошибки** исправлять проще всего: это небольшие **опечатки**, и даже если мы их допустили, часто они находятся в одной строчке, на которую нам указывает интерпретатор. Более интересный класс ошибок — **исключения**, неудачные сочетания логики и данных:"
   ]
  },
  {
   "cell_type": "code",
   "execution_count": 4,
   "metadata": {},
   "outputs": [
    {
     "ename": "ZeroDivisionError",
     "evalue": "division by zero",
     "output_type": "error",
     "traceback": [
      "\u001b[1;31m---------------------------------------------------------------------------\u001b[0m",
      "\u001b[1;31mZeroDivisionError\u001b[0m                         Traceback (most recent call last)",
      "\u001b[1;32m<ipython-input-4-aea8a4a1beb7>\u001b[0m in \u001b[0;36m<module>\u001b[1;34m\u001b[0m\n\u001b[1;32m----> 1\u001b[1;33m \u001b[0ma\u001b[0m \u001b[1;33m=\u001b[0m \u001b[1;36m5\u001b[0m \u001b[1;33m/\u001b[0m \u001b[1;36m0\u001b[0m\u001b[1;33m\u001b[0m\u001b[1;33m\u001b[0m\u001b[0m\n\u001b[0m",
      "\u001b[1;31mZeroDivisionError\u001b[0m: division by zero"
     ]
    }
   ],
   "source": [
    "a = 5 / 0  "
   ]
  },
  {
   "cell_type": "markdown",
   "metadata": {},
   "source": [
    "Мы стали делить на ноль, и *Python* вывел сообщение об ошибке, так же как и с синтаксической ошибкой:\n",
    "\n",
    "* название исключения (**ZeroDivisionError**);\n",
    "* файл, номер строки и сама строка с ошибкой;\n",
    "* название исключения повторяется и добавляется поясняющее сообщение *division by zero*.  \n",
    "\n",
    "Если ошибка будет в другом, название исключения и поясняющее сообщение изменится:"
   ]
  },
  {
   "cell_type": "code",
   "execution_count": 5,
   "metadata": {},
   "outputs": [
    {
     "ename": "KeyError",
     "evalue": "'cheburshka'",
     "output_type": "error",
     "traceback": [
      "\u001b[1;31m---------------------------------------------------------------------------\u001b[0m",
      "\u001b[1;31mKeyError\u001b[0m                                  Traceback (most recent call last)",
      "\u001b[1;32m<ipython-input-5-84db41cde3e6>\u001b[0m in \u001b[0;36m<module>\u001b[1;34m\u001b[0m\n\u001b[0;32m      1\u001b[0m \u001b[0mdictionary\u001b[0m \u001b[1;33m=\u001b[0m \u001b[1;33m{\u001b[0m\u001b[1;34m\"cheboksary\"\u001b[0m\u001b[1;33m:\u001b[0m \u001b[1;34m\"city\"\u001b[0m\u001b[1;33m,\u001b[0m \u001b[1;34m\"cheburek\"\u001b[0m\u001b[1;33m:\u001b[0m \u001b[1;34m\"food\"\u001b[0m\u001b[1;33m}\u001b[0m\u001b[1;33m\u001b[0m\u001b[1;33m\u001b[0m\u001b[0m\n\u001b[1;32m----> 2\u001b[1;33m \u001b[0mdictionary\u001b[0m\u001b[1;33m[\u001b[0m\u001b[1;34m\"cheburshka\"\u001b[0m\u001b[1;33m]\u001b[0m\u001b[1;33m\u001b[0m\u001b[1;33m\u001b[0m\u001b[0m\n\u001b[0m",
      "\u001b[1;31mKeyError\u001b[0m: 'cheburshka'"
     ]
    }
   ],
   "source": [
    "dictionary = {\"cheboksary\": \"city\", \"cheburek\": \"food\"}  \n",
    "dictionary[\"cheburshka\"] "
   ]
  },
  {
   "cell_type": "markdown",
   "metadata": {},
   "source": [
    "В этом примере мы получили **KeyError** — отсутствующий **ключ** в словаре и сам ключ."
   ]
  },
  {
   "cell_type": "markdown",
   "metadata": {},
   "source": [
    "[К содержанию](#0)"
   ]
  },
  {
   "cell_type": "markdown",
   "metadata": {},
   "source": [
    "---"
   ]
  },
  {
   "cell_type": "markdown",
   "metadata": {},
   "source": [
    "# Стэк вызова<a name=\"3\"></a>"
   ]
  },
  {
   "cell_type": "markdown",
   "metadata": {},
   "source": [
    "Мы говорили, что в сообщении об ошибке указывается **файл** и **номер строки**, где она случилась. На самом деле указывается **стэк вызова (Traceback)**. Это весь путь, который проходит интерпретатор до того, как встретил ошибку. Посмотрим на примере: программа генерирует номера домов на улице, добавляя номер дома к названию улицы:"
   ]
  },
  {
   "cell_type": "code",
   "execution_count": 6,
   "metadata": {},
   "outputs": [
    {
     "ename": "TypeError",
     "evalue": "can only concatenate str (not \"int\") to str",
     "output_type": "error",
     "traceback": [
      "\u001b[1;31m---------------------------------------------------------------------------\u001b[0m",
      "\u001b[1;31mTypeError\u001b[0m                                 Traceback (most recent call last)",
      "\u001b[1;32m<ipython-input-6-f1e592a89e52>\u001b[0m in \u001b[0;36m<module>\u001b[1;34m\u001b[0m\n\u001b[0;32m     10\u001b[0m     \u001b[1;32mreturn\u001b[0m \u001b[0maddresses\u001b[0m\u001b[1;33m\u001b[0m\u001b[1;33m\u001b[0m\u001b[0m\n\u001b[0;32m     11\u001b[0m \u001b[1;33m\u001b[0m\u001b[0m\n\u001b[1;32m---> 12\u001b[1;33m \u001b[0mstreet\u001b[0m\u001b[1;33m(\u001b[0m\u001b[1;34m\"Tverskaya\"\u001b[0m\u001b[1;33m,\u001b[0m \u001b[1;36m7\u001b[0m\u001b[1;33m)\u001b[0m\u001b[1;33m\u001b[0m\u001b[1;33m\u001b[0m\u001b[0m\n\u001b[0m",
      "\u001b[1;32m<ipython-input-6-f1e592a89e52>\u001b[0m in \u001b[0;36mstreet\u001b[1;34m(street_name, last_house)\u001b[0m\n\u001b[0;32m      7\u001b[0m     \u001b[0maddresses\u001b[0m \u001b[1;33m=\u001b[0m \u001b[1;33m[\u001b[0m\u001b[1;33m]\u001b[0m\u001b[1;33m\u001b[0m\u001b[1;33m\u001b[0m\u001b[0m\n\u001b[0;32m      8\u001b[0m     \u001b[1;32mfor\u001b[0m \u001b[0mi\u001b[0m \u001b[1;32min\u001b[0m \u001b[0mrange\u001b[0m\u001b[1;33m(\u001b[0m\u001b[0mlast_house\u001b[0m\u001b[1;33m)\u001b[0m\u001b[1;33m:\u001b[0m\u001b[1;33m\u001b[0m\u001b[1;33m\u001b[0m\u001b[0m\n\u001b[1;32m----> 9\u001b[1;33m         \u001b[0maddresses\u001b[0m\u001b[1;33m.\u001b[0m\u001b[0mappend\u001b[0m\u001b[1;33m(\u001b[0m\u001b[0mhouse_address\u001b[0m\u001b[1;33m(\u001b[0m\u001b[0mstreet_name\u001b[0m\u001b[1;33m,\u001b[0m \u001b[0mi\u001b[0m\u001b[1;33m+\u001b[0m\u001b[1;36m1\u001b[0m\u001b[1;33m)\u001b[0m\u001b[1;33m)\u001b[0m\u001b[1;33m\u001b[0m\u001b[1;33m\u001b[0m\u001b[0m\n\u001b[0m\u001b[0;32m     10\u001b[0m     \u001b[1;32mreturn\u001b[0m \u001b[0maddresses\u001b[0m\u001b[1;33m\u001b[0m\u001b[1;33m\u001b[0m\u001b[0m\n\u001b[0;32m     11\u001b[0m \u001b[1;33m\u001b[0m\u001b[0m\n",
      "\u001b[1;32m<ipython-input-6-f1e592a89e52>\u001b[0m in \u001b[0;36mhouse_address\u001b[1;34m(street, number)\u001b[0m\n\u001b[0;32m      1\u001b[0m \u001b[1;31m# адрес одного дома\u001b[0m\u001b[1;33m\u001b[0m\u001b[1;33m\u001b[0m\u001b[1;33m\u001b[0m\u001b[0m\n\u001b[0;32m      2\u001b[0m \u001b[1;32mdef\u001b[0m \u001b[0mhouse_address\u001b[0m\u001b[1;33m(\u001b[0m\u001b[0mstreet\u001b[0m\u001b[1;33m,\u001b[0m \u001b[0mnumber\u001b[0m\u001b[1;33m)\u001b[0m\u001b[1;33m:\u001b[0m\u001b[1;33m\u001b[0m\u001b[1;33m\u001b[0m\u001b[0m\n\u001b[1;32m----> 3\u001b[1;33m     \u001b[1;32mreturn\u001b[0m \u001b[0mstreet\u001b[0m \u001b[1;33m+\u001b[0m \u001b[1;34m' '\u001b[0m \u001b[1;33m+\u001b[0m \u001b[0mnumber\u001b[0m\u001b[1;33m\u001b[0m\u001b[1;33m\u001b[0m\u001b[0m\n\u001b[0m\u001b[0;32m      4\u001b[0m \u001b[1;33m\u001b[0m\u001b[0m\n\u001b[0;32m      5\u001b[0m \u001b[1;31m# адреса домов на улице\u001b[0m\u001b[1;33m\u001b[0m\u001b[1;33m\u001b[0m\u001b[1;33m\u001b[0m\u001b[0m\n",
      "\u001b[1;31mTypeError\u001b[0m: can only concatenate str (not \"int\") to str"
     ]
    }
   ],
   "source": [
    "# адрес одного дома  \n",
    "def house_address(street, number):  \n",
    "    return street + ' ' + number   \n",
    "  \n",
    "# адреса домов на улице  \n",
    "def street(street_name, last_house):  \n",
    "    addresses = []  \n",
    "    for i in range(last_house):  \n",
    "        addresses.append(house_address(street_name, i+1))  \n",
    "    return addresses   \n",
    "  \n",
    "street(\"Tverskaya\", 7)  "
   ]
  },
  {
   "cell_type": "markdown",
   "metadata": {},
   "source": [
    "Мы сначала вызвали **функцию street**, которая воспользовалась **house_address**, где уже закралась ошибка. Сообщение большое и может казаться неподъёмным, но это просто **список** всех наших функций с их местоположением и кодом, приведённый в том порядке, как мы их вызывали:\n",
    "\n",
    "* вызов *street* на 12-ой строчке;\n",
    "* вызов *house_address* внутри street на 9-ой;\n",
    "* ошибка на 3-ей строчке;\n",
    "* интерпретатор получил число там, где ожидал строку.  \n",
    "\n",
    "Мы пытаемся сложить **строку street** с **числом number**. Достаточно поменять street + ' ' + number на форматированную строку f\"{street} {number}\", чтобы программа корректно заработала."
   ]
  },
  {
   "cell_type": "markdown",
   "metadata": {},
   "source": [
    "### Зачем такой стэк"
   ]
  },
  {
   "cell_type": "markdown",
   "metadata": {},
   "source": [
    "Зачем нам предыдущие шаги в стэке вызова, если в конце показывается истинное место ошибки? Причины две:\n",
    "\n",
    "* Одна и та же функция может вызваться в разных местах с разными данными: полный путь помогает понять контекст.\n",
    "* Вы пользуетесь сторонней библиотекой и некорректно применили функцию из неё: тогда ошибка может уйти глубже, и в конце стэка будут показываться нерелеватные внутренности библиотеки, а нужная функция будет в середине стэка."
   ]
  },
  {
   "cell_type": "markdown",
   "metadata": {},
   "source": [
    "[К содержанию](#0)"
   ]
  },
  {
   "cell_type": "markdown",
   "metadata": {},
   "source": [
    "---"
   ]
  },
  {
   "cell_type": "markdown",
   "metadata": {},
   "source": [
    "# Что такое исключение<a name=\"4\"></a>"
   ]
  },
  {
   "cell_type": "markdown",
   "metadata": {},
   "source": [
    "При ошибках *Python* генерирует исключения: разберёмся, что это такое и откуда они берутся. **Исключения** — это ещё один тип данных, как строки или числа."
   ]
  },
  {
   "cell_type": "code",
   "execution_count": 7,
   "metadata": {},
   "outputs": [
    {
     "name": "stdout",
     "output_type": "stream",
     "text": [
      "<class 'str'>\n",
      "<class 'int'>\n",
      "<class 'ValueError'>\n"
     ]
    }
   ],
   "source": [
    "print(type(\"Skillfactory\"))   \n",
    "print(type(42))  \n",
    "print(type(ValueError()))   "
   ]
  },
  {
   "cell_type": "markdown",
   "metadata": {},
   "source": [
    "Когда программа встречает некорректные ситуации, она выбрасывает исключения. Для базовых случаев это делает сам **интерпретатор**, но могут делать и авторы библиотек и программ в определённых ситуациях. Для этого есть специальный синтаксис **raise Exception()**."
   ]
  },
  {
   "cell_type": "code",
   "execution_count": 8,
   "metadata": {},
   "outputs": [
    {
     "ename": "RuntimeError",
     "evalue": "",
     "output_type": "error",
     "traceback": [
      "\u001b[1;31m---------------------------------------------------------------------------\u001b[0m",
      "\u001b[1;31mRuntimeError\u001b[0m                              Traceback (most recent call last)",
      "\u001b[1;32m<ipython-input-8-38bb3ecd1e57>\u001b[0m in \u001b[0;36m<module>\u001b[1;34m\u001b[0m\n\u001b[1;32m----> 1\u001b[1;33m \u001b[1;32mraise\u001b[0m \u001b[0mRuntimeError\u001b[0m\u001b[1;33m(\u001b[0m\u001b[1;33m)\u001b[0m\u001b[1;33m\u001b[0m\u001b[1;33m\u001b[0m\u001b[0m\n\u001b[0m",
      "\u001b[1;31mRuntimeError\u001b[0m: "
     ]
    }
   ],
   "source": [
    "raise RuntimeError()"
   ]
  },
  {
   "cell_type": "markdown",
   "metadata": {},
   "source": [
    "Зачем специально **генерировать ошибку** в собственном коде? Для того, чтобы писать более **предсказуемый код**, во многих ситуациях выбросить ошибку лучше, чем работать с некорректными данными. Выбрасывание исключений является повсеместной практикой в *Python* и других языках программирования.\n",
    "\n",
    "Давайте посмотрим на примере: у вас есть функция, которая сортирует объекты и делает разные действия. Пусть она сортирует фрукты на яблоки и апельсины:"
   ]
  },
  {
   "cell_type": "code",
   "execution_count": 9,
   "metadata": {},
   "outputs": [
    {
     "name": "stdout",
     "output_type": "stream",
     "text": [
      "Ready to eat\n"
     ]
    }
   ],
   "source": [
    "def show_fruit(fruit):  \n",
    "    if fruit == \"apple\":  \n",
    "        print(\"Ready to eat\")  \n",
    "    elif fruit == \"orange\":  \n",
    "        print(\"You need to peel first\")  \n",
    "        \n",
    "show_fruit(\"apple\")"
   ]
  },
  {
   "cell_type": "markdown",
   "metadata": {},
   "source": [
    "Что произойдёт, если мы вызовем эту функцию для морковки? Ничего: мы некорректно использовали функцию, и она нам позволила это сделать. Более корректно было бы выбросить ошибку:"
   ]
  },
  {
   "cell_type": "code",
   "execution_count": 10,
   "metadata": {},
   "outputs": [
    {
     "name": "stdout",
     "output_type": "stream",
     "text": [
      "Ready to eat\n"
     ]
    },
    {
     "ename": "ValueError",
     "evalue": "",
     "output_type": "error",
     "traceback": [
      "\u001b[1;31m---------------------------------------------------------------------------\u001b[0m",
      "\u001b[1;31mValueError\u001b[0m                                Traceback (most recent call last)",
      "\u001b[1;32m<ipython-input-10-fa911b2d6004>\u001b[0m in \u001b[0;36m<module>\u001b[1;34m\u001b[0m\n\u001b[0;32m      8\u001b[0m \u001b[1;33m\u001b[0m\u001b[0m\n\u001b[0;32m      9\u001b[0m \u001b[0mshow_fruit\u001b[0m\u001b[1;33m(\u001b[0m\u001b[1;34m\"apple\"\u001b[0m\u001b[1;33m)\u001b[0m\u001b[1;33m\u001b[0m\u001b[1;33m\u001b[0m\u001b[0m\n\u001b[1;32m---> 10\u001b[1;33m \u001b[0mshow_fruit\u001b[0m\u001b[1;33m(\u001b[0m\u001b[1;34m\"carrot\"\u001b[0m\u001b[1;33m)\u001b[0m\u001b[1;33m\u001b[0m\u001b[1;33m\u001b[0m\u001b[0m\n\u001b[0m",
      "\u001b[1;32m<ipython-input-10-fa911b2d6004>\u001b[0m in \u001b[0;36mshow_fruit\u001b[1;34m(fruit)\u001b[0m\n\u001b[0;32m      5\u001b[0m         \u001b[0mprint\u001b[0m\u001b[1;33m(\u001b[0m\u001b[1;34m\"You need to peel first\"\u001b[0m\u001b[1;33m)\u001b[0m\u001b[1;33m\u001b[0m\u001b[1;33m\u001b[0m\u001b[0m\n\u001b[0;32m      6\u001b[0m     \u001b[1;32melse\u001b[0m\u001b[1;33m:\u001b[0m\u001b[1;33m\u001b[0m\u001b[1;33m\u001b[0m\u001b[0m\n\u001b[1;32m----> 7\u001b[1;33m         \u001b[1;32mraise\u001b[0m \u001b[0mValueError\u001b[0m\u001b[1;33m(\u001b[0m\u001b[1;33m)\u001b[0m\u001b[1;33m\u001b[0m\u001b[1;33m\u001b[0m\u001b[0m\n\u001b[0m\u001b[0;32m      8\u001b[0m \u001b[1;33m\u001b[0m\u001b[0m\n\u001b[0;32m      9\u001b[0m \u001b[0mshow_fruit\u001b[0m\u001b[1;33m(\u001b[0m\u001b[1;34m\"apple\"\u001b[0m\u001b[1;33m)\u001b[0m\u001b[1;33m\u001b[0m\u001b[1;33m\u001b[0m\u001b[0m\n",
      "\u001b[1;31mValueError\u001b[0m: "
     ]
    }
   ],
   "source": [
    "def show_fruit(fruit):  \n",
    "    if fruit == \"apple\":  \n",
    "        print(\"Ready to eat\")  \n",
    "    elif fruit == \"orange\":  \n",
    "        print(\"You need to peel first\")  \n",
    "    else:  \n",
    "        raise ValueError()  \n",
    "\n",
    "show_fruit(\"apple\")   \n",
    "show_fruit(\"carrot\")  "
   ]
  },
  {
   "cell_type": "markdown",
   "metadata": {},
   "source": [
    "Здесь мы выбросили **ошибку значения** для некорректных данных (**ValueError**), но ошибка не информативная. Мы можем добавить поясняющее сообщение в скобках, чтобы было проще понять причину."
   ]
  },
  {
   "cell_type": "code",
   "execution_count": 11,
   "metadata": {},
   "outputs": [
    {
     "name": "stdout",
     "output_type": "stream",
     "text": [
      "Ready to eat\n"
     ]
    },
    {
     "ename": "ValueError",
     "evalue": "You need to pass correct fruit",
     "output_type": "error",
     "traceback": [
      "\u001b[1;31m---------------------------------------------------------------------------\u001b[0m",
      "\u001b[1;31mValueError\u001b[0m                                Traceback (most recent call last)",
      "\u001b[1;32m<ipython-input-11-6dce056aa4af>\u001b[0m in \u001b[0;36m<module>\u001b[1;34m\u001b[0m\n\u001b[0;32m      8\u001b[0m \u001b[1;33m\u001b[0m\u001b[0m\n\u001b[0;32m      9\u001b[0m \u001b[0mshow_fruit\u001b[0m\u001b[1;33m(\u001b[0m\u001b[1;34m\"apple\"\u001b[0m\u001b[1;33m)\u001b[0m\u001b[1;33m\u001b[0m\u001b[1;33m\u001b[0m\u001b[0m\n\u001b[1;32m---> 10\u001b[1;33m \u001b[0mshow_fruit\u001b[0m\u001b[1;33m(\u001b[0m\u001b[1;34m\"carrot\"\u001b[0m\u001b[1;33m)\u001b[0m\u001b[1;33m\u001b[0m\u001b[1;33m\u001b[0m\u001b[0m\n\u001b[0m",
      "\u001b[1;32m<ipython-input-11-6dce056aa4af>\u001b[0m in \u001b[0;36mshow_fruit\u001b[1;34m(fruit)\u001b[0m\n\u001b[0;32m      5\u001b[0m         \u001b[0mprint\u001b[0m\u001b[1;33m(\u001b[0m\u001b[1;34m\"You need to peel first\"\u001b[0m\u001b[1;33m)\u001b[0m\u001b[1;33m\u001b[0m\u001b[1;33m\u001b[0m\u001b[0m\n\u001b[0;32m      6\u001b[0m     \u001b[1;32melse\u001b[0m\u001b[1;33m:\u001b[0m\u001b[1;33m\u001b[0m\u001b[1;33m\u001b[0m\u001b[0m\n\u001b[1;32m----> 7\u001b[1;33m         \u001b[1;32mraise\u001b[0m \u001b[0mValueError\u001b[0m\u001b[1;33m(\u001b[0m\u001b[1;34m\"You need to pass correct fruit\"\u001b[0m\u001b[1;33m)\u001b[0m\u001b[1;33m\u001b[0m\u001b[1;33m\u001b[0m\u001b[0m\n\u001b[0m\u001b[0;32m      8\u001b[0m \u001b[1;33m\u001b[0m\u001b[0m\n\u001b[0;32m      9\u001b[0m \u001b[0mshow_fruit\u001b[0m\u001b[1;33m(\u001b[0m\u001b[1;34m\"apple\"\u001b[0m\u001b[1;33m)\u001b[0m\u001b[1;33m\u001b[0m\u001b[1;33m\u001b[0m\u001b[0m\n",
      "\u001b[1;31mValueError\u001b[0m: You need to pass correct fruit"
     ]
    }
   ],
   "source": [
    "def show_fruit(fruit):  \n",
    "    if fruit == \"apple\":  \n",
    "        print(\"Ready to eat\")  \n",
    "    elif fruit == \"orange\":  \n",
    "        print(\"You need to peel first\")  \n",
    "    else:  \n",
    "        raise ValueError(\"You need to pass correct fruit\")  \n",
    "\n",
    "show_fruit(\"apple\")  \n",
    "show_fruit(\"carrot\")  "
   ]
  },
  {
   "cell_type": "markdown",
   "metadata": {},
   "source": [
    "В последней строчке у нас добавилось **пояснение**, что мы передали какой-то некорректный фрукт. В Python достаточно много встроенных типов исключений. Вы можете посмотреть их в [документации к языку](https://docs.python.org/3/library/exceptions.html) и выбирать подходящий по смыслу для вашей ситуации."
   ]
  },
  {
   "cell_type": "markdown",
   "metadata": {},
   "source": [
    "### Задачи"
   ]
  },
  {
   "cell_type": "markdown",
   "metadata": {},
   "source": [
    "Напишие текст, который выведется на последней строке при исполнении программы:"
   ]
  },
  {
   "cell_type": "code",
   "execution_count": 12,
   "metadata": {},
   "outputs": [
    {
     "ename": "ValueError",
     "evalue": "Incorrect mode",
     "output_type": "error",
     "traceback": [
      "\u001b[1;31m---------------------------------------------------------------------------\u001b[0m",
      "\u001b[1;31mValueError\u001b[0m                                Traceback (most recent call last)",
      "\u001b[1;32m<ipython-input-12-463677257018>\u001b[0m in \u001b[0;36m<module>\u001b[1;34m\u001b[0m\n\u001b[0;32m      7\u001b[0m         \u001b[1;32mraise\u001b[0m \u001b[0mValueError\u001b[0m\u001b[1;33m(\u001b[0m\u001b[1;34m\"Incorrect mode\"\u001b[0m\u001b[1;33m)\u001b[0m\u001b[1;33m\u001b[0m\u001b[1;33m\u001b[0m\u001b[0m\n\u001b[0;32m      8\u001b[0m \u001b[1;33m\u001b[0m\u001b[0m\n\u001b[1;32m----> 9\u001b[1;33m \u001b[0mpreprocess_data\u001b[0m\u001b[1;33m(\u001b[0m\u001b[1;33m{\u001b[0m\u001b[1;34m\"price\"\u001b[0m\u001b[1;33m:\u001b[0m \u001b[1;36m100\u001b[0m\u001b[1;33m}\u001b[0m\u001b[1;33m,\u001b[0m \u001b[1;34m\"to_array\"\u001b[0m\u001b[1;33m)\u001b[0m\u001b[1;33m\u001b[0m\u001b[1;33m\u001b[0m\u001b[0m\n\u001b[0m",
      "\u001b[1;32m<ipython-input-12-463677257018>\u001b[0m in \u001b[0;36mpreprocess_data\u001b[1;34m(data, mode)\u001b[0m\n\u001b[0;32m      5\u001b[0m         \u001b[1;32mreturn\u001b[0m \u001b[1;33m[\u001b[0m\u001b[0mstr\u001b[0m\u001b[1;33m(\u001b[0m\u001b[0mvalue\u001b[0m\u001b[1;33m)\u001b[0m \u001b[1;32mfor\u001b[0m \u001b[0mvalue\u001b[0m \u001b[1;32min\u001b[0m \u001b[0mdata\u001b[0m\u001b[1;33m]\u001b[0m\u001b[1;33m\u001b[0m\u001b[1;33m\u001b[0m\u001b[0m\n\u001b[0;32m      6\u001b[0m     \u001b[1;32melse\u001b[0m\u001b[1;33m:\u001b[0m\u001b[1;33m\u001b[0m\u001b[1;33m\u001b[0m\u001b[0m\n\u001b[1;32m----> 7\u001b[1;33m         \u001b[1;32mraise\u001b[0m \u001b[0mValueError\u001b[0m\u001b[1;33m(\u001b[0m\u001b[1;34m\"Incorrect mode\"\u001b[0m\u001b[1;33m)\u001b[0m\u001b[1;33m\u001b[0m\u001b[1;33m\u001b[0m\u001b[0m\n\u001b[0m\u001b[0;32m      8\u001b[0m \u001b[1;33m\u001b[0m\u001b[0m\n\u001b[0;32m      9\u001b[0m \u001b[0mpreprocess_data\u001b[0m\u001b[1;33m(\u001b[0m\u001b[1;33m{\u001b[0m\u001b[1;34m\"price\"\u001b[0m\u001b[1;33m:\u001b[0m \u001b[1;36m100\u001b[0m\u001b[1;33m}\u001b[0m\u001b[1;33m,\u001b[0m \u001b[1;34m\"to_array\"\u001b[0m\u001b[1;33m)\u001b[0m\u001b[1;33m\u001b[0m\u001b[1;33m\u001b[0m\u001b[0m\n",
      "\u001b[1;31mValueError\u001b[0m: Incorrect mode"
     ]
    }
   ],
   "source": [
    "def preprocess_data(data, mode):\n",
    "    if mode == \"to_number\":\n",
    "        return [float(value) for value in data]\n",
    "    elif mode == \"to_str\":\n",
    "        return [str(value) for value in data]\n",
    "    else:\n",
    "        raise ValueError(\"Incorrect mode\")\n",
    "        \n",
    "preprocess_data({\"price\": 100}, \"to_array\")"
   ]
  },
  {
   "cell_type": "markdown",
   "metadata": {},
   "source": [
    "Определите функцию check_server, которая принимает на вход переменную mode.\n",
    "\n",
    "* Если mode имеет значение \"memory\", программа должна вернуть строку \"Memory is ok\".\n",
    "* Если mode имеет значение \"connection\", программа должна вернуть строку \"Connection is ok\".\n",
    "* Для остальных случае программа должна выбросить исключение ValueError."
   ]
  },
  {
   "cell_type": "code",
   "execution_count": 18,
   "metadata": {},
   "outputs": [],
   "source": [
    "def check_server(mode):  \n",
    "    if mode == \"memory\":  \n",
    "        return \"Memory is ok\" \n",
    "    elif mode == \"connection\":  \n",
    "        return \"Connection is ok\" \n",
    "    else:  \n",
    "        raise ValueError()"
   ]
  },
  {
   "cell_type": "markdown",
   "metadata": {},
   "source": [
    "[К содержанию](#0)"
   ]
  },
  {
   "cell_type": "markdown",
   "metadata": {},
   "source": [
    "---"
   ]
  },
  {
   "cell_type": "markdown",
   "metadata": {},
   "source": [
    "# Обработка исключений<a name=\"5\"></a>"
   ]
  },
  {
   "cell_type": "markdown",
   "metadata": {},
   "source": [
    "Мы научились выбрасывать исключения, и потенциально это ломает программу. Очевидный способ избавиться от этого — **исправить ошибку**, но бывают ситуации, когда мы не вполне контролируем данные, например, пользовательский ввод или большая база данных с небольшим количеством искаженных данных. Изредка мы всё-таки будем получать **исключения**, и нам надо с этим как-то работать.\n",
    "\n",
    "Для этой цели мы можем воспользоваться блоком **отработки исключений** — **try-except**. Он позволяет отрабатывать исключения, не прерывая хода программы. Без блока *try-except* в примере мы бы получили **KeyError**, здесь же мы печатаем строку **Oops, key not found** и продолжаем выполнение программы."
   ]
  },
  {
   "cell_type": "code",
   "execution_count": 19,
   "metadata": {},
   "outputs": [
    {
     "name": "stdout",
     "output_type": "stream",
     "text": [
      "Oops, key not found\n",
      "End of program\n"
     ]
    }
   ],
   "source": [
    "dictionary = {}  \n",
    "try:  \n",
    "    dictionary[\"no_key\"]  \n",
    "except:  \n",
    "    print(\"Oops, key not found\")  \n",
    "\n",
    "print(\"End of program\")  "
   ]
  },
  {
   "cell_type": "markdown",
   "metadata": {},
   "source": [
    "Если более формально, то мы пробуем выполнить часть программы, которая находится внутри **try**. Если эта часть кода выбрасывает исключение, то мы сразу переходим к выполнению части внутри **except**. Если же исключение не выбрасывается, то мы пропускаем часть внутри *except*. В любом случае мы выполняем программу дальше, как обычно."
   ]
  },
  {
   "cell_type": "markdown",
   "metadata": {},
   "source": [
    "[К содержанию](#0)"
   ]
  },
  {
   "cell_type": "markdown",
   "metadata": {},
   "source": [
    "---"
   ]
  },
  {
   "cell_type": "markdown",
   "metadata": {},
   "source": [
    "# Осознанная обработка исключений<a name=\"6\"></a>"
   ]
  },
  {
   "cell_type": "markdown",
   "metadata": {},
   "source": [
    "Общая идея использования **try-except** такая:\n",
    "\n",
    "* вы знаете, что у вас может возникнуть исключение, и не можете его полностью избежать;\n",
    "* вы \"отлавливаете\" эти исключения, а в блок **except** помещаете логику, которая позволит вам из этой ситуации корректно выйти.  \n",
    "\n",
    "Когда мы вызываем **raise**, то делаем подачу: тут какие-то не такие данные, нужно исправить. Когда мы обрабатываем исключения через **try-except**, то принимаем: да, данные неидеальные, но я об этом подумал. Проблема в том, что с обычным **try-except** можно \"отловить\" не только те исключения, на которые мы рассчитывали. \n",
    "\n",
    "Посмотрим на примере: у нас есть программа, которая отрабатывает очень **большую базу данных**, и мы бы хотели, чтобы была возможность корректно прервать её с клавиатуры. Код мог бы выглядеть как-то так:"
   ]
  },
  {
   "cell_type": "code",
   "execution_count": 20,
   "metadata": {},
   "outputs": [
    {
     "ename": "NameError",
     "evalue": "name 'gently_close' is not defined",
     "output_type": "error",
     "traceback": [
      "\u001b[1;31m---------------------------------------------------------------------------\u001b[0m",
      "\u001b[1;31mNameError\u001b[0m                                 Traceback (most recent call last)",
      "\u001b[1;32m<ipython-input-20-78255ca4b81c>\u001b[0m in \u001b[0;36m<module>\u001b[1;34m\u001b[0m\n\u001b[0;32m      2\u001b[0m     \u001b[1;31m# запускаем программу отработки базы данных\u001b[0m\u001b[1;33m\u001b[0m\u001b[1;33m\u001b[0m\u001b[1;33m\u001b[0m\u001b[0m\n\u001b[1;32m----> 3\u001b[1;33m     \u001b[0mprocess\u001b[0m\u001b[1;33m(\u001b[0m\u001b[0mdb\u001b[0m\u001b[1;33m)\u001b[0m\u001b[1;33m\u001b[0m\u001b[1;33m\u001b[0m\u001b[0m\n\u001b[0m\u001b[0;32m      4\u001b[0m \u001b[1;32mexcept\u001b[0m\u001b[1;33m:\u001b[0m\u001b[1;33m\u001b[0m\u001b[1;33m\u001b[0m\u001b[0m\n",
      "\u001b[1;31mNameError\u001b[0m: name 'process' is not defined",
      "\nDuring handling of the above exception, another exception occurred:\n",
      "\u001b[1;31mNameError\u001b[0m                                 Traceback (most recent call last)",
      "\u001b[1;32m<ipython-input-20-78255ca4b81c>\u001b[0m in \u001b[0;36m<module>\u001b[1;34m\u001b[0m\n\u001b[0;32m      4\u001b[0m \u001b[1;32mexcept\u001b[0m\u001b[1;33m:\u001b[0m\u001b[1;33m\u001b[0m\u001b[1;33m\u001b[0m\u001b[0m\n\u001b[0;32m      5\u001b[0m     \u001b[1;31m# если с клавиатуры пришло прерывание, то корректно останавливаем процесс\u001b[0m\u001b[1;33m\u001b[0m\u001b[1;33m\u001b[0m\u001b[1;33m\u001b[0m\u001b[0m\n\u001b[1;32m----> 6\u001b[1;33m     \u001b[0mgently_close\u001b[0m\u001b[1;33m(\u001b[0m\u001b[0mdb\u001b[0m\u001b[1;33m)\u001b[0m\u001b[1;33m\u001b[0m\u001b[1;33m\u001b[0m\u001b[0m\n\u001b[0m",
      "\u001b[1;31mNameError\u001b[0m: name 'gently_close' is not defined"
     ]
    }
   ],
   "source": [
    "try:  \n",
    "    # запускаем программу отработки базы данных  \n",
    "    process(db)   \n",
    "except:  \n",
    "    # если с клавиатуры пришло прерывание, то корректно останавливаем процесс  \n",
    "    gently_close(db)  "
   ]
  },
  {
   "cell_type": "markdown",
   "metadata": {},
   "source": [
    "При остановке с клавиатуры мы получаем исключение **KeyInterrupt**, так что мы идём в блок **except** и корректно закрываем базу данных. Проблема в том, что *except* \"отловит\" и другие исключения, например, ошибку отсутствующего ключа или таймаута, что усложнит для нас обнаружение и исправление этих ошибок. На этот случай **try-except** позволяет указывать, какое именно исключение мы отлавливаем."
   ]
  },
  {
   "cell_type": "code",
   "execution_count": 21,
   "metadata": {},
   "outputs": [
    {
     "ename": "NameError",
     "evalue": "name 'KeyInterrupt' is not defined",
     "output_type": "error",
     "traceback": [
      "\u001b[1;31m---------------------------------------------------------------------------\u001b[0m",
      "\u001b[1;31mNameError\u001b[0m                                 Traceback (most recent call last)",
      "\u001b[1;32m<ipython-input-21-dbbc21558267>\u001b[0m in \u001b[0;36m<module>\u001b[1;34m\u001b[0m\n\u001b[0;32m      1\u001b[0m \u001b[1;32mtry\u001b[0m\u001b[1;33m:\u001b[0m\u001b[1;33m\u001b[0m\u001b[1;33m\u001b[0m\u001b[0m\n\u001b[1;32m----> 2\u001b[1;33m     \u001b[0mprocess\u001b[0m\u001b[1;33m(\u001b[0m\u001b[0mdb\u001b[0m\u001b[1;33m)\u001b[0m\u001b[1;33m\u001b[0m\u001b[1;33m\u001b[0m\u001b[0m\n\u001b[0m\u001b[0;32m      3\u001b[0m \u001b[1;32mexcept\u001b[0m \u001b[0mKeyInterrupt\u001b[0m\u001b[1;33m:\u001b[0m  \u001b[1;31m# обратите внимание, что мы добавили имя исключения после except\u001b[0m\u001b[1;33m\u001b[0m\u001b[1;33m\u001b[0m\u001b[0m\n",
      "\u001b[1;31mNameError\u001b[0m: name 'process' is not defined",
      "\nDuring handling of the above exception, another exception occurred:\n",
      "\u001b[1;31mNameError\u001b[0m                                 Traceback (most recent call last)",
      "\u001b[1;32m<ipython-input-21-dbbc21558267>\u001b[0m in \u001b[0;36m<module>\u001b[1;34m\u001b[0m\n\u001b[0;32m      1\u001b[0m \u001b[1;32mtry\u001b[0m\u001b[1;33m:\u001b[0m\u001b[1;33m\u001b[0m\u001b[1;33m\u001b[0m\u001b[0m\n\u001b[0;32m      2\u001b[0m     \u001b[0mprocess\u001b[0m\u001b[1;33m(\u001b[0m\u001b[0mdb\u001b[0m\u001b[1;33m)\u001b[0m\u001b[1;33m\u001b[0m\u001b[1;33m\u001b[0m\u001b[0m\n\u001b[1;32m----> 3\u001b[1;33m \u001b[1;32mexcept\u001b[0m \u001b[0mKeyInterrupt\u001b[0m\u001b[1;33m:\u001b[0m  \u001b[1;31m# обратите внимание, что мы добавили имя исключения после except\u001b[0m\u001b[1;33m\u001b[0m\u001b[1;33m\u001b[0m\u001b[0m\n\u001b[0m\u001b[0;32m      4\u001b[0m     \u001b[0mgently_close\u001b[0m\u001b[1;33m(\u001b[0m\u001b[0mdb\u001b[0m\u001b[1;33m)\u001b[0m\u001b[1;33m\u001b[0m\u001b[1;33m\u001b[0m\u001b[0m\n",
      "\u001b[1;31mNameError\u001b[0m: name 'KeyInterrupt' is not defined"
     ]
    }
   ],
   "source": [
    "try:  \n",
    "    process(db)   \n",
    "except KeyInterrupt:  # обратите внимание, что мы добавили имя исключения после except  \n",
    "    gently_close(db)  "
   ]
  },
  {
   "cell_type": "markdown",
   "metadata": {},
   "source": [
    "Так мы не пропустим случайно неожиданную ошибку. Давайте посмотрим на ещё один пример для закрепления синтаксиса:"
   ]
  },
  {
   "cell_type": "code",
   "execution_count": 23,
   "metadata": {},
   "outputs": [
    {
     "name": "stdout",
     "output_type": "stream",
     "text": [
      "Oops, key not found\n"
     ]
    },
    {
     "ename": "KeyError",
     "evalue": "'no_key'",
     "output_type": "error",
     "traceback": [
      "\u001b[1;31m---------------------------------------------------------------------------\u001b[0m",
      "\u001b[1;31mKeyError\u001b[0m                                  Traceback (most recent call last)",
      "\u001b[1;32m<ipython-input-23-797b2f1f3562>\u001b[0m in \u001b[0;36m<module>\u001b[1;34m\u001b[0m\n\u001b[0;32m      8\u001b[0m \u001b[0mdictionary\u001b[0m \u001b[1;33m=\u001b[0m \u001b[1;33m{\u001b[0m\u001b[1;33m}\u001b[0m\u001b[1;33m\u001b[0m\u001b[1;33m\u001b[0m\u001b[0m\n\u001b[0;32m      9\u001b[0m \u001b[1;32mtry\u001b[0m\u001b[1;33m:\u001b[0m\u001b[1;33m\u001b[0m\u001b[1;33m\u001b[0m\u001b[0m\n\u001b[1;32m---> 10\u001b[1;33m     \u001b[0mdictionary\u001b[0m\u001b[1;33m[\u001b[0m\u001b[1;34m\"no_key\"\u001b[0m\u001b[1;33m]\u001b[0m\u001b[1;33m\u001b[0m\u001b[1;33m\u001b[0m\u001b[0m\n\u001b[0m\u001b[0;32m     11\u001b[0m \u001b[1;32mexcept\u001b[0m \u001b[0mIOError\u001b[0m\u001b[1;33m:\u001b[0m\u001b[1;33m\u001b[0m\u001b[1;33m\u001b[0m\u001b[0m\n\u001b[0;32m     12\u001b[0m     \u001b[0mprint\u001b[0m\u001b[1;33m(\u001b[0m\u001b[1;34m\"Oops, key not found\"\u001b[0m\u001b[1;33m)\u001b[0m\u001b[1;33m\u001b[0m\u001b[1;33m\u001b[0m\u001b[0m\n",
      "\u001b[1;31mKeyError\u001b[0m: 'no_key'"
     ]
    }
   ],
   "source": [
    "dictionary = {}  \n",
    "try:  \n",
    "    dictionary[\"no_key\"]  \n",
    "except KeyError:  \n",
    "    print(\"Oops, key not found\")  \n",
    "# => Oops, key not found  \n",
    "  \n",
    "dictionary = {}  \n",
    "try:  \n",
    "    dictionary[\"no_key\"]  \n",
    "except IOError:  \n",
    "    print(\"Oops, key not found\")  "
   ]
  },
  {
   "cell_type": "markdown",
   "metadata": {},
   "source": [
    "Во втором случае мы ожидали **IOError**, но исключение было **KeyError**, поэтому программа прервалась с ошибкой. Это упростит исправление ошибки."
   ]
  },
  {
   "cell_type": "markdown",
   "metadata": {},
   "source": [
    "[К содержанию](#0)"
   ]
  },
  {
   "cell_type": "markdown",
   "metadata": {},
   "source": [
    "---"
   ]
  },
  {
   "cell_type": "markdown",
   "metadata": {},
   "source": [
    "# Иерархия исключений<a name=\"7\"></a>"
   ]
  },
  {
   "cell_type": "markdown",
   "metadata": {},
   "source": [
    "Исключения в *Python* имеют иерархию: у нас есть более общие и более специфичные исключения. Вот график исключений:"
   ]
  },
  {
   "attachments": {
    "image.png": {
     "image/png": "[encoded data removed]"
    }
   },
   "cell_type": "markdown",
   "metadata": {},
   "source": [
    "![image.png](attachment:image.png)"
   ]
  },
  {
   "cell_type": "markdown",
   "metadata": {},
   "source": [
    "Здесь мы видим, что **KeyError** и **IndexError** являются подмножеством **LookupError**, которая является подмножеством **Exception**. На практике это имеет следующее значение: если мы укажем более верхнеуровневые исключения, то \"отловятся\" все **дочерние**, но не наоборот."
   ]
  },
  {
   "cell_type": "code",
   "execution_count": 24,
   "metadata": {},
   "outputs": [
    {
     "name": "stdout",
     "output_type": "stream",
     "text": [
      "Key or index not found\n",
      "Key or index not found\n"
     ]
    }
   ],
   "source": [
    "# Напишем функцию, которая может обращаться и к спискам, и к словарям  \n",
    "# при этом не выбрасывая исключение для несуществующих индексов/ключей   \n",
    "def safe_element(collection, place):  \n",
    "    try:  \n",
    "        return(collection[place])  \n",
    "    except LookupError:  \n",
    "        print(\"Key or index not found\")  \n",
    "  \n",
    "users = [\"Pavel\", \"Elena\", \"Sergey\"]  \n",
    "safe_element(users, 1)  \n",
    "safe_element(users, 3)    \n",
    "  \n",
    "prices = {\"apple\": 10, \"orange\": 20}  \n",
    "safe_element(prices, \"apple\")   \n",
    "safe_element(prices, \"carrot\")  "
   ]
  },
  {
   "cell_type": "markdown",
   "metadata": {},
   "source": [
    "Желательно указывать наиболее специфичное исключение. Полную иерархию можно посмотреть в [документации](https://docs.python.org/2/library/exceptions.html#exception-hierarchy)."
   ]
  },
  {
   "cell_type": "markdown",
   "metadata": {},
   "source": [
    "### Задачи"
   ]
  },
  {
   "cell_type": "markdown",
   "metadata": {},
   "source": [
    "Напишите программу, которая реализует безопасное сложение двух объектов x и y.\n",
    "\n",
    "Если объекты не могут быть сложены, функция должна:\n",
    "\n",
    "* Отловить TypeError\n",
    "* Вывести на экран \"Can't sum x and y\", где x и y - переданные объекты\n",
    "* Вернуть 0"
   ]
  },
  {
   "cell_type": "code",
   "execution_count": 27,
   "metadata": {},
   "outputs": [],
   "source": [
    "def safe_sum(x, y):\n",
    "    \n",
    "    try:\n",
    "        return x+y\n",
    "    except TypeError:\n",
    "        print(\"Can't sum x and y\")\n",
    "        return 0"
   ]
  },
  {
   "cell_type": "markdown",
   "metadata": {},
   "source": [
    "[К содержанию](#0)"
   ]
  },
  {
   "cell_type": "markdown",
   "metadata": {},
   "source": [
    "---"
   ]
  },
  {
   "cell_type": "markdown",
   "metadata": {},
   "source": [
    "# Детали try-except<a name=\"8\"></a>"
   ]
  },
  {
   "cell_type": "markdown",
   "metadata": {},
   "source": [
    "Мы рассмотрели базовый синтаксис **try-except**, однако у него есть ещё несколько вариаций. Они не часто встречаются на практике, но мы о них расскажем. Иногда в блоке **except** нам нужен доступ к **самому объекту исключения**, например, мы хотим получить поясняющее сообщение и вывести его на экран, но при этом продолжить программу дальше. Мы можем это сделать с помощью **ключевого слова 'as'**, за которым идёт имя новой переменной."
   ]
  },
  {
   "cell_type": "code",
   "execution_count": 28,
   "metadata": {},
   "outputs": [
    {
     "name": "stdout",
     "output_type": "stream",
     "text": [
      "division by zero\n",
      "Program ends correctly\n"
     ]
    }
   ],
   "source": [
    "try:  \n",
    "    5/0  \n",
    "except ZeroDivisionError as zero_error:  \n",
    "    # здесь в zero_error мы получаем сам объект исключения  \n",
    "    # print как раз выведет его поясняющее сообщение  \n",
    "    print(zero_error)  \n",
    "\n",
    "print(\"Program ends correctly\")  "
   ]
  },
  {
   "cell_type": "markdown",
   "metadata": {},
   "source": [
    "Ещё один распространённый подход: мы совершаем какое-то промежуточное действие, а потом перевыбрасываем исключение."
   ]
  },
  {
   "cell_type": "code",
   "execution_count": 29,
   "metadata": {},
   "outputs": [
    {
     "name": "stdout",
     "output_type": "stream",
     "text": [
      "Mail to administrator has been sent about invalid literal for int() with base 10: 'poem'\n"
     ]
    },
    {
     "ename": "ValueError",
     "evalue": "invalid literal for int() with base 10: 'poem'",
     "output_type": "error",
     "traceback": [
      "\u001b[1;31m---------------------------------------------------------------------------\u001b[0m",
      "\u001b[1;31mValueError\u001b[0m                                Traceback (most recent call last)",
      "\u001b[1;32m<ipython-input-29-b565df6dc2a5>\u001b[0m in \u001b[0;36m<module>\u001b[1;34m\u001b[0m\n\u001b[0;32m      8\u001b[0m \u001b[1;32mexcept\u001b[0m \u001b[0mValueError\u001b[0m \u001b[1;32mas\u001b[0m \u001b[0mdigitized_error\u001b[0m\u001b[1;33m:\u001b[0m\u001b[1;33m\u001b[0m\u001b[1;33m\u001b[0m\u001b[0m\n\u001b[0;32m      9\u001b[0m     \u001b[0mnotify_admin\u001b[0m\u001b[1;33m(\u001b[0m\u001b[0mdigitized_error\u001b[0m\u001b[1;33m)\u001b[0m\u001b[1;33m\u001b[0m\u001b[1;33m\u001b[0m\u001b[0m\n\u001b[1;32m---> 10\u001b[1;33m     \u001b[1;32mraise\u001b[0m \u001b[0mdigitized_error\u001b[0m\u001b[1;33m\u001b[0m\u001b[1;33m\u001b[0m\u001b[0m\n\u001b[0m",
      "\u001b[1;32m<ipython-input-29-b565df6dc2a5>\u001b[0m in \u001b[0;36m<module>\u001b[1;34m\u001b[0m\n\u001b[0;32m      5\u001b[0m \u001b[0mvalue\u001b[0m \u001b[1;33m=\u001b[0m \u001b[1;34m\"poem\"\u001b[0m\u001b[1;33m\u001b[0m\u001b[1;33m\u001b[0m\u001b[0m\n\u001b[0;32m      6\u001b[0m \u001b[1;32mtry\u001b[0m\u001b[1;33m:\u001b[0m\u001b[1;33m\u001b[0m\u001b[1;33m\u001b[0m\u001b[0m\n\u001b[1;32m----> 7\u001b[1;33m     \u001b[0mdigitized\u001b[0m \u001b[1;33m=\u001b[0m \u001b[0mint\u001b[0m\u001b[1;33m(\u001b[0m\u001b[0mvalue\u001b[0m\u001b[1;33m)\u001b[0m\u001b[1;33m\u001b[0m\u001b[1;33m\u001b[0m\u001b[0m\n\u001b[0m\u001b[0;32m      8\u001b[0m \u001b[1;32mexcept\u001b[0m \u001b[0mValueError\u001b[0m \u001b[1;32mas\u001b[0m \u001b[0mdigitized_error\u001b[0m\u001b[1;33m:\u001b[0m\u001b[1;33m\u001b[0m\u001b[1;33m\u001b[0m\u001b[0m\n\u001b[0;32m      9\u001b[0m     \u001b[0mnotify_admin\u001b[0m\u001b[1;33m(\u001b[0m\u001b[0mdigitized_error\u001b[0m\u001b[1;33m)\u001b[0m\u001b[1;33m\u001b[0m\u001b[1;33m\u001b[0m\u001b[0m\n",
      "\u001b[1;31mValueError\u001b[0m: invalid literal for int() with base 10: 'poem'"
     ]
    }
   ],
   "source": [
    "# Пусть у нас есть функция, которая шлёт емейл разработчику об ошибке  \n",
    "def notify_admin(error):  \n",
    "    print(\"Mail to administrator has been sent about\", error)  \n",
    "      \n",
    "value = \"poem\"  \n",
    "try:  \n",
    "    digitized = int(value)  \n",
    "except ValueError as digitized_error:  \n",
    "    notify_admin(digitized_error)  \n",
    "    raise digitized_error"
   ]
  },
  {
   "cell_type": "markdown",
   "metadata": {},
   "source": [
    "Обратите внимание, что в начале ошибки есть **уведомление** о том, что email отправлен. Еще одна полезная функция: для одного **try** вы можете писать сразу много **except** на разные исключения."
   ]
  },
  {
   "cell_type": "code",
   "execution_count": 30,
   "metadata": {},
   "outputs": [
    {
     "name": "stdout",
     "output_type": "stream",
     "text": [
      "OS error: [Errno 2] No such file or directory: 'valuble_data.txt'\n"
     ]
    }
   ],
   "source": [
    "try:  \n",
    "    # открываем файл и считываем строку  \n",
    "    data_file = open(\"valuble_data.txt\")  \n",
    "    s = data_file.readline()  \n",
    "    # пробуем преобразовать её в число  \n",
    "    i = float(s.strip())  \n",
    "except OSError as err:  \n",
    "    # если файла нет или его не удаётся прочитать, мы получил ошибку операционной системы   \n",
    "    print(\"OS error: {0}\".format(err))  \n",
    "except ValueError:  \n",
    "    # если данные не преобразуется в число, мы получим ValueError  \n",
    "    print(\"Could not convert data to float\")  "
   ]
  },
  {
   "cell_type": "markdown",
   "metadata": {},
   "source": [
    "У try-except есть блоки **else** и **finally**; первый выполняется в случае, если мы не встретили исключение в try, и используется в основном для написания чуть более чистого кода. **Finally** выполняется в любом случае, даже если возникло непредвиденное исключение или выход с помощью **return**. Обычно используется для корректного освобождения ресурсов, например, закрытия файлов.\n",
    "\n",
    "Надеемся, что система исключения для вас стала более понятной, и вы сможете более свободно работать с ошибками."
   ]
  },
  {
   "cell_type": "markdown",
   "metadata": {},
   "source": [
    "[К содержанию](#0)"
   ]
  },
  {
   "cell_type": "markdown",
   "metadata": {},
   "source": [
    "---"
   ]
  },
  {
   "cell_type": "markdown",
   "metadata": {},
   "source": [
    "# Отладка: введение<a name=\"9\"></a>"
   ]
  },
  {
   "cell_type": "markdown",
   "metadata": {},
   "source": [
    "В этом разделе мы обсудим подходы, которые помогают быстрее найти и исправить ошибки. Приведённые методы хорошо зарекомендовали себя на практике. Тем не менее единого метода, который бы работал всегда, нет, и разнообразие видов ошибок превращает **отладку** в настоящее искусство. Научиться определять необходимый метод вы сможете со временем.\n",
    "\n",
    "**Ошибки** можно условно поделить на **два класса**:\n",
    "\n",
    "* **явные**, которые выбрасывают исключение;\n",
    "* **неявные (баги)**: программа формально работает, но есть какой-то изъян в логике, так что вы получаете не то, что хотели.  \n",
    "\n",
    "Для примеров в этом разделе мы будем использовать датасет о фильмах с imdb. В датасете указана основная информация: сборы, год выпуска и т.д. Первые строки датасета:"
   ]
  },
  {
   "cell_type": "code",
   "execution_count": 31,
   "metadata": {},
   "outputs": [],
   "source": [
    "import pandas as pd\n",
    "movies = pd.read_csv('imdb.csv')"
   ]
  },
  {
   "cell_type": "markdown",
   "metadata": {},
   "source": [
    "### ЗАДАЧИ"
   ]
  },
  {
   "cell_type": "markdown",
   "metadata": {},
   "source": [
    "В каком году вышел фильм Suicide Squad, информация о котором есть в датасете imdb?"
   ]
  },
  {
   "cell_type": "code",
   "execution_count": 32,
   "metadata": {},
   "outputs": [
    {
     "data": {
      "text/plain": [
       "4    2016\n",
       "Name: Year, dtype: int64"
      ]
     },
     "execution_count": 32,
     "metadata": {},
     "output_type": "execute_result"
    }
   ],
   "source": [
    "movies[movies['Title'] == 'Suicide Squad']['Year']"
   ]
  },
  {
   "cell_type": "markdown",
   "metadata": {},
   "source": [
    "[К содержанию](#0)"
   ]
  },
  {
   "cell_type": "markdown",
   "metadata": {},
   "source": [
    "---"
   ]
  },
  {
   "cell_type": "markdown",
   "metadata": {},
   "source": [
    "# Отладка исключений<a name=\"10\"></a>"
   ]
  },
  {
   "cell_type": "markdown",
   "metadata": {},
   "source": [
    "Разберёмся с **явными** ошибками, они гораздо проще в исправлении. Для начала нужно прочитать **сообщение об ошибке**: смотрим на тип исключения и поясняющее сообщение, чтобы понять природу ошибки, затем на стэк вызова, чтобы определить место, где она возникла, и само содержание строки."
   ]
  },
  {
   "cell_type": "code",
   "execution_count": 33,
   "metadata": {},
   "outputs": [
    {
     "ename": "NameError",
     "evalue": "name 'xrange' is not defined",
     "output_type": "error",
     "traceback": [
      "\u001b[1;31m---------------------------------------------------------------------------\u001b[0m",
      "\u001b[1;31mNameError\u001b[0m                                 Traceback (most recent call last)",
      "\u001b[1;32m<ipython-input-33-34b6f8a07a87>\u001b[0m in \u001b[0;36m<module>\u001b[1;34m\u001b[0m\n\u001b[0;32m      6\u001b[0m     \u001b[1;31m# делаем reader, который построчно берёт данные из файла\u001b[0m\u001b[1;33m\u001b[0m\u001b[1;33m\u001b[0m\u001b[1;33m\u001b[0m\u001b[0m\n\u001b[0;32m      7\u001b[0m     \u001b[0mreader\u001b[0m \u001b[1;33m=\u001b[0m \u001b[0mcsv\u001b[0m\u001b[1;33m.\u001b[0m\u001b[0mreader\u001b[0m\u001b[1;33m(\u001b[0m\u001b[0mcsvfile\u001b[0m\u001b[1;33m)\u001b[0m\u001b[1;33m\u001b[0m\u001b[1;33m\u001b[0m\u001b[0m\n\u001b[1;32m----> 8\u001b[1;33m     \u001b[1;32mfor\u001b[0m \u001b[0mi\u001b[0m \u001b[1;32min\u001b[0m \u001b[0mxrange\u001b[0m\u001b[1;33m(\u001b[0m\u001b[1;36m5\u001b[0m\u001b[1;33m)\u001b[0m\u001b[1;33m:\u001b[0m\u001b[1;33m\u001b[0m\u001b[1;33m\u001b[0m\u001b[0m\n\u001b[0m\u001b[0;32m      9\u001b[0m         \u001b[0mprint\u001b[0m\u001b[1;33m(\u001b[0m\u001b[0mnext\u001b[0m\u001b[1;33m(\u001b[0m\u001b[0mreader\u001b[0m\u001b[1;33m)\u001b[0m\u001b[1;33m)\u001b[0m\u001b[1;33m\u001b[0m\u001b[1;33m\u001b[0m\u001b[0m\n",
      "\u001b[1;31mNameError\u001b[0m: name 'xrange' is not defined"
     ]
    }
   ],
   "source": [
    "# для примера попробуем написать функцию, которая печатает первые 5 строчек csv файла с нашими данными  \n",
    "import csv  \n",
    "  \n",
    "# открываем файл  \n",
    "with open(\"imdb.csv\", newline=\"\") as csvfile:  \n",
    "    # делаем reader, который построчно берёт данные из файла  \n",
    "    reader = csv.reader(csvfile)  \n",
    "    for i in xrange(5):  \n",
    "        print(next(reader))  "
   ]
  },
  {
   "cell_type": "markdown",
   "metadata": {},
   "source": [
    "Дальше мы смотрим на **исключение** и поясняющее сообщение NameError: name 'xrange' is not defined. В стэке вызова мы видим, что это имя использовалось в 8-ой строчке. **Хrange** было функцией в **Python2**, но в **Python3** её переименовали в **range**. Исправим это:"
   ]
  },
  {
   "cell_type": "code",
   "execution_count": 34,
   "metadata": {},
   "outputs": [
    {
     "name": "stdout",
     "output_type": "stream",
     "text": [
      "['Rank', 'Title', 'Genre', 'Description', 'Director', 'Actors', 'Year', 'Runtime (Minutes)', 'Rating', 'Votes', 'Revenue (Millions)', 'Metascore']\n",
      "['1', 'Guardians of the Galaxy', 'Action,Adventure,Sci-Fi', 'A group of intergalactic criminals are forced to work together to stop a fanatical warrior from taking control of the universe.', 'James Gunn', 'Chris Pratt, Vin Diesel, Bradley Cooper, Zoe Saldana', '2014', '121', '8.1', '757074', '333.13', '76']\n",
      "['2', 'Prometheus', 'Adventure,Mystery,Sci-Fi', 'Following clues to the origin of mankind, a team finds a structure on a distant moon, but they soon realize they are not alone.', 'Ridley Scott', 'Noomi Rapace, Logan Marshall-Green, Michael Fassbender, Charlize Theron', '2012', '124', '7', '485820', '126.46', '65']\n",
      "['3', 'Split', 'Horror,Thriller', 'Three girls are kidnapped by a man with a diagnosed 23 distinct personalities. They must try to escape before the apparent emergence of a frightful new 24th.', 'M. Night Shyamalan', 'James McAvoy, Anya Taylor-Joy, Haley Lu Richardson, Jessica Sula', '2016', '117', '7.3', '157606', '138.12', '62']\n",
      "['4', 'Sing', 'Animation,Comedy,Family', \"In a city of humanoid animals, a hustling theater impresario's attempt to save his theater with a singing competition becomes grander than he anticipates even as its finalists' find that their lives will never be the same.\", 'Christophe Lourdelet', 'Matthew McConaughey,Reese Witherspoon, Seth MacFarlane, Scarlett Johansson', '2016', '108', '7.2', '60545', '270.32', '59']\n"
     ]
    }
   ],
   "source": [
    "import csv  \n",
    "  \n",
    "with open(\"imdb.csv\", newline=\"\") as csvfile:  \n",
    "    reader = csv.reader(csvfile)  \n",
    "    for i in range(5):  \n",
    "        print(next(reader))  "
   ]
  },
  {
   "cell_type": "markdown",
   "metadata": {},
   "source": [
    "[К содержанию](#0)"
   ]
  },
  {
   "cell_type": "markdown",
   "metadata": {},
   "source": [
    "---"
   ]
  },
  {
   "cell_type": "markdown",
   "metadata": {},
   "source": [
    "# Отладка через print<a name=\"11\"></a>"
   ]
  },
  {
   "cell_type": "markdown",
   "metadata": {},
   "source": [
    "Внимательное чтение сообщения уже должно решить большую часть явных ошибок с **выбрасываемым исключением**. Если случай более запутанный, и сходу разрешить его не удалось, ключевое здесь — понять, на **каких данных** ваш код не работает. В базовом варианте можно использовать **print**.\n",
    "\n",
    "Выведите все релевантные данные до строки, где возникла ошибка, и подумайте, что с этими данными могло пойти не так:"
   ]
  },
  {
   "cell_type": "code",
   "execution_count": 35,
   "metadata": {},
   "outputs": [
    {
     "ename": "TypeError",
     "evalue": "list indices must be integers or slices, not str",
     "output_type": "error",
     "traceback": [
      "\u001b[1;31m---------------------------------------------------------------------------\u001b[0m",
      "\u001b[1;31mTypeError\u001b[0m                                 Traceback (most recent call last)",
      "\u001b[1;32m<ipython-input-35-b7fdee7ecae4>\u001b[0m in \u001b[0;36m<module>\u001b[1;34m\u001b[0m\n\u001b[0;32m     23\u001b[0m     \u001b[0mreader\u001b[0m \u001b[1;33m=\u001b[0m \u001b[0mcsv\u001b[0m\u001b[1;33m.\u001b[0m\u001b[0mreader\u001b[0m\u001b[1;33m(\u001b[0m\u001b[0mcsvfile\u001b[0m\u001b[1;33m)\u001b[0m\u001b[1;33m\u001b[0m\u001b[1;33m\u001b[0m\u001b[0m\n\u001b[0;32m     24\u001b[0m     \u001b[1;31m# строим таблицу\u001b[0m\u001b[1;33m\u001b[0m\u001b[1;33m\u001b[0m\u001b[1;33m\u001b[0m\u001b[0m\n\u001b[1;32m---> 25\u001b[1;33m     \u001b[0mimdb_data\u001b[0m \u001b[1;33m=\u001b[0m \u001b[0mbuild_table\u001b[0m\u001b[1;33m(\u001b[0m\u001b[0mreader\u001b[0m\u001b[1;33m)\u001b[0m\u001b[1;33m\u001b[0m\u001b[1;33m\u001b[0m\u001b[0m\n\u001b[0m",
      "\u001b[1;32m<ipython-input-35-b7fdee7ecae4>\u001b[0m in \u001b[0;36mbuild_table\u001b[1;34m(reader)\u001b[0m\n\u001b[0;32m     15\u001b[0m     \u001b[1;32mfor\u001b[0m \u001b[0mrow\u001b[0m \u001b[1;32min\u001b[0m \u001b[0mreader\u001b[0m\u001b[1;33m:\u001b[0m\u001b[1;33m\u001b[0m\u001b[1;33m\u001b[0m\u001b[0m\n\u001b[0;32m     16\u001b[0m         \u001b[1;32mfor\u001b[0m \u001b[0mheader\u001b[0m \u001b[1;32min\u001b[0m \u001b[0mheaders\u001b[0m\u001b[1;33m:\u001b[0m\u001b[1;33m\u001b[0m\u001b[1;33m\u001b[0m\u001b[0m\n\u001b[1;32m---> 17\u001b[1;33m             \u001b[0mtable\u001b[0m\u001b[1;33m[\u001b[0m\u001b[0mheader\u001b[0m\u001b[1;33m]\u001b[0m\u001b[1;33m.\u001b[0m\u001b[0mappend\u001b[0m\u001b[1;33m(\u001b[0m\u001b[0mrow\u001b[0m\u001b[1;33m[\u001b[0m\u001b[0mheader\u001b[0m\u001b[1;33m]\u001b[0m\u001b[1;33m)\u001b[0m\u001b[1;33m\u001b[0m\u001b[1;33m\u001b[0m\u001b[0m\n\u001b[0m\u001b[0;32m     18\u001b[0m \u001b[1;33m\u001b[0m\u001b[0m\n\u001b[0;32m     19\u001b[0m     \u001b[1;32mreturn\u001b[0m \u001b[0mtable\u001b[0m\u001b[1;33m\u001b[0m\u001b[1;33m\u001b[0m\u001b[0m\n",
      "\u001b[1;31mTypeError\u001b[0m: list indices must be integers or slices, not str"
     ]
    }
   ],
   "source": [
    "# Теперь попробуем поместить данные в некое подобие таблицы.  \n",
    "# У нас будет словарь, где ключами будут имена столбцов, а значениями - списки с данными   \n",
    "import csv  \n",
    "\n",
    "\n",
    "# функция, которая делает таблицу по данным из reader  \n",
    "def build_table(reader):  \n",
    "    table = {}  \n",
    "    # инициализируем столбцы  \n",
    "    headers = next(reader)  \n",
    "    for header in headers:  \n",
    "        table[header] = []  \n",
    "          \n",
    "    # считываем данные      \n",
    "    for row in reader:  \n",
    "        for header in headers:  \n",
    "            table[header].append(row[header])  \n",
    "              \n",
    "    return table  \n",
    "  \n",
    "with open(\"imdb.csv\", newline=\"\") as csvfile:  \n",
    "    # делаем reader, который построчно берёт данные из файла  \n",
    "    reader = csv.reader(csvfile)  \n",
    "    # строим таблицу  \n",
    "    imdb_data = build_table(reader) "
   ]
  },
  {
   "cell_type": "markdown",
   "metadata": {},
   "source": [
    "Мы получили **TypeError** и сообщение, что **индекс** должен быть числом в 17 строке. Сразу может быть непонятно, почему это произошло, поэтому давайте посмотрим на данные:"
   ]
  },
  {
   "cell_type": "code",
   "execution_count": 37,
   "metadata": {},
   "outputs": [
    {
     "name": "stdout",
     "output_type": "stream",
     "text": [
      "Header: Rank\n",
      "Table: {'Rank': [], 'Title': [], 'Genre': [], 'Description': [], 'Director': [], 'Actors': [], 'Year': [], 'Runtime (Minutes)': [], 'Rating': [], 'Votes': [], 'Revenue (Millions)': [], 'Metascore': []}\n",
      "Row: ['1', 'Guardians of the Galaxy', 'Action,Adventure,Sci-Fi', 'A group of intergalactic criminals are forced to work together to stop a fanatical warrior from taking control of the universe.', 'James Gunn', 'Chris Pratt, Vin Diesel, Bradley Cooper, Zoe Saldana', '2014', '121', '8.1', '757074', '333.13', '76']\n"
     ]
    },
    {
     "ename": "TypeError",
     "evalue": "list indices must be integers or slices, not str",
     "output_type": "error",
     "traceback": [
      "\u001b[1;31m---------------------------------------------------------------------------\u001b[0m",
      "\u001b[1;31mTypeError\u001b[0m                                 Traceback (most recent call last)",
      "\u001b[1;32m<ipython-input-37-477e57f727d7>\u001b[0m in \u001b[0;36m<module>\u001b[1;34m\u001b[0m\n\u001b[0;32m     20\u001b[0m \u001b[1;32mwith\u001b[0m \u001b[0mopen\u001b[0m\u001b[1;33m(\u001b[0m\u001b[1;34m\"imdb.csv\"\u001b[0m\u001b[1;33m,\u001b[0m \u001b[0mnewline\u001b[0m\u001b[1;33m=\u001b[0m\u001b[1;34m\"\"\u001b[0m\u001b[1;33m)\u001b[0m \u001b[1;32mas\u001b[0m \u001b[0mcsvfile\u001b[0m\u001b[1;33m:\u001b[0m\u001b[1;33m\u001b[0m\u001b[1;33m\u001b[0m\u001b[0m\n\u001b[0;32m     21\u001b[0m     \u001b[0mreader\u001b[0m \u001b[1;33m=\u001b[0m \u001b[0mcsv\u001b[0m\u001b[1;33m.\u001b[0m\u001b[0mreader\u001b[0m\u001b[1;33m(\u001b[0m\u001b[0mcsvfile\u001b[0m\u001b[1;33m)\u001b[0m\u001b[1;33m\u001b[0m\u001b[1;33m\u001b[0m\u001b[0m\n\u001b[1;32m---> 22\u001b[1;33m     \u001b[0mimdb_data\u001b[0m \u001b[1;33m=\u001b[0m \u001b[0mbuild_table\u001b[0m\u001b[1;33m(\u001b[0m\u001b[0mreader\u001b[0m\u001b[1;33m)\u001b[0m\u001b[1;33m\u001b[0m\u001b[1;33m\u001b[0m\u001b[0m\n\u001b[0m",
      "\u001b[1;32m<ipython-input-37-477e57f727d7>\u001b[0m in \u001b[0;36mbuild_table\u001b[1;34m(reader)\u001b[0m\n\u001b[0;32m     14\u001b[0m             \u001b[0mprint\u001b[0m\u001b[1;33m(\u001b[0m\u001b[1;34m\"Table:\"\u001b[0m\u001b[1;33m,\u001b[0m \u001b[0mtable\u001b[0m\u001b[1;33m)\u001b[0m\u001b[1;33m\u001b[0m\u001b[1;33m\u001b[0m\u001b[0m\n\u001b[0;32m     15\u001b[0m             \u001b[0mprint\u001b[0m\u001b[1;33m(\u001b[0m\u001b[1;34m\"Row:\"\u001b[0m\u001b[1;33m,\u001b[0m \u001b[0mrow\u001b[0m\u001b[1;33m)\u001b[0m\u001b[1;33m\u001b[0m\u001b[1;33m\u001b[0m\u001b[0m\n\u001b[1;32m---> 16\u001b[1;33m             \u001b[0mtable\u001b[0m\u001b[1;33m[\u001b[0m\u001b[0mheader\u001b[0m\u001b[1;33m]\u001b[0m\u001b[1;33m.\u001b[0m\u001b[0mappend\u001b[0m\u001b[1;33m(\u001b[0m\u001b[0mrow\u001b[0m\u001b[1;33m[\u001b[0m\u001b[0mheader\u001b[0m\u001b[1;33m]\u001b[0m\u001b[1;33m)\u001b[0m\u001b[1;33m\u001b[0m\u001b[1;33m\u001b[0m\u001b[0m\n\u001b[0m\u001b[0;32m     17\u001b[0m \u001b[1;33m\u001b[0m\u001b[0m\n\u001b[0;32m     18\u001b[0m     \u001b[1;32mreturn\u001b[0m \u001b[0mtable\u001b[0m\u001b[1;33m\u001b[0m\u001b[1;33m\u001b[0m\u001b[0m\n",
      "\u001b[1;31mTypeError\u001b[0m: list indices must be integers or slices, not str"
     ]
    }
   ],
   "source": [
    "import csv  \n",
    "  \n",
    "\n",
    "def build_table(reader):  \n",
    "    table = {}  \n",
    "    headers = next(reader)  \n",
    "    for header in headers:  \n",
    "        table[header] = []  \n",
    "          \n",
    "    for row in reader:  \n",
    "        for header in headers:  \n",
    "            # Мы выводим значения всех переменных, которые задействованы в ошибочной строке  \n",
    "            print(\"Header:\", header)  \n",
    "            print(\"Table:\", table)  \n",
    "            print(\"Row:\", row)  \n",
    "            table[header].append(row[header])  \n",
    "              \n",
    "    return table  \n",
    "  \n",
    "with open(\"imdb.csv\", newline=\"\") as csvfile:  \n",
    "    reader = csv.reader(csvfile)  \n",
    "    imdb_data = build_table(reader)  "
   ]
  },
  {
   "cell_type": "markdown",
   "metadata": {},
   "source": [
    "Вот наша строка с ошибкой: <code>table[header].append(row[header])</code>. В ней мы видим два потенциальных места, где могла произойти ошибка, — <code>table[header]</code> и <code>row[header]</code>. Смотрим на данные, **header** — это строка \"**Rank**\". В словаре **table** есть ключ \"**Rank**\", значит, ошибка не там. Но **row** является **списком**, поэтому мы должны использовать численный индекс, а не строку. Исправим программу, чтобы передавался последовательный номер заголовка, а не он сам:"
   ]
  },
  {
   "cell_type": "code",
   "execution_count": 38,
   "metadata": {},
   "outputs": [
    {
     "name": "stdout",
     "output_type": "stream",
     "text": [
      "Rank ['1', '2', '3', '4', '5']\n",
      "Title ['Guardians of the Galaxy', 'Prometheus', 'Split', 'Sing', 'Suicide Squad']\n",
      "Genre ['Action,Adventure,Sci-Fi', 'Adventure,Mystery,Sci-Fi', 'Horror,Thriller', 'Animation,Comedy,Family', 'Action,Adventure,Fantasy']\n",
      "Description ['A group of intergalactic criminals are forced to work together to stop a fanatical warrior from taking control of the universe.', 'Following clues to the origin of mankind, a team finds a structure on a distant moon, but they soon realize they are not alone.', 'Three girls are kidnapped by a man with a diagnosed 23 distinct personalities. They must try to escape before the apparent emergence of a frightful new 24th.', \"In a city of humanoid animals, a hustling theater impresario's attempt to save his theater with a singing competition becomes grander than he anticipates even as its finalists' find that their lives will never be the same.\", 'A secret government agency recruits some of the most dangerous incarcerated super-villains to form a defensive task force. Their first mission: save the world from the apocalypse.']\n",
      "Director ['James Gunn', 'Ridley Scott', 'M. Night Shyamalan', 'Christophe Lourdelet', 'David Ayer']\n",
      "Actors ['Chris Pratt, Vin Diesel, Bradley Cooper, Zoe Saldana', 'Noomi Rapace, Logan Marshall-Green, Michael Fassbender, Charlize Theron', 'James McAvoy, Anya Taylor-Joy, Haley Lu Richardson, Jessica Sula', 'Matthew McConaughey,Reese Witherspoon, Seth MacFarlane, Scarlett Johansson', 'Will Smith, Jared Leto, Margot Robbie, Viola Davis']\n",
      "Year ['2014', '2012', '2016', '2016', '2016']\n",
      "Runtime (Minutes) ['121', '124', '117', '108', '123']\n",
      "Rating ['8.1', '7', '7.3', '7.2', '6.2']\n",
      "Votes ['757074', '485820', '157606', '60545', '393727']\n",
      "Revenue (Millions) ['333.13', '126.46', '138.12', '270.32', '325.02']\n",
      "Metascore ['76', '65', '62', '59', '40']\n"
     ]
    }
   ],
   "source": [
    "import csv  \n",
    "\n",
    "\n",
    "def build_table(reader):  \n",
    "    table = {}  \n",
    "    headers = next(reader)  \n",
    "    for header in headers:  \n",
    "        table[header] = []  \n",
    "          \n",
    "    for row in reader:  \n",
    "        # Обратите внимание, что теперь мы используем индекс столбца, а не его имя для обращения к элементу row  \n",
    "        for i, header in enumerate(headers):  \n",
    "            table[header].append(row[i])  \n",
    "              \n",
    "    return table  \n",
    "  \n",
    "with open(\"imdb.csv\", newline=\"\") as csvfile:  \n",
    "    reader = csv.reader(csvfile)  \n",
    "    imdb_data = build_table(reader)  \n",
    "  \n",
    "  \n",
    "# Выведем данные в полученной таблице  \n",
    "for header, values in imdb_data.items():  \n",
    "    print(header, values[:5])  "
   ]
  },
  {
   "cell_type": "markdown",
   "metadata": {},
   "source": [
    "Всё работает! В конце заметим, что print выводит строку **без кавычек**, что иногда затрудняет понимание данных."
   ]
  },
  {
   "cell_type": "code",
   "execution_count": 39,
   "metadata": {},
   "outputs": [
    {
     "name": "stdout",
     "output_type": "stream",
     "text": [
      "5\n",
      "5\n"
     ]
    }
   ],
   "source": [
    "print(5)   \n",
    "print(\"5\")  "
   ]
  },
  {
   "cell_type": "markdown",
   "metadata": {},
   "source": [
    "Быстрый способ обойти это — использовать **метод repr()**. Он старается вывести объекты так, как они бы выглядели в самом коде:"
   ]
  },
  {
   "cell_type": "code",
   "execution_count": 40,
   "metadata": {},
   "outputs": [
    {
     "name": "stdout",
     "output_type": "stream",
     "text": [
      "5\n",
      "'5'\n"
     ]
    }
   ],
   "source": [
    "print(repr(5))\n",
    "print(repr(\"5\"))  "
   ]
  },
  {
   "cell_type": "markdown",
   "metadata": {},
   "source": [
    "### Задачи"
   ]
  },
  {
   "cell_type": "markdown",
   "metadata": {},
   "source": [
    "У вас есть функция, которая должна убирать дубликаты из списка и сохранять при этом порядок:\n",
    "\n",
    "<code>remove_dups([1, 12, 4, 1, 4, 8])</code>  \n",
    "<code># => [1, 12, 4, 8]</code>\n",
    "    \n",
    "Сейчас она не очень хорошо написана и возвращает исключение: исправьте её\n",
    "\n",
    "<code>from copy import copy\n",
    "\n",
    "def remove_dups(values):\n",
    "    values = copy(values)\n",
    "    for i in range(len(values)):\n",
    "        if values[i+1] in values[i:]:\n",
    "            values.remove(values[i])\n",
    "    return values</code>"
   ]
  },
  {
   "cell_type": "code",
   "execution_count": 27,
   "metadata": {},
   "outputs": [],
   "source": [
    "def remove_dups(values):\n",
    "    temp_lst = values\n",
    "    values = []\n",
    "    for i in range(len(temp_lst)):\n",
    "        if temp_lst[i] not in values:\n",
    "            values.append(temp_lst[i])\n",
    "    return values"
   ]
  },
  {
   "cell_type": "code",
   "execution_count": 29,
   "metadata": {},
   "outputs": [
    {
     "data": {
      "text/plain": [
       "[1, 12, 4, 8]"
      ]
     },
     "execution_count": 29,
     "metadata": {},
     "output_type": "execute_result"
    }
   ],
   "source": [
    "remove_dups([1, 12, 4, 1, 4, 8])"
   ]
  },
  {
   "cell_type": "markdown",
   "metadata": {},
   "source": [
    "[К содержанию](#0)"
   ]
  },
  {
   "cell_type": "markdown",
   "metadata": {},
   "source": [
    "---"
   ]
  },
  {
   "cell_type": "markdown",
   "metadata": {},
   "source": [
    "# Отлов багов<a name=\"12\"></a>"
   ]
  },
  {
   "cell_type": "markdown",
   "metadata": {},
   "source": [
    "**Баги** — ошибки в **логике** программы, и они менее очевидны для отладки, чем явные исключения. Вы можете быть уверены, что код работает идеально, а спустя несколько дней обнаружить, что он возвращает неверные ответы. Начинать следует с определения **места ошибки**; так как сообщений об ошибке нет, то задача сводится к нахождению **аномалии** в данных. Для этого отлично подходят **дебаггеры**, и в *Python* есть встроенный — **pdb**."
   ]
  },
  {
   "cell_type": "markdown",
   "metadata": {},
   "source": [
    "![GIF](https://lms.skillfactory.ru/assets/courseware/v1/bcec03a0619c16a490847b8d8975b1df/asset-v1:Skillfactory+DST-WEEKLY-2.0+08JULY2020+type@asset+block/bears.gif)"
   ]
  },
  {
   "cell_type": "markdown",
   "metadata": {},
   "source": [
    "Ранее мы использовали **print**, чтобы выводить переменные перед строкой с ошибкой. **Дебаггеры** решают примерно ту же задачу, только делают это гораздо лучше: они позволяют остановить программу посреди выполнения и посмотреть на её состояние через **интерактивную консоль**.\n",
    "\n",
    "Чтобы поставить программу на паузу в определённом месте, вызовите **метод set_trace** на этой строчке:"
   ]
  },
  {
   "cell_type": "code",
   "execution_count": 30,
   "metadata": {},
   "outputs": [
    {
     "name": "stdout",
     "output_type": "stream",
     "text": [
      "--Call--\n",
      "> \u001b[1;32mc:\\users\\vinogrodskiy.gb\\anaconda3\\lib\\site-packages\\ipython\\core\\displayhook.py\u001b[0m(252)\u001b[0;36m__call__\u001b[1;34m()\u001b[0m\n",
      "\u001b[1;32m    250 \u001b[1;33m        \u001b[0msys\u001b[0m\u001b[1;33m.\u001b[0m\u001b[0mstdout\u001b[0m\u001b[1;33m.\u001b[0m\u001b[0mflush\u001b[0m\u001b[1;33m(\u001b[0m\u001b[1;33m)\u001b[0m\u001b[1;33m\u001b[0m\u001b[1;33m\u001b[0m\u001b[0m\n",
      "\u001b[0m\u001b[1;32m    251 \u001b[1;33m\u001b[1;33m\u001b[0m\u001b[0m\n",
      "\u001b[0m\u001b[1;32m--> 252 \u001b[1;33m    \u001b[1;32mdef\u001b[0m \u001b[0m__call__\u001b[0m\u001b[1;33m(\u001b[0m\u001b[0mself\u001b[0m\u001b[1;33m,\u001b[0m \u001b[0mresult\u001b[0m\u001b[1;33m=\u001b[0m\u001b[1;32mNone\u001b[0m\u001b[1;33m)\u001b[0m\u001b[1;33m:\u001b[0m\u001b[1;33m\u001b[0m\u001b[1;33m\u001b[0m\u001b[0m\n",
      "\u001b[0m\u001b[1;32m    253 \u001b[1;33m        \"\"\"Printing with history cache management.\n",
      "\u001b[0m\u001b[1;32m    254 \u001b[1;33m\u001b[1;33m\u001b[0m\u001b[0m\n",
      "\u001b[0m\n",
      "ipdb> continue\n"
     ]
    }
   ],
   "source": [
    "import pdb; pdb.set_trace()  "
   ]
  },
  {
   "cell_type": "markdown",
   "metadata": {},
   "source": [
    "Когда вы запустите программу и интерпретатор дойдёт до этой строчки, у вас откроется интерактивная консоль.\n",
    "\n",
    "**Возможности дебаггера:**\n",
    "\n",
    "* возможно выполнение любого корректного кода в нём: вывести значения любой доступной переменной, **метод locals()** выведет локальные переменные;\n",
    "* PP позволяет вывести словари и их объекты, что упрощает чтение;\n",
    "* перемещение по коду: **next** выполнит следующую строку, **return** выполнит весь код до конца текущей функции и вернёт интерактивную консоль на следующей строчке, **continue** выйдет из интерактивного режима и продолжит программу."
   ]
  },
  {
   "cell_type": "markdown",
   "metadata": {},
   "source": [
    "[К содержанию](#0)"
   ]
  },
  {
   "cell_type": "markdown",
   "metadata": {},
   "source": [
    "---"
   ]
  },
  {
   "cell_type": "markdown",
   "metadata": {},
   "source": [
    "# Использование pdb<a name=\"13\"></a>"
   ]
  },
  {
   "cell_type": "markdown",
   "metadata": {},
   "source": [
    "В предыдущем блоке мы привели основные **команды pdb**. Полный список команд выводится по запросу **help** внутри интерактивной сессии pdb, а пока давайте посмотрим работу метода на конкретном примере. Пусть у нас есть следующая функция:"
   ]
  },
  {
   "cell_type": "code",
   "execution_count": 32,
   "metadata": {},
   "outputs": [
    {
     "name": "stdout",
     "output_type": "stream",
     "text": [
      "Counter({'Drama': 501, 'Action': 296, 'Comedy': 277, 'Adventure': 254, 'Thriller': 189, 'Crime': 146, 'Romance': 138, 'Sci-Fi': 117, 'Horror': 117, 'Mystery': 103, 'Fantasy': 100, 'Biography': 80, 'Family': 51, 'Animation': 49, 'History': 26, 'Sport': 18, 'Music': 16, 'War': 13, 'Western': 7, 'Musical': 5})\n"
     ]
    }
   ],
   "source": [
    "from collections import Counter  \n",
    "  \n",
    "# Считаем, сколько фильмов в каждом жанре  \n",
    "def count_genres(column):  \n",
    "    genres = []  \n",
    "    for movie_genres in column:  \n",
    "        splitted = movie_genres.split(\",\")  \n",
    "        genres.extend(splitted)  \n",
    "    counter = Counter(genres)  \n",
    "      \n",
    "    return counter   \n",
    "   \n",
    "print(count_genres(movies[\"Genre\"]))  "
   ]
  },
  {
   "cell_type": "markdown",
   "metadata": {},
   "source": [
    "Мы получили результат, но чтобы лучше понять, как мы это сделали, воспользуемся дебаггером. Для этого поставим вызов **pdb.set_trace()** в начале функции. Вызов дебаггера часто называют **брейкпоинтом** (breakpoint, точка прерывания), потому что программа ставится на паузу в этой точке."
   ]
  },
  {
   "cell_type": "code",
   "execution_count": 34,
   "metadata": {},
   "outputs": [
    {
     "name": "stdout",
     "output_type": "stream",
     "text": [
      "> \u001b[1;32m<ipython-input-34-2ee2dd064ad4>\u001b[0m(9)\u001b[0;36mcount_genres\u001b[1;34m()\u001b[0m\n",
      "\u001b[1;32m      7 \u001b[1;33m    \u001b[1;31m# ставим брейкпоинт в этом месте\u001b[0m\u001b[1;33m\u001b[0m\u001b[1;33m\u001b[0m\u001b[1;33m\u001b[0m\u001b[0m\n",
      "\u001b[0m\u001b[1;32m      8 \u001b[1;33m    \u001b[0mpdb\u001b[0m\u001b[1;33m.\u001b[0m\u001b[0mset_trace\u001b[0m\u001b[1;33m(\u001b[0m\u001b[1;33m)\u001b[0m\u001b[1;33m\u001b[0m\u001b[1;33m\u001b[0m\u001b[0m\n",
      "\u001b[0m\u001b[1;32m----> 9 \u001b[1;33m    \u001b[1;32mfor\u001b[0m \u001b[0mmovie_genres\u001b[0m \u001b[1;32min\u001b[0m \u001b[0mcolumn\u001b[0m\u001b[1;33m:\u001b[0m\u001b[1;33m\u001b[0m\u001b[1;33m\u001b[0m\u001b[0m\n",
      "\u001b[0m\u001b[1;32m     10 \u001b[1;33m        \u001b[0msplitted\u001b[0m \u001b[1;33m=\u001b[0m \u001b[0mmovie_genres\u001b[0m\u001b[1;33m.\u001b[0m\u001b[0msplit\u001b[0m\u001b[1;33m(\u001b[0m\u001b[1;34m\",\"\u001b[0m\u001b[1;33m)\u001b[0m\u001b[1;33m\u001b[0m\u001b[1;33m\u001b[0m\u001b[0m\n",
      "\u001b[0m\u001b[1;32m     11 \u001b[1;33m        \u001b[0mgenres\u001b[0m\u001b[1;33m.\u001b[0m\u001b[0mextend\u001b[0m\u001b[1;33m(\u001b[0m\u001b[0msplitted\u001b[0m\u001b[1;33m)\u001b[0m\u001b[1;33m\u001b[0m\u001b[1;33m\u001b[0m\u001b[0m\n",
      "\u001b[0m\n",
      "ipdb> genres\n",
      "[]\n",
      "ipdb> next\n",
      "> \u001b[1;32m<ipython-input-34-2ee2dd064ad4>\u001b[0m(10)\u001b[0;36mcount_genres\u001b[1;34m()\u001b[0m\n",
      "\u001b[1;32m      8 \u001b[1;33m    \u001b[0mpdb\u001b[0m\u001b[1;33m.\u001b[0m\u001b[0mset_trace\u001b[0m\u001b[1;33m(\u001b[0m\u001b[1;33m)\u001b[0m\u001b[1;33m\u001b[0m\u001b[1;33m\u001b[0m\u001b[0m\n",
      "\u001b[0m\u001b[1;32m      9 \u001b[1;33m    \u001b[1;32mfor\u001b[0m \u001b[0mmovie_genres\u001b[0m \u001b[1;32min\u001b[0m \u001b[0mcolumn\u001b[0m\u001b[1;33m:\u001b[0m\u001b[1;33m\u001b[0m\u001b[1;33m\u001b[0m\u001b[0m\n",
      "\u001b[0m\u001b[1;32m---> 10 \u001b[1;33m        \u001b[0msplitted\u001b[0m \u001b[1;33m=\u001b[0m \u001b[0mmovie_genres\u001b[0m\u001b[1;33m.\u001b[0m\u001b[0msplit\u001b[0m\u001b[1;33m(\u001b[0m\u001b[1;34m\",\"\u001b[0m\u001b[1;33m)\u001b[0m\u001b[1;33m\u001b[0m\u001b[1;33m\u001b[0m\u001b[0m\n",
      "\u001b[0m\u001b[1;32m     11 \u001b[1;33m        \u001b[0mgenres\u001b[0m\u001b[1;33m.\u001b[0m\u001b[0mextend\u001b[0m\u001b[1;33m(\u001b[0m\u001b[0msplitted\u001b[0m\u001b[1;33m)\u001b[0m\u001b[1;33m\u001b[0m\u001b[1;33m\u001b[0m\u001b[0m\n",
      "\u001b[0m\u001b[1;32m     12 \u001b[1;33m    \u001b[0mcounter\u001b[0m \u001b[1;33m=\u001b[0m \u001b[0mCounter\u001b[0m\u001b[1;33m(\u001b[0m\u001b[0mgenres\u001b[0m\u001b[1;33m)\u001b[0m\u001b[1;33m\u001b[0m\u001b[1;33m\u001b[0m\u001b[0m\n",
      "\u001b[0m\n",
      "ipdb> next\n",
      "> \u001b[1;32m<ipython-input-34-2ee2dd064ad4>\u001b[0m(11)\u001b[0;36mcount_genres\u001b[1;34m()\u001b[0m\n",
      "\u001b[1;32m      9 \u001b[1;33m    \u001b[1;32mfor\u001b[0m \u001b[0mmovie_genres\u001b[0m \u001b[1;32min\u001b[0m \u001b[0mcolumn\u001b[0m\u001b[1;33m:\u001b[0m\u001b[1;33m\u001b[0m\u001b[1;33m\u001b[0m\u001b[0m\n",
      "\u001b[0m\u001b[1;32m     10 \u001b[1;33m        \u001b[0msplitted\u001b[0m \u001b[1;33m=\u001b[0m \u001b[0mmovie_genres\u001b[0m\u001b[1;33m.\u001b[0m\u001b[0msplit\u001b[0m\u001b[1;33m(\u001b[0m\u001b[1;34m\",\"\u001b[0m\u001b[1;33m)\u001b[0m\u001b[1;33m\u001b[0m\u001b[1;33m\u001b[0m\u001b[0m\n",
      "\u001b[0m\u001b[1;32m---> 11 \u001b[1;33m        \u001b[0mgenres\u001b[0m\u001b[1;33m.\u001b[0m\u001b[0mextend\u001b[0m\u001b[1;33m(\u001b[0m\u001b[0msplitted\u001b[0m\u001b[1;33m)\u001b[0m\u001b[1;33m\u001b[0m\u001b[1;33m\u001b[0m\u001b[0m\n",
      "\u001b[0m\u001b[1;32m     12 \u001b[1;33m    \u001b[0mcounter\u001b[0m \u001b[1;33m=\u001b[0m \u001b[0mCounter\u001b[0m\u001b[1;33m(\u001b[0m\u001b[0mgenres\u001b[0m\u001b[1;33m)\u001b[0m\u001b[1;33m\u001b[0m\u001b[1;33m\u001b[0m\u001b[0m\n",
      "\u001b[0m\u001b[1;32m     13 \u001b[1;33m\u001b[1;33m\u001b[0m\u001b[0m\n",
      "\u001b[0m\n",
      "ipdb> next\n",
      "> \u001b[1;32m<ipython-input-34-2ee2dd064ad4>\u001b[0m(9)\u001b[0;36mcount_genres\u001b[1;34m()\u001b[0m\n",
      "\u001b[1;32m      7 \u001b[1;33m    \u001b[1;31m# ставим брейкпоинт в этом месте\u001b[0m\u001b[1;33m\u001b[0m\u001b[1;33m\u001b[0m\u001b[1;33m\u001b[0m\u001b[0m\n",
      "\u001b[0m\u001b[1;32m      8 \u001b[1;33m    \u001b[0mpdb\u001b[0m\u001b[1;33m.\u001b[0m\u001b[0mset_trace\u001b[0m\u001b[1;33m(\u001b[0m\u001b[1;33m)\u001b[0m\u001b[1;33m\u001b[0m\u001b[1;33m\u001b[0m\u001b[0m\n",
      "\u001b[0m\u001b[1;32m----> 9 \u001b[1;33m    \u001b[1;32mfor\u001b[0m \u001b[0mmovie_genres\u001b[0m \u001b[1;32min\u001b[0m \u001b[0mcolumn\u001b[0m\u001b[1;33m:\u001b[0m\u001b[1;33m\u001b[0m\u001b[1;33m\u001b[0m\u001b[0m\n",
      "\u001b[0m\u001b[1;32m     10 \u001b[1;33m        \u001b[0msplitted\u001b[0m \u001b[1;33m=\u001b[0m \u001b[0mmovie_genres\u001b[0m\u001b[1;33m.\u001b[0m\u001b[0msplit\u001b[0m\u001b[1;33m(\u001b[0m\u001b[1;34m\",\"\u001b[0m\u001b[1;33m)\u001b[0m\u001b[1;33m\u001b[0m\u001b[1;33m\u001b[0m\u001b[0m\n",
      "\u001b[0m\u001b[1;32m     11 \u001b[1;33m        \u001b[0mgenres\u001b[0m\u001b[1;33m.\u001b[0m\u001b[0mextend\u001b[0m\u001b[1;33m(\u001b[0m\u001b[0msplitted\u001b[0m\u001b[1;33m)\u001b[0m\u001b[1;33m\u001b[0m\u001b[1;33m\u001b[0m\u001b[0m\n",
      "\u001b[0m\n",
      "ipdb> splitted\n",
      "['Action', 'Adventure', 'Sci-Fi']\n",
      "ipdb> genres\n",
      "['Action', 'Adventure', 'Sci-Fi']\n",
      "ipdb> continue\n",
      "Counter({'Drama': 501, 'Action': 296, 'Comedy': 277, 'Adventure': 254, 'Thriller': 189, 'Crime': 146, 'Romance': 138, 'Sci-Fi': 117, 'Horror': 117, 'Mystery': 103, 'Fantasy': 100, 'Biography': 80, 'Family': 51, 'Animation': 49, 'History': 26, 'Sport': 18, 'Music': 16, 'War': 13, 'Western': 7, 'Musical': 5})\n"
     ]
    }
   ],
   "source": [
    "from collections import Counter  \n",
    "import pdb  \n",
    "  \n",
    "\n",
    "def count_genres(column):  \n",
    "    genres = []  \n",
    "    # ставим брейкпоинт в этом месте  \n",
    "    pdb.set_trace()  \n",
    "    for movie_genres in column:  \n",
    "        splitted = movie_genres.split(\",\")  \n",
    "        genres.extend(splitted)  \n",
    "    counter = Counter(genres)  \n",
    "      \n",
    "    return counter   \n",
    "   \n",
    "print(count_genres(movies[\"Genre\"]))  "
   ]
  },
  {
   "cell_type": "markdown",
   "metadata": {},
   "source": [
    "Рекомендуем запустить дебаггер для какой-то простой программы, чтобы посомтреть на программу глазами интерпретатора и лучше понять поток данных в ней. Для отладки нужно поставить брэкпонит в точке, где у вас всё работает нормально и проходить до момента, где уже точно сломалось. Так вы с высокой вероятностью найдёте аномалию в данных и сможете исправить ошибку."
   ]
  },
  {
   "cell_type": "markdown",
   "metadata": {},
   "source": [
    "### ЗАДАЧИ"
   ]
  },
  {
   "cell_type": "markdown",
   "metadata": {},
   "source": [
    "У нас есть функция group_values(db, value_key, group_key, step). Она должна группировать объекты из db по ключу group_key с шагом step. В результат попадает только значение аттрибута value_key.\n",
    "\n",
    "Это похоже на гистограмму, когда мы раскладываем значения по корзинам определённого размера. Скажем, у нас есть пользователи:\n",
    "\n",
    "   <code>user_db = [\n",
    "    {\"name\": \"Elena\", \"age\": 19, \"salary\": 80_000},\n",
    "    {\"name\": \"Sergey\", \"age\": 31, \"salary\": 160_000},\n",
    "    {\"name\": \"Olga\", \"age\": 33, \"salary\": 170_000},\n",
    "    {\"name\": \"Vadim\", \"age\": 17, \"salary\": 45_000}\n",
    "]</code>\n",
    "    \n",
    "Мы хотим сгруппировать их зарплаты(salary) по возрасту(age) с шагом в 10 лет. Получится\n",
    "\n",
    "<code>group_values(user_db, \"salary\", \"age\", 10)</code>  \n",
    "<code># =></code>  \n",
    "<code># {</code>  \n",
    "<code>#     10: [80_000, 45_000],</code>  \n",
    "<code>#     30: [160_000, 170_000]</code>  \n",
    "<code># }</code>\n",
    "    \n",
    "Сейчас функция возвращает что-то не то. Исправьте это, пользуясь pdb. Для этого вам нужно скопировать код на свой компьютер и запустить либо в Python, либо в Jupyter. Входной формат именно такой, как указан в примере user_db\n",
    "\n",
    "<code>from collections import defaultdict</code>\n",
    "\n",
    "<code>def group_values(db, value_key, group_key, step):\n",
    "    grouped = defaultdict(list) \n",
    "    for item in db:\n",
    "        grouped[item[group_key] % step].append(item[value_key])\n",
    "    return grouped</code>\n",
    "    "
   ]
  },
  {
   "cell_type": "code",
   "execution_count": 41,
   "metadata": {},
   "outputs": [],
   "source": [
    "from collections import defaultdict\n",
    "\n",
    "def group_values(db, value_key, group_key, step):\n",
    "    grouped = defaultdict(list) \n",
    "    for item in db:\n",
    "        grouped[(item[group_key] // step) * step].append(item[value_key])\n",
    "    return dict(grouped)"
   ]
  },
  {
   "cell_type": "code",
   "execution_count": 42,
   "metadata": {},
   "outputs": [
    {
     "data": {
      "text/plain": [
       "{10: [80000, 45000], 30: [160000, 170000]}"
      ]
     },
     "execution_count": 42,
     "metadata": {},
     "output_type": "execute_result"
    }
   ],
   "source": [
    "user_db = [\n",
    "    {\"name\": \"Elena\", \"age\": 19, \"salary\": 80_000},\n",
    "    {\"name\": \"Sergey\", \"age\": 31, \"salary\": 160_000},\n",
    "    {\"name\": \"Olga\", \"age\": 33, \"salary\": 170_000},\n",
    "    {\"name\": \"Vadim\", \"age\": 17, \"salary\": 45_000}\n",
    "]\n",
    "\n",
    "group_values(user_db, \"salary\", \"age\", 10)"
   ]
  },
  {
   "cell_type": "markdown",
   "metadata": {},
   "source": [
    "[К содержанию](#0)"
   ]
  },
  {
   "cell_type": "markdown",
   "metadata": {},
   "source": [
    "---"
   ]
  },
  {
   "cell_type": "markdown",
   "metadata": {},
   "source": [
    "# Смысл тестирования<a name=\"14\"></a>"
   ]
  },
  {
   "cell_type": "markdown",
   "metadata": {},
   "source": [
    "Объяснение **смысла тестирования** начнём с классического анекдота.\n",
    "\n",
    "*У программиста спрашивают:*\n",
    "\n",
    "*— В чём сложность поддержки большого проекта?*\n",
    "\n",
    "*Программист:*\n",
    "\n",
    "*— Представь, что ты писатель и поддерживаешь проект «Война и мир». У тебя ТЗ — написать главу, как Наташа Ростова гуляла под дождём по парку. Ты пишешь «шёл дождь», сохраняешь, вылетает сообщение об ошибке «Наташа Ростова умерла, продолжение невозможно». Почему умерла? Начинаешь разбираться. Выясняется, что у Пьера Безухова скользкие туфли, он упал, его пистолет ударился о землю и выстрелил в столб, а пуля от столба срикошетила в Наташу. Что делать? Зарядить пистолет холостыми? Поменять туфли? Решили убрать столб. Получаем сообщение «Поручик Ржевский умер». Выясняется, что он в следующей главе опирается на столб, которого уже нет.*\n",
    "\n",
    "Чем сложнее программа, тем больше вероятность ошибки. Если вы постоянно меняете ошибку в разных местах, то функции, которые работали вчера, могут не сработать сегодня. Ситуация усложняется, если вы работаете в команде: нельзя гарантировать, что изменения, внесенные коллегой, не сломают ваш код.\n",
    "\n",
    "Вы можете проверять код руками с помощью **print, дебаггера** и анализа результата выполнения программы. Это может нормально работать для небольших программ, но с ростом количества кода и функций каждая проверка требует больше времени. Кроме того, вы вряд ли сможете каждый раз проверять все функции и ограничитесь одной-двумя базовыми проверками, что плохо скажется на качестве."
   ]
  },
  {
   "cell_type": "markdown",
   "metadata": {},
   "source": [
    "[К содержанию](#0)"
   ]
  },
  {
   "cell_type": "markdown",
   "metadata": {},
   "source": [
    "---"
   ]
  },
  {
   "cell_type": "markdown",
   "metadata": {},
   "source": [
    "# Автоматическое тестирование<a name=\"15\"></a>"
   ]
  },
  {
   "cell_type": "markdown",
   "metadata": {},
   "source": [
    "Сложности, которые могут возникнуть  с ручным тестированием, может решить **автоматическое тестирование**. В разделе отладки мы говорили, что нужно анализировать **поток данных**: что поступает на вход и получается на выходе; на это и нацелены тесты функций.\n",
    "\n",
    "Воспользуемся **библиотекой pytest**, которая позволяет определять тесты и используется в крупных проектах. Документацию к библиотеке можно посмотреть [здесь](https://docs.pytest.org/en/latest/). \n",
    "\n",
    "Запустилось три теста (*collected 3 items*), и все три корректно отработали (*3 passed*):"
   ]
  },
  {
   "cell_type": "code",
   "execution_count": 44,
   "metadata": {
    "id": "MKKyqBfLb2sS"
   },
   "outputs": [],
   "source": [
    "def test_something():  \n",
    "    assert True  \n",
    "      \n",
    "def test_equal_string():  \n",
    "    greetings = \"Hello, \" +  \"world\"  \n",
    "    assert greetings == \"Hello, world\"\n",
    "    \n",
    "def test_numbers():  \n",
    "    total = 73 + 42  \n",
    "    assert total == 115\n",
    "\n",
    "# После этого мы запускаем код с помощью pytest из консоли  \n",
    "# >> pytest basic_test.py  \n",
    "# ============================= test session starts ==============================  \n",
    "# collected 3 items                                                                \n",
    "  \n",
    "# basic_test.py ...                                                        [100%]  \n",
    "  \n",
    "# =========================== 3 passed in 0.03 seconds ==========================="
   ]
  },
  {
   "cell_type": "markdown",
   "metadata": {},
   "source": [
    "У нас **две проблемы** с данными в столбце:\n",
    "\n",
    "* численные данные заведены **строкой**, так что мы не можем выполнять арифметические операции;\n",
    "* в данных есть **пропуски**, например, не у всех фильмов есть оценка с *metascore*.  \n",
    "\n",
    "Напишем и протестируем функцию, которая это исправляет. Все тесты проходят, всё корректно работает:"
   ]
  },
  {
   "cell_type": "code",
   "execution_count": 46,
   "metadata": {
    "colab": {
     "base_uri": "https://localhost:8080/"
    },
    "id": "y986XeGbb2sU",
    "outputId": "e67fd3ac-715d-42d1-dfcf-c60e73f4f71f"
   },
   "outputs": [],
   "source": [
    "# Функция, которая обращает все строки в числа и подставляет значение по умолчанию, если встречает пропуск.  \n",
    "def digitize_values(collection, default=0):  \n",
    "    no_missed = [value if value else default for value in collection]   \n",
    "    return [float(value) for value in no_missed]  \n",
    "  \n",
    "# Мы передаём на вход произвольные параметры и смотрим, что функция корректно работает с ними   \n",
    "# Проверим, что функция корректно обращает список строк в список чисел  \n",
    "def test_digitize_convert_to_float():  \n",
    "    assert digitize_values([\"10\", \"50\"])  == [10, 50]  \n",
    "    assert digitize_values([\"70.2\", \"33.4\"]) == [70.2, 33.4]  \n",
    "      \n",
    "# Хорошей практикой считается покрывать разные аспекты функции в разных тестах  \n",
    "# Здесь мы проверим, что функция закрывает пропуски   \n",
    "def test_digitize_restore_missed():  \n",
    "    assert digitize_values([\"\"], 10) == [10]  \n",
    "    assert digitize_values([\"20\", None], 50) == [20, 50]  \n",
    "      \n",
    "# Ещё стоит проверять, что наша функция корректно работает на граничных значениях  \n",
    "# Например, на пустых данных  \n",
    "def test_digitize_empty():  \n",
    "    assert digitize_values([]) == []  \n",
    "\n",
    "    \n",
    "# Запустим тесты  \n",
    "# >>> pytest digitize.py  \n",
    "# ============================= test session starts ==============================  \n",
    "# collected 3 items                                                                \n",
    "  \n",
    "# digitize.py ...                                                          [100%]  \n",
    "  \n",
    "# =========================== 3 passed in 0.04 seconds ===========================  "
   ]
  },
  {
   "cell_type": "markdown",
   "metadata": {},
   "source": [
    "[К содержанию](#0)"
   ]
  },
  {
   "cell_type": "markdown",
   "metadata": {},
   "source": [
    "---"
   ]
  },
  {
   "cell_type": "markdown",
   "metadata": {},
   "source": [
    "# Типы тестов<a name=\"16\"></a>"
   ]
  },
  {
   "cell_type": "markdown",
   "metadata": {},
   "source": [
    "Тесты, которые мы написали в предыдущем блоке, называются **unit-тестами**, потому что они проверяют **отдельный блок**. Они помогают проверить работу отдельных функций, но остаётся вопрос: корректно ли функции взаимодействуют друг с другом. Для этого есть ещё два типа тестов: **интеграционный** и **приёмочный**.\n",
    "\n",
    "Интеграционные тесты проверяют, что отдельные функции корректно **обмениваются данными**. Это подобно проверке того, что USB-провод входит в USB-порт. Приёмочные тесты проверяют код в **контексте** пользователя, например, автоматически прокликивая программу или веб-приложение на популярных сценариях использования продукта.\n",
    "\n",
    "Тестирование — большая область; есть отдельные курсы на эту тему и даже отдельная профессия **QA-инженер**, который занимается исключительно тестированием. Мы надеемся, что у вас появилось общее представление о том, зачем нужны тесты и как их делать. Более подробное введение в тестирование есть в книгах [Гарри Персиваля](https://www.labirint.ru/books/641696/) и [Брайана Оккена](https://www.amazon.com/Python-Testing-pytest-Effective-Scalable/dp/1680502409)."
   ]
  },
  {
   "cell_type": "markdown",
   "metadata": {},
   "source": [
    "[К содержанию](#0)"
   ]
  },
  {
   "cell_type": "markdown",
   "metadata": {},
   "source": [
    "---"
   ]
  }
 ],
 "metadata": {
  "kernelspec": {
   "display_name": "Python 3",
   "language": "python",
   "name": "python3"
  },
  "language_info": {
   "codemirror_mode": {
    "name": "ipython",
    "version": 3
   },
   "file_extension": ".py",
   "mimetype": "text/x-python",
   "name": "python",
   "nbconvert_exporter": "python",
   "pygments_lexer": "ipython3",
   "version": "3.8.5"
  }
 },
 "nbformat": 4,
 "nbformat_minor": 5
}
