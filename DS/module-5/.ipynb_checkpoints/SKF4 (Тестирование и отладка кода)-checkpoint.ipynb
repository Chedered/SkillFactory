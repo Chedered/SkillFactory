{
 "cells": [
  {
   "cell_type": "markdown",
   "id": "cfe8b573",
   "metadata": {},
   "source": [
    "# Содержание<a name=\"0\"></a>"
   ]
  },
  {
   "cell_type": "markdown",
   "id": "2b55987c",
   "metadata": {},
   "source": [
    "1. [Чтение сообщений об ошибках](#1)\n",
    "2. [Исключения](#2)\n",
    "3. [Стэк вызова](#3)\n",
    "4. [Что такое исключение](#4)\n",
    "5. [Обработка исключений](#5)\n",
    "6. [Осознанная обработка исключений](#6)\n",
    "7. [Иерархия исключений](#7)\n",
    "8. [Детали try-except](#8)\n",
    "9. [Отладка: введение](#9)\n",
    "10. [Отладка исключений](#10)\n",
    "11. [Отладка через print](#11)\n",
    "12. [Однородность. Практика](#12)\n",
    "13. [Полнота. Практика](#13)\n",
    "14. [V-мера. Практика](#14)\n",
    "15. [Кластеризация текстов](#15)"
   ]
  },
  {
   "cell_type": "markdown",
   "id": "566866bd",
   "metadata": {},
   "source": [
    "---"
   ]
  },
  {
   "cell_type": "markdown",
   "id": "0e7bb0ea",
   "metadata": {},
   "source": [
    "# Чтение сообщений об ошибках<a name=\"1\"></a>"
   ]
  },
  {
   "cell_type": "markdown",
   "id": "c1d1c979",
   "metadata": {},
   "source": [
    "**Программа** — набор **инструкций**, которые мы отправляем интерпретатору. Когда интерпретатор не понимает наших инструкций, он сообщает об этом. В сообщениях об ошибках в *Python* содержится много полезной информации, и правильно их читать — полезный навык.\n",
    "\n",
    "Мы допустили **синтаксическую ошибку** и получили сообщение:"
   ]
  },
  {
   "cell_type": "code",
   "execution_count": 3,
   "id": "e289604d",
   "metadata": {},
   "outputs": [
    {
     "ename": "SyntaxError",
     "evalue": "EOL while scanning string literal (<ipython-input-3-f67a3b4ec1d7>, line 1)",
     "output_type": "error",
     "traceback": [
      "\u001b[1;36m  File \u001b[1;32m\"<ipython-input-3-f67a3b4ec1d7>\"\u001b[1;36m, line \u001b[1;32m1\u001b[0m\n\u001b[1;33m    print(\"hello')\u001b[0m\n\u001b[1;37m                   ^\u001b[0m\n\u001b[1;31mSyntaxError\u001b[0m\u001b[1;31m:\u001b[0m EOL while scanning string literal\n"
     ]
    }
   ],
   "source": [
    "print(\"hello') "
   ]
  },
  {
   "attachments": {},
   "cell_type": "markdown",
   "id": "17357622",
   "metadata": {},
   "source": [
    "На что стоит обратить внимание:\n",
    "\n",
    "* Сообщение начинается с **названия файла**, где допущена ошибка. В примере это ячейка из *Jupyter*, поэтому название является техническим. Если вы собираете проект из многих файлов, то здесь будет имя соответствующего файла.\n",
    "* После названия файла идёт **номер строки** с ошибкой, в данном случае — первая строка (line 1).\n",
    "* Дальше выводится **строка** из кода, так что вы сразу можете оценить, что пошло не так.\n",
    "* В конце указывается, что это была синтаксическая ошибка (**SyntaxError**), и идёт пояснительное сообщение. У разных синтаксических ошибок пояснительное сообщение разное и обычно позволяет понять, как исправить ошибку.  \n",
    "\n",
    "Лучше начинать чтение сообщения с конца, чтобы понять, на что жалуется интерпретатор, а потом уже смотреть, где именно."
   ]
  },
  {
   "cell_type": "markdown",
   "id": "2bf98a8a",
   "metadata": {},
   "source": [
    "[К содержанию](#0)"
   ]
  },
  {
   "cell_type": "markdown",
   "id": "44486ac6",
   "metadata": {},
   "source": [
    "---"
   ]
  },
  {
   "cell_type": "markdown",
   "id": "a68b5b2c",
   "metadata": {},
   "source": [
    "# Исключения<a name=\"2\"></a>"
   ]
  },
  {
   "cell_type": "markdown",
   "id": "5f3433ee",
   "metadata": {},
   "source": [
    "**Синтаксические ошибки** исправлять проще всего: это небольшие **опечатки**, и даже если мы их допустили, часто они находятся в одной строчке, на которую нам указывает интерпретатор. Более интересный класс ошибок — **исключения**, неудачные сочетания логики и данных:"
   ]
  },
  {
   "cell_type": "code",
   "execution_count": 4,
   "id": "8c0c2472",
   "metadata": {},
   "outputs": [
    {
     "ename": "ZeroDivisionError",
     "evalue": "division by zero",
     "output_type": "error",
     "traceback": [
      "\u001b[1;31m---------------------------------------------------------------------------\u001b[0m",
      "\u001b[1;31mZeroDivisionError\u001b[0m                         Traceback (most recent call last)",
      "\u001b[1;32m<ipython-input-4-aea8a4a1beb7>\u001b[0m in \u001b[0;36m<module>\u001b[1;34m\u001b[0m\n\u001b[1;32m----> 1\u001b[1;33m \u001b[0ma\u001b[0m \u001b[1;33m=\u001b[0m \u001b[1;36m5\u001b[0m \u001b[1;33m/\u001b[0m \u001b[1;36m0\u001b[0m\u001b[1;33m\u001b[0m\u001b[1;33m\u001b[0m\u001b[0m\n\u001b[0m",
      "\u001b[1;31mZeroDivisionError\u001b[0m: division by zero"
     ]
    }
   ],
   "source": [
    "a = 5 / 0  "
   ]
  },
  {
   "cell_type": "markdown",
   "id": "6d680299",
   "metadata": {},
   "source": [
    "Мы стали делить на ноль, и *Python* вывел сообщение об ошибке, так же как и с синтаксической ошибкой:\n",
    "\n",
    "* название исключения (**ZeroDivisionError**);\n",
    "* файл, номер строки и сама строка с ошибкой;\n",
    "* название исключения повторяется и добавляется поясняющее сообщение *division by zero*.  \n",
    "\n",
    "Если ошибка будет в другом, название исключения и поясняющее сообщение изменится:"
   ]
  },
  {
   "cell_type": "code",
   "execution_count": 5,
   "id": "7260cd48",
   "metadata": {},
   "outputs": [
    {
     "ename": "KeyError",
     "evalue": "'cheburshka'",
     "output_type": "error",
     "traceback": [
      "\u001b[1;31m---------------------------------------------------------------------------\u001b[0m",
      "\u001b[1;31mKeyError\u001b[0m                                  Traceback (most recent call last)",
      "\u001b[1;32m<ipython-input-5-84db41cde3e6>\u001b[0m in \u001b[0;36m<module>\u001b[1;34m\u001b[0m\n\u001b[0;32m      1\u001b[0m \u001b[0mdictionary\u001b[0m \u001b[1;33m=\u001b[0m \u001b[1;33m{\u001b[0m\u001b[1;34m\"cheboksary\"\u001b[0m\u001b[1;33m:\u001b[0m \u001b[1;34m\"city\"\u001b[0m\u001b[1;33m,\u001b[0m \u001b[1;34m\"cheburek\"\u001b[0m\u001b[1;33m:\u001b[0m \u001b[1;34m\"food\"\u001b[0m\u001b[1;33m}\u001b[0m\u001b[1;33m\u001b[0m\u001b[1;33m\u001b[0m\u001b[0m\n\u001b[1;32m----> 2\u001b[1;33m \u001b[0mdictionary\u001b[0m\u001b[1;33m[\u001b[0m\u001b[1;34m\"cheburshka\"\u001b[0m\u001b[1;33m]\u001b[0m\u001b[1;33m\u001b[0m\u001b[1;33m\u001b[0m\u001b[0m\n\u001b[0m",
      "\u001b[1;31mKeyError\u001b[0m: 'cheburshka'"
     ]
    }
   ],
   "source": [
    "dictionary = {\"cheboksary\": \"city\", \"cheburek\": \"food\"}  \n",
    "dictionary[\"cheburshka\"] "
   ]
  },
  {
   "cell_type": "markdown",
   "id": "6b293092",
   "metadata": {},
   "source": [
    "В этом примере мы получили **KeyError** — отсутствующий **ключ** в словаре и сам ключ."
   ]
  },
  {
   "cell_type": "markdown",
   "id": "c3b3219a",
   "metadata": {},
   "source": [
    "[К содержанию](#0)"
   ]
  },
  {
   "cell_type": "markdown",
   "id": "5b7a4f53",
   "metadata": {},
   "source": [
    "---"
   ]
  },
  {
   "cell_type": "markdown",
   "id": "8a753cd6",
   "metadata": {},
   "source": [
    "# Стэк вызова<a name=\"3\"></a>"
   ]
  },
  {
   "cell_type": "markdown",
   "id": "cdbf39ba",
   "metadata": {},
   "source": [
    "Мы говорили, что в сообщении об ошибке указывается **файл** и **номер строки**, где она случилась. На самом деле указывается **стэк вызова (Traceback)**. Это весь путь, который проходит интерпретатор до того, как встретил ошибку. Посмотрим на примере: программа генерирует номера домов на улице, добавляя номер дома к названию улицы:"
   ]
  },
  {
   "cell_type": "code",
   "execution_count": 6,
   "id": "0bd2fde7",
   "metadata": {},
   "outputs": [
    {
     "ename": "TypeError",
     "evalue": "can only concatenate str (not \"int\") to str",
     "output_type": "error",
     "traceback": [
      "\u001b[1;31m---------------------------------------------------------------------------\u001b[0m",
      "\u001b[1;31mTypeError\u001b[0m                                 Traceback (most recent call last)",
      "\u001b[1;32m<ipython-input-6-f1e592a89e52>\u001b[0m in \u001b[0;36m<module>\u001b[1;34m\u001b[0m\n\u001b[0;32m     10\u001b[0m     \u001b[1;32mreturn\u001b[0m \u001b[0maddresses\u001b[0m\u001b[1;33m\u001b[0m\u001b[1;33m\u001b[0m\u001b[0m\n\u001b[0;32m     11\u001b[0m \u001b[1;33m\u001b[0m\u001b[0m\n\u001b[1;32m---> 12\u001b[1;33m \u001b[0mstreet\u001b[0m\u001b[1;33m(\u001b[0m\u001b[1;34m\"Tverskaya\"\u001b[0m\u001b[1;33m,\u001b[0m \u001b[1;36m7\u001b[0m\u001b[1;33m)\u001b[0m\u001b[1;33m\u001b[0m\u001b[1;33m\u001b[0m\u001b[0m\n\u001b[0m",
      "\u001b[1;32m<ipython-input-6-f1e592a89e52>\u001b[0m in \u001b[0;36mstreet\u001b[1;34m(street_name, last_house)\u001b[0m\n\u001b[0;32m      7\u001b[0m     \u001b[0maddresses\u001b[0m \u001b[1;33m=\u001b[0m \u001b[1;33m[\u001b[0m\u001b[1;33m]\u001b[0m\u001b[1;33m\u001b[0m\u001b[1;33m\u001b[0m\u001b[0m\n\u001b[0;32m      8\u001b[0m     \u001b[1;32mfor\u001b[0m \u001b[0mi\u001b[0m \u001b[1;32min\u001b[0m \u001b[0mrange\u001b[0m\u001b[1;33m(\u001b[0m\u001b[0mlast_house\u001b[0m\u001b[1;33m)\u001b[0m\u001b[1;33m:\u001b[0m\u001b[1;33m\u001b[0m\u001b[1;33m\u001b[0m\u001b[0m\n\u001b[1;32m----> 9\u001b[1;33m         \u001b[0maddresses\u001b[0m\u001b[1;33m.\u001b[0m\u001b[0mappend\u001b[0m\u001b[1;33m(\u001b[0m\u001b[0mhouse_address\u001b[0m\u001b[1;33m(\u001b[0m\u001b[0mstreet_name\u001b[0m\u001b[1;33m,\u001b[0m \u001b[0mi\u001b[0m\u001b[1;33m+\u001b[0m\u001b[1;36m1\u001b[0m\u001b[1;33m)\u001b[0m\u001b[1;33m)\u001b[0m\u001b[1;33m\u001b[0m\u001b[1;33m\u001b[0m\u001b[0m\n\u001b[0m\u001b[0;32m     10\u001b[0m     \u001b[1;32mreturn\u001b[0m \u001b[0maddresses\u001b[0m\u001b[1;33m\u001b[0m\u001b[1;33m\u001b[0m\u001b[0m\n\u001b[0;32m     11\u001b[0m \u001b[1;33m\u001b[0m\u001b[0m\n",
      "\u001b[1;32m<ipython-input-6-f1e592a89e52>\u001b[0m in \u001b[0;36mhouse_address\u001b[1;34m(street, number)\u001b[0m\n\u001b[0;32m      1\u001b[0m \u001b[1;31m# адрес одного дома\u001b[0m\u001b[1;33m\u001b[0m\u001b[1;33m\u001b[0m\u001b[1;33m\u001b[0m\u001b[0m\n\u001b[0;32m      2\u001b[0m \u001b[1;32mdef\u001b[0m \u001b[0mhouse_address\u001b[0m\u001b[1;33m(\u001b[0m\u001b[0mstreet\u001b[0m\u001b[1;33m,\u001b[0m \u001b[0mnumber\u001b[0m\u001b[1;33m)\u001b[0m\u001b[1;33m:\u001b[0m\u001b[1;33m\u001b[0m\u001b[1;33m\u001b[0m\u001b[0m\n\u001b[1;32m----> 3\u001b[1;33m     \u001b[1;32mreturn\u001b[0m \u001b[0mstreet\u001b[0m \u001b[1;33m+\u001b[0m \u001b[1;34m' '\u001b[0m \u001b[1;33m+\u001b[0m \u001b[0mnumber\u001b[0m\u001b[1;33m\u001b[0m\u001b[1;33m\u001b[0m\u001b[0m\n\u001b[0m\u001b[0;32m      4\u001b[0m \u001b[1;33m\u001b[0m\u001b[0m\n\u001b[0;32m      5\u001b[0m \u001b[1;31m# адреса домов на улице\u001b[0m\u001b[1;33m\u001b[0m\u001b[1;33m\u001b[0m\u001b[1;33m\u001b[0m\u001b[0m\n",
      "\u001b[1;31mTypeError\u001b[0m: can only concatenate str (not \"int\") to str"
     ]
    }
   ],
   "source": [
    "# адрес одного дома  \n",
    "def house_address(street, number):  \n",
    "    return street + ' ' + number   \n",
    "  \n",
    "# адреса домов на улице  \n",
    "def street(street_name, last_house):  \n",
    "    addresses = []  \n",
    "    for i in range(last_house):  \n",
    "        addresses.append(house_address(street_name, i+1))  \n",
    "    return addresses   \n",
    "  \n",
    "street(\"Tverskaya\", 7)  "
   ]
  },
  {
   "attachments": {},
   "cell_type": "markdown",
   "id": "e5e14594",
   "metadata": {},
   "source": [
    "Мы сначала вызвали **функцию street**, которая воспользовалась **house_address**, где уже закралась ошибка. Сообщение большое и может казаться неподъёмным, но это просто **список** всех наших функций с их местоположением и кодом, приведённый в том порядке, как мы их вызывали:\n",
    "\n",
    "* вызов *street* на 12-ой строчке;\n",
    "* вызов *house_address* внутри street на 9-ой;\n",
    "* ошибка на 3-ей строчке;\n",
    "* интерпретатор получил число там, где ожидал строку.  \n",
    "\n",
    "Мы пытаемся сложить **строку street** с **числом number**. Достаточно поменять street + ' ' + number на форматированную строку f\"{street} {number}\", чтобы программа корректно заработала."
   ]
  },
  {
   "cell_type": "markdown",
   "id": "04a04ebb",
   "metadata": {},
   "source": [
    "### Зачем такой стэк"
   ]
  },
  {
   "cell_type": "markdown",
   "id": "33553f5b",
   "metadata": {},
   "source": [
    "Зачем нам предыдущие шаги в стэке вызова, если в конце показывается истинное место ошибки? Причины две:\n",
    "\n",
    "* Одна и та же функция может вызваться в разных местах с разными данными: полный путь помогает понять контекст.\n",
    "* Вы пользуетесь сторонней библиотекой и некорректно применили функцию из неё: тогда ошибка может уйти глубже, и в конце стэка будут показываться нерелеватные внутренности библиотеки, а нужная функция будет в середине стэка."
   ]
  },
  {
   "cell_type": "markdown",
   "id": "14465bbe",
   "metadata": {},
   "source": [
    "[К содержанию](#0)"
   ]
  },
  {
   "cell_type": "markdown",
   "id": "973717cb",
   "metadata": {},
   "source": [
    "---"
   ]
  },
  {
   "cell_type": "markdown",
   "id": "cf72105f",
   "metadata": {},
   "source": [
    "# Что такое исключение<a name=\"4\"></a>"
   ]
  },
  {
   "cell_type": "markdown",
   "id": "b565ecf5",
   "metadata": {},
   "source": [
    "При ошибках *Python* генерирует исключения: разберёмся, что это такое и откуда они берутся. **Исключения** — это ещё один тип данных, как строки или числа."
   ]
  },
  {
   "cell_type": "code",
   "execution_count": 7,
   "id": "5bd06fa7",
   "metadata": {},
   "outputs": [
    {
     "name": "stdout",
     "output_type": "stream",
     "text": [
      "<class 'str'>\n",
      "<class 'int'>\n",
      "<class 'ValueError'>\n"
     ]
    }
   ],
   "source": [
    "print(type(\"Skillfactory\"))   \n",
    "print(type(42))  \n",
    "print(type(ValueError()))   "
   ]
  },
  {
   "cell_type": "markdown",
   "id": "32825ec3",
   "metadata": {},
   "source": [
    "Когда программа встречает некорректные ситуации, она выбрасывает исключения. Для базовых случаев это делает сам **интерпретатор**, но могут делать и авторы библиотек и программ в определённых ситуациях. Для этого есть специальный синтаксис **raise Exception()**."
   ]
  },
  {
   "cell_type": "code",
   "execution_count": 8,
   "id": "4ed34e05",
   "metadata": {},
   "outputs": [
    {
     "ename": "RuntimeError",
     "evalue": "",
     "output_type": "error",
     "traceback": [
      "\u001b[1;31m---------------------------------------------------------------------------\u001b[0m",
      "\u001b[1;31mRuntimeError\u001b[0m                              Traceback (most recent call last)",
      "\u001b[1;32m<ipython-input-8-38bb3ecd1e57>\u001b[0m in \u001b[0;36m<module>\u001b[1;34m\u001b[0m\n\u001b[1;32m----> 1\u001b[1;33m \u001b[1;32mraise\u001b[0m \u001b[0mRuntimeError\u001b[0m\u001b[1;33m(\u001b[0m\u001b[1;33m)\u001b[0m\u001b[1;33m\u001b[0m\u001b[1;33m\u001b[0m\u001b[0m\n\u001b[0m",
      "\u001b[1;31mRuntimeError\u001b[0m: "
     ]
    }
   ],
   "source": [
    "raise RuntimeError()"
   ]
  },
  {
   "cell_type": "markdown",
   "id": "b4bcc603",
   "metadata": {},
   "source": [
    "Зачем специально **генерировать ошибку** в собственном коде? Для того, чтобы писать более **предсказуемый код**, во многих ситуациях выбросить ошибку лучше, чем работать с некорректными данными. Выбрасывание исключений является повсеместной практикой в *Python* и других языках программирования.\n",
    "\n",
    "Давайте посмотрим на примере: у вас есть функция, которая сортирует объекты и делает разные действия. Пусть она сортирует фрукты на яблоки и апельсины:"
   ]
  },
  {
   "cell_type": "code",
   "execution_count": 9,
   "id": "e18736c7",
   "metadata": {},
   "outputs": [
    {
     "name": "stdout",
     "output_type": "stream",
     "text": [
      "Ready to eat\n"
     ]
    }
   ],
   "source": [
    "def show_fruit(fruit):  \n",
    "    if fruit == \"apple\":  \n",
    "        print(\"Ready to eat\")  \n",
    "    elif fruit == \"orange\":  \n",
    "        print(\"You need to peel first\")  \n",
    "        \n",
    "show_fruit(\"apple\")"
   ]
  },
  {
   "cell_type": "markdown",
   "id": "e62ffd1e",
   "metadata": {},
   "source": [
    "Что произойдёт, если мы вызовем эту функцию для морковки? Ничего: мы некорректно использовали функцию, и она нам позволила это сделать. Более корректно было бы выбросить ошибку:"
   ]
  },
  {
   "cell_type": "code",
   "execution_count": 10,
   "id": "c2b3a5a3",
   "metadata": {},
   "outputs": [
    {
     "name": "stdout",
     "output_type": "stream",
     "text": [
      "Ready to eat\n"
     ]
    },
    {
     "ename": "ValueError",
     "evalue": "",
     "output_type": "error",
     "traceback": [
      "\u001b[1;31m---------------------------------------------------------------------------\u001b[0m",
      "\u001b[1;31mValueError\u001b[0m                                Traceback (most recent call last)",
      "\u001b[1;32m<ipython-input-10-fa911b2d6004>\u001b[0m in \u001b[0;36m<module>\u001b[1;34m\u001b[0m\n\u001b[0;32m      8\u001b[0m \u001b[1;33m\u001b[0m\u001b[0m\n\u001b[0;32m      9\u001b[0m \u001b[0mshow_fruit\u001b[0m\u001b[1;33m(\u001b[0m\u001b[1;34m\"apple\"\u001b[0m\u001b[1;33m)\u001b[0m\u001b[1;33m\u001b[0m\u001b[1;33m\u001b[0m\u001b[0m\n\u001b[1;32m---> 10\u001b[1;33m \u001b[0mshow_fruit\u001b[0m\u001b[1;33m(\u001b[0m\u001b[1;34m\"carrot\"\u001b[0m\u001b[1;33m)\u001b[0m\u001b[1;33m\u001b[0m\u001b[1;33m\u001b[0m\u001b[0m\n\u001b[0m",
      "\u001b[1;32m<ipython-input-10-fa911b2d6004>\u001b[0m in \u001b[0;36mshow_fruit\u001b[1;34m(fruit)\u001b[0m\n\u001b[0;32m      5\u001b[0m         \u001b[0mprint\u001b[0m\u001b[1;33m(\u001b[0m\u001b[1;34m\"You need to peel first\"\u001b[0m\u001b[1;33m)\u001b[0m\u001b[1;33m\u001b[0m\u001b[1;33m\u001b[0m\u001b[0m\n\u001b[0;32m      6\u001b[0m     \u001b[1;32melse\u001b[0m\u001b[1;33m:\u001b[0m\u001b[1;33m\u001b[0m\u001b[1;33m\u001b[0m\u001b[0m\n\u001b[1;32m----> 7\u001b[1;33m         \u001b[1;32mraise\u001b[0m \u001b[0mValueError\u001b[0m\u001b[1;33m(\u001b[0m\u001b[1;33m)\u001b[0m\u001b[1;33m\u001b[0m\u001b[1;33m\u001b[0m\u001b[0m\n\u001b[0m\u001b[0;32m      8\u001b[0m \u001b[1;33m\u001b[0m\u001b[0m\n\u001b[0;32m      9\u001b[0m \u001b[0mshow_fruit\u001b[0m\u001b[1;33m(\u001b[0m\u001b[1;34m\"apple\"\u001b[0m\u001b[1;33m)\u001b[0m\u001b[1;33m\u001b[0m\u001b[1;33m\u001b[0m\u001b[0m\n",
      "\u001b[1;31mValueError\u001b[0m: "
     ]
    }
   ],
   "source": [
    "def show_fruit(fruit):  \n",
    "    if fruit == \"apple\":  \n",
    "        print(\"Ready to eat\")  \n",
    "    elif fruit == \"orange\":  \n",
    "        print(\"You need to peel first\")  \n",
    "    else:  \n",
    "        raise ValueError()  \n",
    "\n",
    "show_fruit(\"apple\")   \n",
    "show_fruit(\"carrot\")  "
   ]
  },
  {
   "cell_type": "markdown",
   "id": "dd8051c9",
   "metadata": {},
   "source": [
    "Здесь мы выбросили **ошибку значения** для некорректных данных (**ValueError**), но ошибка не информативная. Мы можем добавить поясняющее сообщение в скобках, чтобы было проще понять причину."
   ]
  },
  {
   "cell_type": "code",
   "execution_count": 11,
   "id": "89e4c4ef",
   "metadata": {},
   "outputs": [
    {
     "name": "stdout",
     "output_type": "stream",
     "text": [
      "Ready to eat\n"
     ]
    },
    {
     "ename": "ValueError",
     "evalue": "You need to pass correct fruit",
     "output_type": "error",
     "traceback": [
      "\u001b[1;31m---------------------------------------------------------------------------\u001b[0m",
      "\u001b[1;31mValueError\u001b[0m                                Traceback (most recent call last)",
      "\u001b[1;32m<ipython-input-11-6dce056aa4af>\u001b[0m in \u001b[0;36m<module>\u001b[1;34m\u001b[0m\n\u001b[0;32m      8\u001b[0m \u001b[1;33m\u001b[0m\u001b[0m\n\u001b[0;32m      9\u001b[0m \u001b[0mshow_fruit\u001b[0m\u001b[1;33m(\u001b[0m\u001b[1;34m\"apple\"\u001b[0m\u001b[1;33m)\u001b[0m\u001b[1;33m\u001b[0m\u001b[1;33m\u001b[0m\u001b[0m\n\u001b[1;32m---> 10\u001b[1;33m \u001b[0mshow_fruit\u001b[0m\u001b[1;33m(\u001b[0m\u001b[1;34m\"carrot\"\u001b[0m\u001b[1;33m)\u001b[0m\u001b[1;33m\u001b[0m\u001b[1;33m\u001b[0m\u001b[0m\n\u001b[0m",
      "\u001b[1;32m<ipython-input-11-6dce056aa4af>\u001b[0m in \u001b[0;36mshow_fruit\u001b[1;34m(fruit)\u001b[0m\n\u001b[0;32m      5\u001b[0m         \u001b[0mprint\u001b[0m\u001b[1;33m(\u001b[0m\u001b[1;34m\"You need to peel first\"\u001b[0m\u001b[1;33m)\u001b[0m\u001b[1;33m\u001b[0m\u001b[1;33m\u001b[0m\u001b[0m\n\u001b[0;32m      6\u001b[0m     \u001b[1;32melse\u001b[0m\u001b[1;33m:\u001b[0m\u001b[1;33m\u001b[0m\u001b[1;33m\u001b[0m\u001b[0m\n\u001b[1;32m----> 7\u001b[1;33m         \u001b[1;32mraise\u001b[0m \u001b[0mValueError\u001b[0m\u001b[1;33m(\u001b[0m\u001b[1;34m\"You need to pass correct fruit\"\u001b[0m\u001b[1;33m)\u001b[0m\u001b[1;33m\u001b[0m\u001b[1;33m\u001b[0m\u001b[0m\n\u001b[0m\u001b[0;32m      8\u001b[0m \u001b[1;33m\u001b[0m\u001b[0m\n\u001b[0;32m      9\u001b[0m \u001b[0mshow_fruit\u001b[0m\u001b[1;33m(\u001b[0m\u001b[1;34m\"apple\"\u001b[0m\u001b[1;33m)\u001b[0m\u001b[1;33m\u001b[0m\u001b[1;33m\u001b[0m\u001b[0m\n",
      "\u001b[1;31mValueError\u001b[0m: You need to pass correct fruit"
     ]
    }
   ],
   "source": [
    "def show_fruit(fruit):  \n",
    "    if fruit == \"apple\":  \n",
    "        print(\"Ready to eat\")  \n",
    "    elif fruit == \"orange\":  \n",
    "        print(\"You need to peel first\")  \n",
    "    else:  \n",
    "        raise ValueError(\"You need to pass correct fruit\")  \n",
    "\n",
    "show_fruit(\"apple\")  \n",
    "show_fruit(\"carrot\")  "
   ]
  },
  {
   "attachments": {},
   "cell_type": "markdown",
   "id": "816abbb7",
   "metadata": {},
   "source": [
    "В последней строчке у нас добавилось **пояснение**, что мы передали какой-то некорректный фрукт. В Python достаточно много встроенных типов исключений. Вы можете посмотреть их в [документации к языку](https://docs.python.org/3/library/exceptions.html) и выбирать подходящий по смыслу для вашей ситуации."
   ]
  },
  {
   "cell_type": "markdown",
   "id": "c5b3dae7",
   "metadata": {},
   "source": [
    "### Задачи"
   ]
  },
  {
   "cell_type": "markdown",
   "id": "72cd58f2",
   "metadata": {},
   "source": [
    "Напишие текст, который выведется на последней строке при исполнении программы:"
   ]
  },
  {
   "cell_type": "code",
   "execution_count": 12,
   "id": "0dc0ae10",
   "metadata": {},
   "outputs": [
    {
     "ename": "ValueError",
     "evalue": "Incorrect mode",
     "output_type": "error",
     "traceback": [
      "\u001b[1;31m---------------------------------------------------------------------------\u001b[0m",
      "\u001b[1;31mValueError\u001b[0m                                Traceback (most recent call last)",
      "\u001b[1;32m<ipython-input-12-463677257018>\u001b[0m in \u001b[0;36m<module>\u001b[1;34m\u001b[0m\n\u001b[0;32m      7\u001b[0m         \u001b[1;32mraise\u001b[0m \u001b[0mValueError\u001b[0m\u001b[1;33m(\u001b[0m\u001b[1;34m\"Incorrect mode\"\u001b[0m\u001b[1;33m)\u001b[0m\u001b[1;33m\u001b[0m\u001b[1;33m\u001b[0m\u001b[0m\n\u001b[0;32m      8\u001b[0m \u001b[1;33m\u001b[0m\u001b[0m\n\u001b[1;32m----> 9\u001b[1;33m \u001b[0mpreprocess_data\u001b[0m\u001b[1;33m(\u001b[0m\u001b[1;33m{\u001b[0m\u001b[1;34m\"price\"\u001b[0m\u001b[1;33m:\u001b[0m \u001b[1;36m100\u001b[0m\u001b[1;33m}\u001b[0m\u001b[1;33m,\u001b[0m \u001b[1;34m\"to_array\"\u001b[0m\u001b[1;33m)\u001b[0m\u001b[1;33m\u001b[0m\u001b[1;33m\u001b[0m\u001b[0m\n\u001b[0m",
      "\u001b[1;32m<ipython-input-12-463677257018>\u001b[0m in \u001b[0;36mpreprocess_data\u001b[1;34m(data, mode)\u001b[0m\n\u001b[0;32m      5\u001b[0m         \u001b[1;32mreturn\u001b[0m \u001b[1;33m[\u001b[0m\u001b[0mstr\u001b[0m\u001b[1;33m(\u001b[0m\u001b[0mvalue\u001b[0m\u001b[1;33m)\u001b[0m \u001b[1;32mfor\u001b[0m \u001b[0mvalue\u001b[0m \u001b[1;32min\u001b[0m \u001b[0mdata\u001b[0m\u001b[1;33m]\u001b[0m\u001b[1;33m\u001b[0m\u001b[1;33m\u001b[0m\u001b[0m\n\u001b[0;32m      6\u001b[0m     \u001b[1;32melse\u001b[0m\u001b[1;33m:\u001b[0m\u001b[1;33m\u001b[0m\u001b[1;33m\u001b[0m\u001b[0m\n\u001b[1;32m----> 7\u001b[1;33m         \u001b[1;32mraise\u001b[0m \u001b[0mValueError\u001b[0m\u001b[1;33m(\u001b[0m\u001b[1;34m\"Incorrect mode\"\u001b[0m\u001b[1;33m)\u001b[0m\u001b[1;33m\u001b[0m\u001b[1;33m\u001b[0m\u001b[0m\n\u001b[0m\u001b[0;32m      8\u001b[0m \u001b[1;33m\u001b[0m\u001b[0m\n\u001b[0;32m      9\u001b[0m \u001b[0mpreprocess_data\u001b[0m\u001b[1;33m(\u001b[0m\u001b[1;33m{\u001b[0m\u001b[1;34m\"price\"\u001b[0m\u001b[1;33m:\u001b[0m \u001b[1;36m100\u001b[0m\u001b[1;33m}\u001b[0m\u001b[1;33m,\u001b[0m \u001b[1;34m\"to_array\"\u001b[0m\u001b[1;33m)\u001b[0m\u001b[1;33m\u001b[0m\u001b[1;33m\u001b[0m\u001b[0m\n",
      "\u001b[1;31mValueError\u001b[0m: Incorrect mode"
     ]
    }
   ],
   "source": [
    "def preprocess_data(data, mode):\n",
    "    if mode == \"to_number\":\n",
    "        return [float(value) for value in data]\n",
    "    elif mode == \"to_str\":\n",
    "        return [str(value) for value in data]\n",
    "    else:\n",
    "        raise ValueError(\"Incorrect mode\")\n",
    "        \n",
    "preprocess_data({\"price\": 100}, \"to_array\")"
   ]
  },
  {
   "cell_type": "markdown",
   "id": "a44a88c7",
   "metadata": {},
   "source": [
    "Определите функцию check_server, которая принимает на вход переменную mode.\n",
    "\n",
    "* Если mode имеет значение \"memory\", программа должна вернуть строку \"Memory is ok\".\n",
    "* Если mode имеет значение \"connection\", программа должна вернуть строку \"Connection is ok\".\n",
    "* Для остальных случае программа должна выбросить исключение ValueError."
   ]
  },
  {
   "cell_type": "code",
   "execution_count": 18,
   "id": "4111e747",
   "metadata": {},
   "outputs": [],
   "source": [
    "def check_server(mode):  \n",
    "    if mode == \"memory\":  \n",
    "        return \"Memory is ok\" \n",
    "    elif mode == \"connection\":  \n",
    "        return \"Connection is ok\" \n",
    "    else:  \n",
    "        raise ValueError()"
   ]
  },
  {
   "cell_type": "markdown",
   "id": "b608155c",
   "metadata": {},
   "source": [
    "[К содержанию](#0)"
   ]
  },
  {
   "cell_type": "markdown",
   "id": "70b1d49a",
   "metadata": {},
   "source": [
    "---"
   ]
  },
  {
   "cell_type": "markdown",
   "id": "bf2735f9",
   "metadata": {},
   "source": [
    "# Обработка исключений<a name=\"5\"></a>"
   ]
  },
  {
   "cell_type": "markdown",
   "id": "b60581b6",
   "metadata": {},
   "source": [
    "Мы научились выбрасывать исключения, и потенциально это ломает программу. Очевидный способ избавиться от этого — **исправить ошибку**, но бывают ситуации, когда мы не вполне контролируем данные, например, пользовательский ввод или большая база данных с небольшим количеством искаженных данных. Изредка мы всё-таки будем получать **исключения**, и нам надо с этим как-то работать.\n",
    "\n",
    "Для этой цели мы можем воспользоваться блоком **отработки исключений** — **try-except**. Он позволяет отрабатывать исключения, не прерывая хода программы. Без блока *try-except* в примере мы бы получили **KeyError**, здесь же мы печатаем строку **Oops, key not found** и продолжаем выполнение программы."
   ]
  },
  {
   "cell_type": "code",
   "execution_count": 19,
   "id": "556f9df1",
   "metadata": {},
   "outputs": [
    {
     "name": "stdout",
     "output_type": "stream",
     "text": [
      "Oops, key not found\n",
      "End of program\n"
     ]
    }
   ],
   "source": [
    "dictionary = {}  \n",
    "try:  \n",
    "    dictionary[\"no_key\"]  \n",
    "except:  \n",
    "    print(\"Oops, key not found\")  \n",
    "\n",
    "print(\"End of program\")  "
   ]
  },
  {
   "cell_type": "markdown",
   "id": "f14f6d62",
   "metadata": {},
   "source": [
    "Если более формально, то мы пробуем выполнить часть программы, которая находится внутри **try**. Если эта часть кода выбрасывает исключение, то мы сразу переходим к выполнению части внутри **except**. Если же исключение не выбрасывается, то мы пропускаем часть внутри *except*. В любом случае мы выполняем программу дальше, как обычно."
   ]
  },
  {
   "cell_type": "markdown",
   "id": "bfaf3402",
   "metadata": {},
   "source": [
    "[К содержанию](#0)"
   ]
  },
  {
   "cell_type": "markdown",
   "id": "fb1e37d6",
   "metadata": {},
   "source": [
    "---"
   ]
  },
  {
   "cell_type": "markdown",
   "id": "c98ae958",
   "metadata": {},
   "source": [
    "# Осознанная обработка исключений<a name=\"6\"></a>"
   ]
  },
  {
   "cell_type": "markdown",
   "id": "ce5d0843",
   "metadata": {},
   "source": [
    "Общая идея использования **try-except** такая:\n",
    "\n",
    "* вы знаете, что у вас может возникнуть исключение, и не можете его полностью избежать;\n",
    "* вы \"отлавливаете\" эти исключения, а в блок **except** помещаете логику, которая позволит вам из этой ситуации корректно выйти.  \n",
    "\n",
    "Когда мы вызываем **raise**, то делаем подачу: тут какие-то не такие данные, нужно исправить. Когда мы обрабатываем исключения через **try-except**, то принимаем: да, данные неидеальные, но я об этом подумал. Проблема в том, что с обычным **try-except** можно \"отловить\" не только те исключения, на которые мы рассчитывали. \n",
    "\n",
    "Посмотрим на примере: у нас есть программа, которая отрабатывает очень **большую базу данных**, и мы бы хотели, чтобы была возможность корректно прервать её с клавиатуры. Код мог бы выглядеть как-то так:"
   ]
  },
  {
   "cell_type": "code",
   "execution_count": 20,
   "id": "3a8bad74",
   "metadata": {},
   "outputs": [
    {
     "ename": "NameError",
     "evalue": "name 'gently_close' is not defined",
     "output_type": "error",
     "traceback": [
      "\u001b[1;31m---------------------------------------------------------------------------\u001b[0m",
      "\u001b[1;31mNameError\u001b[0m                                 Traceback (most recent call last)",
      "\u001b[1;32m<ipython-input-20-78255ca4b81c>\u001b[0m in \u001b[0;36m<module>\u001b[1;34m\u001b[0m\n\u001b[0;32m      2\u001b[0m     \u001b[1;31m# запускаем программу отработки базы данных\u001b[0m\u001b[1;33m\u001b[0m\u001b[1;33m\u001b[0m\u001b[1;33m\u001b[0m\u001b[0m\n\u001b[1;32m----> 3\u001b[1;33m     \u001b[0mprocess\u001b[0m\u001b[1;33m(\u001b[0m\u001b[0mdb\u001b[0m\u001b[1;33m)\u001b[0m\u001b[1;33m\u001b[0m\u001b[1;33m\u001b[0m\u001b[0m\n\u001b[0m\u001b[0;32m      4\u001b[0m \u001b[1;32mexcept\u001b[0m\u001b[1;33m:\u001b[0m\u001b[1;33m\u001b[0m\u001b[1;33m\u001b[0m\u001b[0m\n",
      "\u001b[1;31mNameError\u001b[0m: name 'process' is not defined",
      "\nDuring handling of the above exception, another exception occurred:\n",
      "\u001b[1;31mNameError\u001b[0m                                 Traceback (most recent call last)",
      "\u001b[1;32m<ipython-input-20-78255ca4b81c>\u001b[0m in \u001b[0;36m<module>\u001b[1;34m\u001b[0m\n\u001b[0;32m      4\u001b[0m \u001b[1;32mexcept\u001b[0m\u001b[1;33m:\u001b[0m\u001b[1;33m\u001b[0m\u001b[1;33m\u001b[0m\u001b[0m\n\u001b[0;32m      5\u001b[0m     \u001b[1;31m# если с клавиатуры пришло прерывание, то корректно останавливаем процесс\u001b[0m\u001b[1;33m\u001b[0m\u001b[1;33m\u001b[0m\u001b[1;33m\u001b[0m\u001b[0m\n\u001b[1;32m----> 6\u001b[1;33m     \u001b[0mgently_close\u001b[0m\u001b[1;33m(\u001b[0m\u001b[0mdb\u001b[0m\u001b[1;33m)\u001b[0m\u001b[1;33m\u001b[0m\u001b[1;33m\u001b[0m\u001b[0m\n\u001b[0m",
      "\u001b[1;31mNameError\u001b[0m: name 'gently_close' is not defined"
     ]
    }
   ],
   "source": [
    "try:  \n",
    "    # запускаем программу отработки базы данных  \n",
    "    process(db)   \n",
    "except:  \n",
    "    # если с клавиатуры пришло прерывание, то корректно останавливаем процесс  \n",
    "    gently_close(db)  "
   ]
  },
  {
   "cell_type": "markdown",
   "id": "2ad29d1b",
   "metadata": {},
   "source": [
    "При остановке с клавиатуры мы получаем исключение **KeyInterrupt**, так что мы идём в блок **except** и корректно закрываем базу данных. Проблема в том, что *except* \"отловит\" и другие исключения, например, ошибку отсутствующего ключа или таймаута, что усложнит для нас обнаружение и исправление этих ошибок. На этот случай **try-except** позволяет указывать, какое именно исключение мы отлавливаем."
   ]
  },
  {
   "cell_type": "code",
   "execution_count": 21,
   "id": "34e9a00a",
   "metadata": {},
   "outputs": [
    {
     "ename": "NameError",
     "evalue": "name 'KeyInterrupt' is not defined",
     "output_type": "error",
     "traceback": [
      "\u001b[1;31m---------------------------------------------------------------------------\u001b[0m",
      "\u001b[1;31mNameError\u001b[0m                                 Traceback (most recent call last)",
      "\u001b[1;32m<ipython-input-21-dbbc21558267>\u001b[0m in \u001b[0;36m<module>\u001b[1;34m\u001b[0m\n\u001b[0;32m      1\u001b[0m \u001b[1;32mtry\u001b[0m\u001b[1;33m:\u001b[0m\u001b[1;33m\u001b[0m\u001b[1;33m\u001b[0m\u001b[0m\n\u001b[1;32m----> 2\u001b[1;33m     \u001b[0mprocess\u001b[0m\u001b[1;33m(\u001b[0m\u001b[0mdb\u001b[0m\u001b[1;33m)\u001b[0m\u001b[1;33m\u001b[0m\u001b[1;33m\u001b[0m\u001b[0m\n\u001b[0m\u001b[0;32m      3\u001b[0m \u001b[1;32mexcept\u001b[0m \u001b[0mKeyInterrupt\u001b[0m\u001b[1;33m:\u001b[0m  \u001b[1;31m# обратите внимание, что мы добавили имя исключения после except\u001b[0m\u001b[1;33m\u001b[0m\u001b[1;33m\u001b[0m\u001b[0m\n",
      "\u001b[1;31mNameError\u001b[0m: name 'process' is not defined",
      "\nDuring handling of the above exception, another exception occurred:\n",
      "\u001b[1;31mNameError\u001b[0m                                 Traceback (most recent call last)",
      "\u001b[1;32m<ipython-input-21-dbbc21558267>\u001b[0m in \u001b[0;36m<module>\u001b[1;34m\u001b[0m\n\u001b[0;32m      1\u001b[0m \u001b[1;32mtry\u001b[0m\u001b[1;33m:\u001b[0m\u001b[1;33m\u001b[0m\u001b[1;33m\u001b[0m\u001b[0m\n\u001b[0;32m      2\u001b[0m     \u001b[0mprocess\u001b[0m\u001b[1;33m(\u001b[0m\u001b[0mdb\u001b[0m\u001b[1;33m)\u001b[0m\u001b[1;33m\u001b[0m\u001b[1;33m\u001b[0m\u001b[0m\n\u001b[1;32m----> 3\u001b[1;33m \u001b[1;32mexcept\u001b[0m \u001b[0mKeyInterrupt\u001b[0m\u001b[1;33m:\u001b[0m  \u001b[1;31m# обратите внимание, что мы добавили имя исключения после except\u001b[0m\u001b[1;33m\u001b[0m\u001b[1;33m\u001b[0m\u001b[0m\n\u001b[0m\u001b[0;32m      4\u001b[0m     \u001b[0mgently_close\u001b[0m\u001b[1;33m(\u001b[0m\u001b[0mdb\u001b[0m\u001b[1;33m)\u001b[0m\u001b[1;33m\u001b[0m\u001b[1;33m\u001b[0m\u001b[0m\n",
      "\u001b[1;31mNameError\u001b[0m: name 'KeyInterrupt' is not defined"
     ]
    }
   ],
   "source": [
    "try:  \n",
    "    process(db)   \n",
    "except KeyInterrupt:  # обратите внимание, что мы добавили имя исключения после except  \n",
    "    gently_close(db)  "
   ]
  },
  {
   "cell_type": "markdown",
   "id": "3cede56c",
   "metadata": {},
   "source": [
    "Так мы не пропустим случайно неожиданную ошибку. Давайте посмотрим на ещё один пример для закрепления синтаксиса:"
   ]
  },
  {
   "cell_type": "code",
   "execution_count": 23,
   "id": "9a8b3cd1",
   "metadata": {},
   "outputs": [
    {
     "name": "stdout",
     "output_type": "stream",
     "text": [
      "Oops, key not found\n"
     ]
    },
    {
     "ename": "KeyError",
     "evalue": "'no_key'",
     "output_type": "error",
     "traceback": [
      "\u001b[1;31m---------------------------------------------------------------------------\u001b[0m",
      "\u001b[1;31mKeyError\u001b[0m                                  Traceback (most recent call last)",
      "\u001b[1;32m<ipython-input-23-797b2f1f3562>\u001b[0m in \u001b[0;36m<module>\u001b[1;34m\u001b[0m\n\u001b[0;32m      8\u001b[0m \u001b[0mdictionary\u001b[0m \u001b[1;33m=\u001b[0m \u001b[1;33m{\u001b[0m\u001b[1;33m}\u001b[0m\u001b[1;33m\u001b[0m\u001b[1;33m\u001b[0m\u001b[0m\n\u001b[0;32m      9\u001b[0m \u001b[1;32mtry\u001b[0m\u001b[1;33m:\u001b[0m\u001b[1;33m\u001b[0m\u001b[1;33m\u001b[0m\u001b[0m\n\u001b[1;32m---> 10\u001b[1;33m     \u001b[0mdictionary\u001b[0m\u001b[1;33m[\u001b[0m\u001b[1;34m\"no_key\"\u001b[0m\u001b[1;33m]\u001b[0m\u001b[1;33m\u001b[0m\u001b[1;33m\u001b[0m\u001b[0m\n\u001b[0m\u001b[0;32m     11\u001b[0m \u001b[1;32mexcept\u001b[0m \u001b[0mIOError\u001b[0m\u001b[1;33m:\u001b[0m\u001b[1;33m\u001b[0m\u001b[1;33m\u001b[0m\u001b[0m\n\u001b[0;32m     12\u001b[0m     \u001b[0mprint\u001b[0m\u001b[1;33m(\u001b[0m\u001b[1;34m\"Oops, key not found\"\u001b[0m\u001b[1;33m)\u001b[0m\u001b[1;33m\u001b[0m\u001b[1;33m\u001b[0m\u001b[0m\n",
      "\u001b[1;31mKeyError\u001b[0m: 'no_key'"
     ]
    }
   ],
   "source": [
    "dictionary = {}  \n",
    "try:  \n",
    "    dictionary[\"no_key\"]  \n",
    "except KeyError:  \n",
    "    print(\"Oops, key not found\")  \n",
    "# => Oops, key not found  \n",
    "  \n",
    "dictionary = {}  \n",
    "try:  \n",
    "    dictionary[\"no_key\"]  \n",
    "except IOError:  \n",
    "    print(\"Oops, key not found\")  "
   ]
  },
  {
   "cell_type": "markdown",
   "id": "a2dc6465",
   "metadata": {},
   "source": [
    "Во втором случае мы ожидали **IOError**, но исключение было **KeyError**, поэтому программа прервалась с ошибкой. Это упростит исправление ошибки."
   ]
  },
  {
   "cell_type": "markdown",
   "id": "efe9faac",
   "metadata": {},
   "source": [
    "[К содержанию](#0)"
   ]
  },
  {
   "cell_type": "markdown",
   "id": "850268ed",
   "metadata": {},
   "source": [
    "---"
   ]
  },
  {
   "cell_type": "markdown",
   "id": "05959e9b",
   "metadata": {},
   "source": [
    "# Иерархия исключений<a name=\"7\"></a>"
   ]
  },
  {
   "cell_type": "markdown",
   "id": "07289778",
   "metadata": {},
   "source": [
    "Исключения в *Python* имеют иерархию: у нас есть более общие и более специфичные исключения. Вот график исключений:"
   ]
  },
  {
   "attachments": {
    "image.png": {
     "image/png": "[encoded data removed]"
    }
   },
   "cell_type": "markdown",
   "id": "0264f2ed",
   "metadata": {},
   "source": [
    "![image.png](attachment:image.png)"
   ]
  },
  {
   "cell_type": "markdown",
   "id": "6acde48c",
   "metadata": {},
   "source": [
    "Здесь мы видим, что **KeyError** и **IndexError** являются подмножеством **LookupError**, которая является подмножеством **Exception**. На практике это имеет следующее значение: если мы укажем более верхнеуровневые исключения, то \"отловятся\" все **дочерние**, но не наоборот."
   ]
  },
  {
   "cell_type": "code",
   "execution_count": 24,
   "id": "8dcf6292",
   "metadata": {},
   "outputs": [
    {
     "name": "stdout",
     "output_type": "stream",
     "text": [
      "Key or index not found\n",
      "Key or index not found\n"
     ]
    }
   ],
   "source": [
    "# Напишем функцию, которая может обращаться и к спискам, и к словарям  \n",
    "# при этом не выбрасывая исключение для несуществующих индексов/ключей   \n",
    "def safe_element(collection, place):  \n",
    "    try:  \n",
    "        return(collection[place])  \n",
    "    except LookupError:  \n",
    "        print(\"Key or index not found\")  \n",
    "  \n",
    "users = [\"Pavel\", \"Elena\", \"Sergey\"]  \n",
    "safe_element(users, 1)  \n",
    "safe_element(users, 3)    \n",
    "  \n",
    "prices = {\"apple\": 10, \"orange\": 20}  \n",
    "safe_element(prices, \"apple\")   \n",
    "safe_element(prices, \"carrot\")  "
   ]
  },
  {
   "cell_type": "markdown",
   "id": "3caa9d28",
   "metadata": {},
   "source": [
    "Желательно указывать наиболее специфичное исключение. Полную иерархию можно посмотреть в [документации](https://docs.python.org/2/library/exceptions.html#exception-hierarchy)."
   ]
  },
  {
   "cell_type": "markdown",
   "id": "15fe1035",
   "metadata": {},
   "source": [
    "### Задачи"
   ]
  },
  {
   "cell_type": "markdown",
   "id": "1f2e3e7f",
   "metadata": {},
   "source": [
    "Напишите программу, которая реализует безопасное сложение двух объектов x и y.\n",
    "\n",
    "Если объекты не могут быть сложены, функция должна:\n",
    "\n",
    "* Отловить TypeError\n",
    "* Вывести на экран \"Can't sum x and y\", где x и y - переданные объекты\n",
    "* Вернуть 0"
   ]
  },
  {
   "cell_type": "code",
   "execution_count": 27,
   "id": "15718786",
   "metadata": {},
   "outputs": [],
   "source": [
    "def safe_sum(x, y):\n",
    "    \n",
    "    try:\n",
    "        return x+y\n",
    "    except TypeError:\n",
    "        print(\"Can't sum x and y\")\n",
    "        return 0"
   ]
  },
  {
   "cell_type": "markdown",
   "id": "3a4b441e",
   "metadata": {},
   "source": [
    "[К содержанию](#0)"
   ]
  },
  {
   "cell_type": "markdown",
   "id": "03c2ce6b",
   "metadata": {},
   "source": [
    "---"
   ]
  },
  {
   "cell_type": "markdown",
   "id": "5a7800dd",
   "metadata": {},
   "source": [
    "# Детали try-except<a name=\"8\"></a>"
   ]
  },
  {
   "cell_type": "markdown",
   "id": "a259b69f",
   "metadata": {},
   "source": [
    "Мы рассмотрели базовый синтаксис **try-except**, однако у него есть ещё несколько вариаций. Они не часто встречаются на практике, но мы о них расскажем. Иногда в блоке **except** нам нужен доступ к **самому объекту исключения**, например, мы хотим получить поясняющее сообщение и вывести его на экран, но при этом продолжить программу дальше. Мы можем это сделать с помощью **ключевого слова 'as'**, за которым идёт имя новой переменной."
   ]
  },
  {
   "cell_type": "code",
   "execution_count": 28,
   "id": "02cb5e6c",
   "metadata": {},
   "outputs": [
    {
     "name": "stdout",
     "output_type": "stream",
     "text": [
      "division by zero\n",
      "Program ends correctly\n"
     ]
    }
   ],
   "source": [
    "try:  \n",
    "    5/0  \n",
    "except ZeroDivisionError as zero_error:  \n",
    "    # здесь в zero_error мы получаем сам объект исключения  \n",
    "    # print как раз выведет его поясняющее сообщение  \n",
    "    print(zero_error)  \n",
    "\n",
    "print(\"Program ends correctly\")  "
   ]
  },
  {
   "cell_type": "markdown",
   "id": "c909df94",
   "metadata": {},
   "source": [
    "Ещё один распространённый подход: мы совершаем какое-то промежуточное действие, а потом перевыбрасываем исключение."
   ]
  },
  {
   "cell_type": "code",
   "execution_count": 29,
   "id": "8e8379ae",
   "metadata": {},
   "outputs": [
    {
     "name": "stdout",
     "output_type": "stream",
     "text": [
      "Mail to administrator has been sent about invalid literal for int() with base 10: 'poem'\n"
     ]
    },
    {
     "ename": "ValueError",
     "evalue": "invalid literal for int() with base 10: 'poem'",
     "output_type": "error",
     "traceback": [
      "\u001b[1;31m---------------------------------------------------------------------------\u001b[0m",
      "\u001b[1;31mValueError\u001b[0m                                Traceback (most recent call last)",
      "\u001b[1;32m<ipython-input-29-b565df6dc2a5>\u001b[0m in \u001b[0;36m<module>\u001b[1;34m\u001b[0m\n\u001b[0;32m      8\u001b[0m \u001b[1;32mexcept\u001b[0m \u001b[0mValueError\u001b[0m \u001b[1;32mas\u001b[0m \u001b[0mdigitized_error\u001b[0m\u001b[1;33m:\u001b[0m\u001b[1;33m\u001b[0m\u001b[1;33m\u001b[0m\u001b[0m\n\u001b[0;32m      9\u001b[0m     \u001b[0mnotify_admin\u001b[0m\u001b[1;33m(\u001b[0m\u001b[0mdigitized_error\u001b[0m\u001b[1;33m)\u001b[0m\u001b[1;33m\u001b[0m\u001b[1;33m\u001b[0m\u001b[0m\n\u001b[1;32m---> 10\u001b[1;33m     \u001b[1;32mraise\u001b[0m \u001b[0mdigitized_error\u001b[0m\u001b[1;33m\u001b[0m\u001b[1;33m\u001b[0m\u001b[0m\n\u001b[0m",
      "\u001b[1;32m<ipython-input-29-b565df6dc2a5>\u001b[0m in \u001b[0;36m<module>\u001b[1;34m\u001b[0m\n\u001b[0;32m      5\u001b[0m \u001b[0mvalue\u001b[0m \u001b[1;33m=\u001b[0m \u001b[1;34m\"poem\"\u001b[0m\u001b[1;33m\u001b[0m\u001b[1;33m\u001b[0m\u001b[0m\n\u001b[0;32m      6\u001b[0m \u001b[1;32mtry\u001b[0m\u001b[1;33m:\u001b[0m\u001b[1;33m\u001b[0m\u001b[1;33m\u001b[0m\u001b[0m\n\u001b[1;32m----> 7\u001b[1;33m     \u001b[0mdigitized\u001b[0m \u001b[1;33m=\u001b[0m \u001b[0mint\u001b[0m\u001b[1;33m(\u001b[0m\u001b[0mvalue\u001b[0m\u001b[1;33m)\u001b[0m\u001b[1;33m\u001b[0m\u001b[1;33m\u001b[0m\u001b[0m\n\u001b[0m\u001b[0;32m      8\u001b[0m \u001b[1;32mexcept\u001b[0m \u001b[0mValueError\u001b[0m \u001b[1;32mas\u001b[0m \u001b[0mdigitized_error\u001b[0m\u001b[1;33m:\u001b[0m\u001b[1;33m\u001b[0m\u001b[1;33m\u001b[0m\u001b[0m\n\u001b[0;32m      9\u001b[0m     \u001b[0mnotify_admin\u001b[0m\u001b[1;33m(\u001b[0m\u001b[0mdigitized_error\u001b[0m\u001b[1;33m)\u001b[0m\u001b[1;33m\u001b[0m\u001b[1;33m\u001b[0m\u001b[0m\n",
      "\u001b[1;31mValueError\u001b[0m: invalid literal for int() with base 10: 'poem'"
     ]
    }
   ],
   "source": [
    "# Пусть у нас есть функция, которая шлёт емейл разработчику об ошибке  \n",
    "def notify_admin(error):  \n",
    "    print(\"Mail to administrator has been sent about\", error)  \n",
    "      \n",
    "value = \"poem\"  \n",
    "try:  \n",
    "    digitized = int(value)  \n",
    "except ValueError as digitized_error:  \n",
    "    notify_admin(digitized_error)  \n",
    "    raise digitized_error"
   ]
  },
  {
   "cell_type": "markdown",
   "id": "916131e3",
   "metadata": {},
   "source": [
    "Обратите внимание, что в начале ошибки есть **уведомление** о том, что email отправлен. Еще одна полезная функция: для одного **try** вы можете писать сразу много **except** на разные исключения."
   ]
  },
  {
   "cell_type": "code",
   "execution_count": 30,
   "id": "68926454",
   "metadata": {},
   "outputs": [
    {
     "name": "stdout",
     "output_type": "stream",
     "text": [
      "OS error: [Errno 2] No such file or directory: 'valuble_data.txt'\n"
     ]
    }
   ],
   "source": [
    "try:  \n",
    "    # открываем файл и считываем строку  \n",
    "    data_file = open(\"valuble_data.txt\")  \n",
    "    s = data_file.readline()  \n",
    "    # пробуем преобразовать её в число  \n",
    "    i = float(s.strip())  \n",
    "except OSError as err:  \n",
    "    # если файла нет или его не удаётся прочитать, мы получил ошибку операционной системы   \n",
    "    print(\"OS error: {0}\".format(err))  \n",
    "except ValueError:  \n",
    "    # если данные не преобразуется в число, мы получим ValueError  \n",
    "    print(\"Could not convert data to float\")  "
   ]
  },
  {
   "cell_type": "markdown",
   "id": "c367f2f0",
   "metadata": {},
   "source": [
    "У try-except есть блоки **else** и **finally**; первый выполняется в случае, если мы не встретили исключение в try, и используется в основном для написания чуть более чистого кода. **Finally** выполняется в любом случае, даже если возникло непредвиденное исключение или выход с помощью **return**. Обычно используется для корректного освобождения ресурсов, например, закрытия файлов.\n",
    "\n",
    "Надеемся, что система исключения для вас стала более понятной, и вы сможете более свободно работать с ошибками."
   ]
  },
  {
   "cell_type": "markdown",
   "id": "d8515380",
   "metadata": {},
   "source": [
    "[К содержанию](#0)"
   ]
  },
  {
   "cell_type": "markdown",
   "id": "ce27dc55",
   "metadata": {},
   "source": [
    "---"
   ]
  },
  {
   "cell_type": "markdown",
   "id": "7b6c945e",
   "metadata": {},
   "source": [
    "# Отладка: введение<a name=\"9\"></a>"
   ]
  },
  {
   "attachments": {},
   "cell_type": "markdown",
   "id": "b671044b",
   "metadata": {},
   "source": [
    "В этом разделе мы обсудим подходы, которые помогают быстрее найти и исправить ошибки. Приведённые методы хорошо зарекомендовали себя на практике. Тем не менее единого метода, который бы работал всегда, нет, и разнообразие видов ошибок превращает **отладку** в настоящее искусство. Научиться определять необходимый метод вы сможете со временем.\n",
    "\n",
    "**Ошибки** можно условно поделить на **два класса**:\n",
    "\n",
    "* **явные**, которые выбрасывают исключение;\n",
    "* **неявные (баги)**: программа формально работает, но есть какой-то изъян в логике, так что вы получаете не то, что хотели.  \n",
    "\n",
    "Для примеров в этом разделе мы будем использовать датасет о фильмах с imdb. В датасете указана основная информация: сборы, год выпуска и т.д. Первые строки датасета:"
   ]
  },
  {
   "cell_type": "code",
   "execution_count": 31,
   "id": "30e202fb",
   "metadata": {},
   "outputs": [],
   "source": [
    "import pandas as pd\n",
    "movies = pd.read_csv('imdb.csv')"
   ]
  },
  {
   "cell_type": "markdown",
   "id": "4ce4311f",
   "metadata": {},
   "source": [
    "### ЗАДАЧИ"
   ]
  },
  {
   "cell_type": "markdown",
   "id": "fb303a67",
   "metadata": {},
   "source": [
    "В каком году вышел фильм Suicide Squad, информация о котором есть в датасете imdb?"
   ]
  },
  {
   "cell_type": "code",
   "execution_count": 32,
   "id": "ef552a75",
   "metadata": {},
   "outputs": [
    {
     "data": {
      "text/plain": [
       "4    2016\n",
       "Name: Year, dtype: int64"
      ]
     },
     "execution_count": 32,
     "metadata": {},
     "output_type": "execute_result"
    }
   ],
   "source": [
    "movies[movies['Title'] == 'Suicide Squad']['Year']"
   ]
  },
  {
   "cell_type": "markdown",
   "id": "c0fc0ae7",
   "metadata": {},
   "source": [
    "[К содержанию](#0)"
   ]
  },
  {
   "cell_type": "markdown",
   "id": "a5bf3c09",
   "metadata": {},
   "source": [
    "---"
   ]
  },
  {
   "cell_type": "markdown",
   "id": "8dffc7a3",
   "metadata": {},
   "source": [
    "# Отладка исключений<a name=\"10\"></a>"
   ]
  },
  {
   "cell_type": "markdown",
   "id": "90f9775e",
   "metadata": {},
   "source": [
    "Разберёмся с **явными** ошибками, они гораздо проще в исправлении. Для начала нужно прочитать **сообщение об ошибке**: смотрим на тип исключения и поясняющее сообщение, чтобы понять природу ошибки, затем на стэк вызова, чтобы определить место, где она возникла, и само содержание строки."
   ]
  },
  {
   "cell_type": "code",
   "execution_count": 33,
   "id": "d0d27dbe",
   "metadata": {},
   "outputs": [
    {
     "ename": "NameError",
     "evalue": "name 'xrange' is not defined",
     "output_type": "error",
     "traceback": [
      "\u001b[1;31m---------------------------------------------------------------------------\u001b[0m",
      "\u001b[1;31mNameError\u001b[0m                                 Traceback (most recent call last)",
      "\u001b[1;32m<ipython-input-33-34b6f8a07a87>\u001b[0m in \u001b[0;36m<module>\u001b[1;34m\u001b[0m\n\u001b[0;32m      6\u001b[0m     \u001b[1;31m# делаем reader, который построчно берёт данные из файла\u001b[0m\u001b[1;33m\u001b[0m\u001b[1;33m\u001b[0m\u001b[1;33m\u001b[0m\u001b[0m\n\u001b[0;32m      7\u001b[0m     \u001b[0mreader\u001b[0m \u001b[1;33m=\u001b[0m \u001b[0mcsv\u001b[0m\u001b[1;33m.\u001b[0m\u001b[0mreader\u001b[0m\u001b[1;33m(\u001b[0m\u001b[0mcsvfile\u001b[0m\u001b[1;33m)\u001b[0m\u001b[1;33m\u001b[0m\u001b[1;33m\u001b[0m\u001b[0m\n\u001b[1;32m----> 8\u001b[1;33m     \u001b[1;32mfor\u001b[0m \u001b[0mi\u001b[0m \u001b[1;32min\u001b[0m \u001b[0mxrange\u001b[0m\u001b[1;33m(\u001b[0m\u001b[1;36m5\u001b[0m\u001b[1;33m)\u001b[0m\u001b[1;33m:\u001b[0m\u001b[1;33m\u001b[0m\u001b[1;33m\u001b[0m\u001b[0m\n\u001b[0m\u001b[0;32m      9\u001b[0m         \u001b[0mprint\u001b[0m\u001b[1;33m(\u001b[0m\u001b[0mnext\u001b[0m\u001b[1;33m(\u001b[0m\u001b[0mreader\u001b[0m\u001b[1;33m)\u001b[0m\u001b[1;33m)\u001b[0m\u001b[1;33m\u001b[0m\u001b[1;33m\u001b[0m\u001b[0m\n",
      "\u001b[1;31mNameError\u001b[0m: name 'xrange' is not defined"
     ]
    }
   ],
   "source": [
    "# для примера попробуем написать функцию, которая печатает первые 5 строчек csv файла с нашими данными  \n",
    "import csv  \n",
    "  \n",
    "# открываем файл  \n",
    "with open(\"imdb.csv\", newline=\"\") as csvfile:  \n",
    "    # делаем reader, который построчно берёт данные из файла  \n",
    "    reader = csv.reader(csvfile)  \n",
    "    for i in xrange(5):  \n",
    "        print(next(reader))  "
   ]
  },
  {
   "cell_type": "markdown",
   "id": "2d597340",
   "metadata": {},
   "source": [
    "Дальше мы смотрим на **исключение** и поясняющее сообщение NameError: name 'xrange' is not defined. В стэке вызова мы видим, что это имя использовалось в 8-ой строчке. **Хrange** было функцией в **Python2**, но в **Python3** её переименовали в **range**. Исправим это:"
   ]
  },
  {
   "cell_type": "code",
   "execution_count": 34,
   "id": "dd0cf7e8",
   "metadata": {},
   "outputs": [
    {
     "name": "stdout",
     "output_type": "stream",
     "text": [
      "['Rank', 'Title', 'Genre', 'Description', 'Director', 'Actors', 'Year', 'Runtime (Minutes)', 'Rating', 'Votes', 'Revenue (Millions)', 'Metascore']\n",
      "['1', 'Guardians of the Galaxy', 'Action,Adventure,Sci-Fi', 'A group of intergalactic criminals are forced to work together to stop a fanatical warrior from taking control of the universe.', 'James Gunn', 'Chris Pratt, Vin Diesel, Bradley Cooper, Zoe Saldana', '2014', '121', '8.1', '757074', '333.13', '76']\n",
      "['2', 'Prometheus', 'Adventure,Mystery,Sci-Fi', 'Following clues to the origin of mankind, a team finds a structure on a distant moon, but they soon realize they are not alone.', 'Ridley Scott', 'Noomi Rapace, Logan Marshall-Green, Michael Fassbender, Charlize Theron', '2012', '124', '7', '485820', '126.46', '65']\n",
      "['3', 'Split', 'Horror,Thriller', 'Three girls are kidnapped by a man with a diagnosed 23 distinct personalities. They must try to escape before the apparent emergence of a frightful new 24th.', 'M. Night Shyamalan', 'James McAvoy, Anya Taylor-Joy, Haley Lu Richardson, Jessica Sula', '2016', '117', '7.3', '157606', '138.12', '62']\n",
      "['4', 'Sing', 'Animation,Comedy,Family', \"In a city of humanoid animals, a hustling theater impresario's attempt to save his theater with a singing competition becomes grander than he anticipates even as its finalists' find that their lives will never be the same.\", 'Christophe Lourdelet', 'Matthew McConaughey,Reese Witherspoon, Seth MacFarlane, Scarlett Johansson', '2016', '108', '7.2', '60545', '270.32', '59']\n"
     ]
    }
   ],
   "source": [
    "import csv  \n",
    "  \n",
    "with open(\"imdb.csv\", newline=\"\") as csvfile:  \n",
    "    reader = csv.reader(csvfile)  \n",
    "    for i in range(5):  \n",
    "        print(next(reader))  "
   ]
  },
  {
   "cell_type": "markdown",
   "id": "e7375541",
   "metadata": {},
   "source": [
    "[К содержанию](#0)"
   ]
  },
  {
   "cell_type": "markdown",
   "id": "a3b88565",
   "metadata": {},
   "source": [
    "---"
   ]
  },
  {
   "cell_type": "markdown",
   "id": "83afdf09",
   "metadata": {},
   "source": [
    "# Отладка через print<a name=\"11\"></a>"
   ]
  },
  {
   "cell_type": "markdown",
   "id": "3b4013a4",
   "metadata": {},
   "source": [
    "Внимательное чтение сообщения уже должно решить большую часть явных ошибок с **выбрасываемым исключением**. Если случай более запутанный, и сходу разрешить его не удалось, ключевое здесь — понять, на **каких данных** ваш код не работает. В базовом варианте можно использовать **print**.\n",
    "\n",
    "Выведите все релевантные данные до строки, где возникла ошибка, и подумайте, что с этими данными могло пойти не так:"
   ]
  },
  {
   "cell_type": "code",
   "execution_count": 35,
   "id": "9c4ef815",
   "metadata": {},
   "outputs": [
    {
     "ename": "TypeError",
     "evalue": "list indices must be integers or slices, not str",
     "output_type": "error",
     "traceback": [
      "\u001b[1;31m---------------------------------------------------------------------------\u001b[0m",
      "\u001b[1;31mTypeError\u001b[0m                                 Traceback (most recent call last)",
      "\u001b[1;32m<ipython-input-35-b7fdee7ecae4>\u001b[0m in \u001b[0;36m<module>\u001b[1;34m\u001b[0m\n\u001b[0;32m     23\u001b[0m     \u001b[0mreader\u001b[0m \u001b[1;33m=\u001b[0m \u001b[0mcsv\u001b[0m\u001b[1;33m.\u001b[0m\u001b[0mreader\u001b[0m\u001b[1;33m(\u001b[0m\u001b[0mcsvfile\u001b[0m\u001b[1;33m)\u001b[0m\u001b[1;33m\u001b[0m\u001b[1;33m\u001b[0m\u001b[0m\n\u001b[0;32m     24\u001b[0m     \u001b[1;31m# строим таблицу\u001b[0m\u001b[1;33m\u001b[0m\u001b[1;33m\u001b[0m\u001b[1;33m\u001b[0m\u001b[0m\n\u001b[1;32m---> 25\u001b[1;33m     \u001b[0mimdb_data\u001b[0m \u001b[1;33m=\u001b[0m \u001b[0mbuild_table\u001b[0m\u001b[1;33m(\u001b[0m\u001b[0mreader\u001b[0m\u001b[1;33m)\u001b[0m\u001b[1;33m\u001b[0m\u001b[1;33m\u001b[0m\u001b[0m\n\u001b[0m",
      "\u001b[1;32m<ipython-input-35-b7fdee7ecae4>\u001b[0m in \u001b[0;36mbuild_table\u001b[1;34m(reader)\u001b[0m\n\u001b[0;32m     15\u001b[0m     \u001b[1;32mfor\u001b[0m \u001b[0mrow\u001b[0m \u001b[1;32min\u001b[0m \u001b[0mreader\u001b[0m\u001b[1;33m:\u001b[0m\u001b[1;33m\u001b[0m\u001b[1;33m\u001b[0m\u001b[0m\n\u001b[0;32m     16\u001b[0m         \u001b[1;32mfor\u001b[0m \u001b[0mheader\u001b[0m \u001b[1;32min\u001b[0m \u001b[0mheaders\u001b[0m\u001b[1;33m:\u001b[0m\u001b[1;33m\u001b[0m\u001b[1;33m\u001b[0m\u001b[0m\n\u001b[1;32m---> 17\u001b[1;33m             \u001b[0mtable\u001b[0m\u001b[1;33m[\u001b[0m\u001b[0mheader\u001b[0m\u001b[1;33m]\u001b[0m\u001b[1;33m.\u001b[0m\u001b[0mappend\u001b[0m\u001b[1;33m(\u001b[0m\u001b[0mrow\u001b[0m\u001b[1;33m[\u001b[0m\u001b[0mheader\u001b[0m\u001b[1;33m]\u001b[0m\u001b[1;33m)\u001b[0m\u001b[1;33m\u001b[0m\u001b[1;33m\u001b[0m\u001b[0m\n\u001b[0m\u001b[0;32m     18\u001b[0m \u001b[1;33m\u001b[0m\u001b[0m\n\u001b[0;32m     19\u001b[0m     \u001b[1;32mreturn\u001b[0m \u001b[0mtable\u001b[0m\u001b[1;33m\u001b[0m\u001b[1;33m\u001b[0m\u001b[0m\n",
      "\u001b[1;31mTypeError\u001b[0m: list indices must be integers or slices, not str"
     ]
    }
   ],
   "source": [
    "# Теперь попробуем поместить данные в некое подобие таблицы.  \n",
    "# У нас будет словарь, где ключами будут имена столбцов, а значениями - списки с данными   \n",
    "import csv  \n",
    "\n",
    "\n",
    "# функция, которая делает таблицу по данным из reader  \n",
    "def build_table(reader):  \n",
    "    table = {}  \n",
    "    # инициализируем столбцы  \n",
    "    headers = next(reader)  \n",
    "    for header in headers:  \n",
    "        table[header] = []  \n",
    "          \n",
    "    # считываем данные      \n",
    "    for row in reader:  \n",
    "        for header in headers:  \n",
    "            table[header].append(row[header])  \n",
    "              \n",
    "    return table  \n",
    "  \n",
    "with open(\"imdb.csv\", newline=\"\") as csvfile:  \n",
    "    # делаем reader, который построчно берёт данные из файла  \n",
    "    reader = csv.reader(csvfile)  \n",
    "    # строим таблицу  \n",
    "    imdb_data = build_table(reader) "
   ]
  },
  {
   "cell_type": "markdown",
   "id": "a2a6d967",
   "metadata": {},
   "source": [
    "Мы получили **TypeError** и сообщение, что **индекс** должен быть числом в 17 строке. Сразу может быть непонятно, почему это произошло, поэтому давайте посмотрим на данные:"
   ]
  },
  {
   "cell_type": "code",
   "execution_count": 37,
   "id": "2f761747",
   "metadata": {},
   "outputs": [
    {
     "name": "stdout",
     "output_type": "stream",
     "text": [
      "Header: Rank\n",
      "Table: {'Rank': [], 'Title': [], 'Genre': [], 'Description': [], 'Director': [], 'Actors': [], 'Year': [], 'Runtime (Minutes)': [], 'Rating': [], 'Votes': [], 'Revenue (Millions)': [], 'Metascore': []}\n",
      "Row: ['1', 'Guardians of the Galaxy', 'Action,Adventure,Sci-Fi', 'A group of intergalactic criminals are forced to work together to stop a fanatical warrior from taking control of the universe.', 'James Gunn', 'Chris Pratt, Vin Diesel, Bradley Cooper, Zoe Saldana', '2014', '121', '8.1', '757074', '333.13', '76']\n"
     ]
    },
    {
     "ename": "TypeError",
     "evalue": "list indices must be integers or slices, not str",
     "output_type": "error",
     "traceback": [
      "\u001b[1;31m---------------------------------------------------------------------------\u001b[0m",
      "\u001b[1;31mTypeError\u001b[0m                                 Traceback (most recent call last)",
      "\u001b[1;32m<ipython-input-37-477e57f727d7>\u001b[0m in \u001b[0;36m<module>\u001b[1;34m\u001b[0m\n\u001b[0;32m     20\u001b[0m \u001b[1;32mwith\u001b[0m \u001b[0mopen\u001b[0m\u001b[1;33m(\u001b[0m\u001b[1;34m\"imdb.csv\"\u001b[0m\u001b[1;33m,\u001b[0m \u001b[0mnewline\u001b[0m\u001b[1;33m=\u001b[0m\u001b[1;34m\"\"\u001b[0m\u001b[1;33m)\u001b[0m \u001b[1;32mas\u001b[0m \u001b[0mcsvfile\u001b[0m\u001b[1;33m:\u001b[0m\u001b[1;33m\u001b[0m\u001b[1;33m\u001b[0m\u001b[0m\n\u001b[0;32m     21\u001b[0m     \u001b[0mreader\u001b[0m \u001b[1;33m=\u001b[0m \u001b[0mcsv\u001b[0m\u001b[1;33m.\u001b[0m\u001b[0mreader\u001b[0m\u001b[1;33m(\u001b[0m\u001b[0mcsvfile\u001b[0m\u001b[1;33m)\u001b[0m\u001b[1;33m\u001b[0m\u001b[1;33m\u001b[0m\u001b[0m\n\u001b[1;32m---> 22\u001b[1;33m     \u001b[0mimdb_data\u001b[0m \u001b[1;33m=\u001b[0m \u001b[0mbuild_table\u001b[0m\u001b[1;33m(\u001b[0m\u001b[0mreader\u001b[0m\u001b[1;33m)\u001b[0m\u001b[1;33m\u001b[0m\u001b[1;33m\u001b[0m\u001b[0m\n\u001b[0m",
      "\u001b[1;32m<ipython-input-37-477e57f727d7>\u001b[0m in \u001b[0;36mbuild_table\u001b[1;34m(reader)\u001b[0m\n\u001b[0;32m     14\u001b[0m             \u001b[0mprint\u001b[0m\u001b[1;33m(\u001b[0m\u001b[1;34m\"Table:\"\u001b[0m\u001b[1;33m,\u001b[0m \u001b[0mtable\u001b[0m\u001b[1;33m)\u001b[0m\u001b[1;33m\u001b[0m\u001b[1;33m\u001b[0m\u001b[0m\n\u001b[0;32m     15\u001b[0m             \u001b[0mprint\u001b[0m\u001b[1;33m(\u001b[0m\u001b[1;34m\"Row:\"\u001b[0m\u001b[1;33m,\u001b[0m \u001b[0mrow\u001b[0m\u001b[1;33m)\u001b[0m\u001b[1;33m\u001b[0m\u001b[1;33m\u001b[0m\u001b[0m\n\u001b[1;32m---> 16\u001b[1;33m             \u001b[0mtable\u001b[0m\u001b[1;33m[\u001b[0m\u001b[0mheader\u001b[0m\u001b[1;33m]\u001b[0m\u001b[1;33m.\u001b[0m\u001b[0mappend\u001b[0m\u001b[1;33m(\u001b[0m\u001b[0mrow\u001b[0m\u001b[1;33m[\u001b[0m\u001b[0mheader\u001b[0m\u001b[1;33m]\u001b[0m\u001b[1;33m)\u001b[0m\u001b[1;33m\u001b[0m\u001b[1;33m\u001b[0m\u001b[0m\n\u001b[0m\u001b[0;32m     17\u001b[0m \u001b[1;33m\u001b[0m\u001b[0m\n\u001b[0;32m     18\u001b[0m     \u001b[1;32mreturn\u001b[0m \u001b[0mtable\u001b[0m\u001b[1;33m\u001b[0m\u001b[1;33m\u001b[0m\u001b[0m\n",
      "\u001b[1;31mTypeError\u001b[0m: list indices must be integers or slices, not str"
     ]
    }
   ],
   "source": [
    "import csv  \n",
    "  \n",
    "\n",
    "def build_table(reader):  \n",
    "    table = {}  \n",
    "    headers = next(reader)  \n",
    "    for header in headers:  \n",
    "        table[header] = []  \n",
    "          \n",
    "    for row in reader:  \n",
    "        for header in headers:  \n",
    "            # Мы выводим значения всех переменных, которые задействованы в ошибочной строке  \n",
    "            print(\"Header:\", header)  \n",
    "            print(\"Table:\", table)  \n",
    "            print(\"Row:\", row)  \n",
    "            table[header].append(row[header])  \n",
    "              \n",
    "    return table  \n",
    "  \n",
    "with open(\"imdb.csv\", newline=\"\") as csvfile:  \n",
    "    reader = csv.reader(csvfile)  \n",
    "    imdb_data = build_table(reader)  "
   ]
  },
  {
   "cell_type": "markdown",
   "id": "f273b0bd",
   "metadata": {},
   "source": [
    "Вот наша строка с ошибкой: <code>table[header].append(row[header])</code>. В ней мы видим два потенциальных места, где могла произойти ошибка, — <code>table[header]</code> и <code>row[header]</code>. Смотрим на данные, **header** — это строка \"**Rank**\". В словаре **table** есть ключ \"**Rank**\", значит, ошибка не там. Но **row** является **списком**, поэтому мы должны использовать численный индекс, а не строку. Исправим программу, чтобы передавался последовательный номер заголовка, а не он сам:"
   ]
  },
  {
   "cell_type": "code",
   "execution_count": 38,
   "id": "e8213b5d",
   "metadata": {},
   "outputs": [
    {
     "name": "stdout",
     "output_type": "stream",
     "text": [
      "Rank ['1', '2', '3', '4', '5']\n",
      "Title ['Guardians of the Galaxy', 'Prometheus', 'Split', 'Sing', 'Suicide Squad']\n",
      "Genre ['Action,Adventure,Sci-Fi', 'Adventure,Mystery,Sci-Fi', 'Horror,Thriller', 'Animation,Comedy,Family', 'Action,Adventure,Fantasy']\n",
      "Description ['A group of intergalactic criminals are forced to work together to stop a fanatical warrior from taking control of the universe.', 'Following clues to the origin of mankind, a team finds a structure on a distant moon, but they soon realize they are not alone.', 'Three girls are kidnapped by a man with a diagnosed 23 distinct personalities. They must try to escape before the apparent emergence of a frightful new 24th.', \"In a city of humanoid animals, a hustling theater impresario's attempt to save his theater with a singing competition becomes grander than he anticipates even as its finalists' find that their lives will never be the same.\", 'A secret government agency recruits some of the most dangerous incarcerated super-villains to form a defensive task force. Their first mission: save the world from the apocalypse.']\n",
      "Director ['James Gunn', 'Ridley Scott', 'M. Night Shyamalan', 'Christophe Lourdelet', 'David Ayer']\n",
      "Actors ['Chris Pratt, Vin Diesel, Bradley Cooper, Zoe Saldana', 'Noomi Rapace, Logan Marshall-Green, Michael Fassbender, Charlize Theron', 'James McAvoy, Anya Taylor-Joy, Haley Lu Richardson, Jessica Sula', 'Matthew McConaughey,Reese Witherspoon, Seth MacFarlane, Scarlett Johansson', 'Will Smith, Jared Leto, Margot Robbie, Viola Davis']\n",
      "Year ['2014', '2012', '2016', '2016', '2016']\n",
      "Runtime (Minutes) ['121', '124', '117', '108', '123']\n",
      "Rating ['8.1', '7', '7.3', '7.2', '6.2']\n",
      "Votes ['757074', '485820', '157606', '60545', '393727']\n",
      "Revenue (Millions) ['333.13', '126.46', '138.12', '270.32', '325.02']\n",
      "Metascore ['76', '65', '62', '59', '40']\n"
     ]
    }
   ],
   "source": [
    "import csv  \n",
    "\n",
    "\n",
    "def build_table(reader):  \n",
    "    table = {}  \n",
    "    headers = next(reader)  \n",
    "    for header in headers:  \n",
    "        table[header] = []  \n",
    "          \n",
    "    for row in reader:  \n",
    "        # Обратите внимание, что теперь мы используем индекс столбца, а не его имя для обращения к элементу row  \n",
    "        for i, header in enumerate(headers):  \n",
    "            table[header].append(row[i])  \n",
    "              \n",
    "    return table  \n",
    "  \n",
    "with open(\"imdb.csv\", newline=\"\") as csvfile:  \n",
    "    reader = csv.reader(csvfile)  \n",
    "    imdb_data = build_table(reader)  \n",
    "  \n",
    "  \n",
    "# Выведем данные в полученной таблице  \n",
    "for header, values in imdb_data.items():  \n",
    "    print(header, values[:5])  "
   ]
  },
  {
   "cell_type": "markdown",
   "id": "ffe2089f",
   "metadata": {},
   "source": [
    "Всё работает! В конце заметим, что print выводит строку **без кавычек**, что иногда затрудняет понимание данных."
   ]
  },
  {
   "cell_type": "code",
   "execution_count": 39,
   "id": "d3fbfc6a",
   "metadata": {},
   "outputs": [
    {
     "name": "stdout",
     "output_type": "stream",
     "text": [
      "5\n",
      "5\n"
     ]
    }
   ],
   "source": [
    "print(5)   \n",
    "print(\"5\")  "
   ]
  },
  {
   "cell_type": "markdown",
   "id": "e16f70b6",
   "metadata": {},
   "source": [
    "Быстрый способ обойти это — использовать **метод repr()**. Он старается вывести объекты так, как они бы выглядели в самом коде:"
   ]
  },
  {
   "cell_type": "code",
   "execution_count": 40,
   "id": "5d8fafe9",
   "metadata": {},
   "outputs": [
    {
     "name": "stdout",
     "output_type": "stream",
     "text": [
      "5\n",
      "'5'\n"
     ]
    }
   ],
   "source": [
    "print(repr(5))\n",
    "print(repr(\"5\"))  "
   ]
  },
  {
   "cell_type": "markdown",
   "id": "0602aa8c",
   "metadata": {},
   "source": [
    "### Задачи"
   ]
  },
  {
   "cell_type": "markdown",
   "id": "4d9b54b0",
   "metadata": {},
   "source": [
    "У вас есть функция, которая должна убирать дубликаты из списка и сохранять при этом порядок:\n",
    "\n",
    "<code>remove_dups([1, 12, 4, 1, 4, 8])</code>  \n",
    "<code># => [1, 12, 4, 8]</code>\n",
    "    \n",
    "Сейчас она не очень хорошо написана и возвращает исключение: исправьте её\n",
    "\n",
    "<code>from copy import copy\n",
    "\n",
    "def remove_dups(values):\n",
    "    values = copy(values)\n",
    "    for i in range(len(values)):\n",
    "        if values[i+1] in values[i:]:\n",
    "            values.remove(values[i])\n",
    "    return values</code>"
   ]
  },
  {
   "cell_type": "code",
   "execution_count": 91,
   "id": "a37351d1",
   "metadata": {},
   "outputs": [],
   "source": [
    "from copy import copy\n",
    "\n",
    "def remove_dups(values):\n",
    "    values = copy(values)\n",
    "    for i in range(len(values)):\n",
    "        for j in range(len(values[i+1:])):\n",
    "            if j > len(values):\n",
    "                return values\n",
    "            else: \n",
    "                if values[i] == values[j]:\n",
    "                    values.remove(values[j+1])"
   ]
  },
  {
   "cell_type": "code",
   "execution_count": 92,
   "id": "f98bd7b3",
   "metadata": {},
   "outputs": [
    {
     "ename": "IndexError",
     "evalue": "list index out of range",
     "output_type": "error",
     "traceback": [
      "\u001b[1;31m---------------------------------------------------------------------------\u001b[0m",
      "\u001b[1;31mIndexError\u001b[0m                                Traceback (most recent call last)",
      "\u001b[1;32m<ipython-input-92-12281586c204>\u001b[0m in \u001b[0;36m<module>\u001b[1;34m\u001b[0m\n\u001b[1;32m----> 1\u001b[1;33m \u001b[0mremove_dups\u001b[0m\u001b[1;33m(\u001b[0m\u001b[1;33m[\u001b[0m\u001b[1;36m1\u001b[0m\u001b[1;33m,\u001b[0m \u001b[1;36m12\u001b[0m\u001b[1;33m,\u001b[0m \u001b[1;36m4\u001b[0m\u001b[1;33m,\u001b[0m \u001b[1;36m1\u001b[0m\u001b[1;33m,\u001b[0m \u001b[1;36m4\u001b[0m\u001b[1;33m,\u001b[0m \u001b[1;36m8\u001b[0m\u001b[1;33m]\u001b[0m\u001b[1;33m)\u001b[0m\u001b[1;33m\u001b[0m\u001b[1;33m\u001b[0m\u001b[0m\n\u001b[0m",
      "\u001b[1;32m<ipython-input-91-76a3a8d11730>\u001b[0m in \u001b[0;36mremove_dups\u001b[1;34m(values)\u001b[0m\n\u001b[0;32m      8\u001b[0m                 \u001b[1;32mreturn\u001b[0m \u001b[0mvalues\u001b[0m\u001b[1;33m\u001b[0m\u001b[1;33m\u001b[0m\u001b[0m\n\u001b[0;32m      9\u001b[0m             \u001b[1;32melse\u001b[0m\u001b[1;33m:\u001b[0m\u001b[1;33m\u001b[0m\u001b[1;33m\u001b[0m\u001b[0m\n\u001b[1;32m---> 10\u001b[1;33m                 \u001b[1;32mif\u001b[0m \u001b[0mvalues\u001b[0m\u001b[1;33m[\u001b[0m\u001b[0mi\u001b[0m\u001b[1;33m]\u001b[0m \u001b[1;33m==\u001b[0m \u001b[0mvalues\u001b[0m\u001b[1;33m[\u001b[0m\u001b[0mj\u001b[0m\u001b[1;33m]\u001b[0m\u001b[1;33m:\u001b[0m\u001b[1;33m\u001b[0m\u001b[1;33m\u001b[0m\u001b[0m\n\u001b[0m\u001b[0;32m     11\u001b[0m                     \u001b[0mvalues\u001b[0m\u001b[1;33m.\u001b[0m\u001b[0mremove\u001b[0m\u001b[1;33m(\u001b[0m\u001b[0mvalues\u001b[0m\u001b[1;33m[\u001b[0m\u001b[0mj\u001b[0m\u001b[1;33m+\u001b[0m\u001b[1;36m1\u001b[0m\u001b[1;33m]\u001b[0m\u001b[1;33m)\u001b[0m\u001b[1;33m\u001b[0m\u001b[1;33m\u001b[0m\u001b[0m\n",
      "\u001b[1;31mIndexError\u001b[0m: list index out of range"
     ]
    }
   ],
   "source": [
    "remove_dups([1, 12, 4, 1, 4, 8])"
   ]
  },
  {
   "cell_type": "code",
   "execution_count": 73,
   "id": "4969999c",
   "metadata": {},
   "outputs": [
    {
     "data": {
      "text/plain": [
       "[12, 4, 1, 4, 8]"
      ]
     },
     "execution_count": 73,
     "metadata": {},
     "output_type": "execute_result"
    }
   ],
   "source": [
    "x = [1, 12, 4, 1, 4, 8]\n",
    "x[1:]"
   ]
  },
  {
   "cell_type": "code",
   "execution_count": 130,
   "id": "af07bf38",
   "metadata": {},
   "outputs": [
    {
     "name": "stdout",
     "output_type": "stream",
     "text": [
      "EM-алгоритм = 0.5\n"
     ]
    }
   ],
   "source": [
    "gm = GaussianMixture(n_components=3, random_state=42)\n",
    "gm.fit(X)\n",
    "y_pred = gm.predict(X)\n",
    "print('EM-алгоритм =', \n",
    "      round(silhouette_score(X=X, labels=y_pred, metric='euclidean'), 2))"
   ]
  },
  {
   "cell_type": "code",
   "execution_count": 131,
   "id": "f7467626",
   "metadata": {},
   "outputs": [
    {
     "name": "stdout",
     "output_type": "stream",
     "text": [
      "Агломеративная кластеризация = 0.48\n"
     ]
    }
   ],
   "source": [
    "ac = AgglomerativeClustering(n_clusters=3)\n",
    "ac.fit(X)\n",
    "y_pred = ac.labels_\n",
    "print('Агломеративная кластеризация =', \n",
    "      round(silhouette_score(X=X, labels=y_pred, metric='euclidean'), 2))"
   ]
  },
  {
   "cell_type": "code",
   "execution_count": 132,
   "id": "e8f9ce01",
   "metadata": {},
   "outputs": [
    {
     "name": "stdout",
     "output_type": "stream",
     "text": [
      "DBSCAN 0.45\n"
     ]
    }
   ],
   "source": [
    "dbscan = DBSCAN(eps=0.9, min_samples=35)\n",
    "dbscan.fit(X)\n",
    "y_pred = dbscan.labels_\n",
    "print('DBSCAN', \n",
    "      round(silhouette_score(X=X, labels=y_pred, metric='euclidean'), 2))"
   ]
  },
  {
   "cell_type": "markdown",
   "id": "40d74ec7",
   "metadata": {},
   "source": [
    "Подберите оптимальное количество кластеров с помощью **коэффициента силуэта**. Для этого найдите такое число кластеров, при котором значение коэффициента будет максимальным.\n",
    "\n",
    "В трёх из рассмотренных нами алгоритмов необходимо задать число кластеров при инициализации: K-means, EM-алгоритм и агломеративная кластеризация.\n",
    "\n",
    "Найдите значение коэффициента силуэта для данных алгоритмов при числе кластеров от 2 до 10 включительно. Для K-means и EM-алгоритма установите значение **random_state=42**.\n",
    "\n",
    "В качестве ответа через пробел введите **число кластеров**, при котором значение коэффициента силуэта для результатов кластеризации было наибольшим для каждого из алгоритмов. Вводите в следующем порядке: K-means, EM-алгоритм, агломеративная кластеризация."
   ]
  },
  {
   "cell_type": "code",
   "execution_count": 133,
   "id": "8e56cd3c",
   "metadata": {},
   "outputs": [
    {
     "name": "stdout",
     "output_type": "stream",
     "text": [
      "3 4 4\n"
     ]
    }
   ],
   "source": [
    "km_ss_max = 0\n",
    "gm_ss_max = 0\n",
    "ac_ss_max = 0\n",
    "for i in range(2, 11):\n",
    "    k_means = KMeans(n_clusters=i, random_state=42)\n",
    "    k_means.fit(X)\n",
    "    y_pred = k_means.labels_\n",
    "    ss = silhouette_score(X=X, labels=y_pred, metric='euclidean')\n",
    "    if ss > km_ss_max:\n",
    "        km_bst_cnt_cl = i\n",
    "        km_ss_max = ss\n",
    "    gm = GaussianMixture(n_components=i, random_state=42)\n",
    "    gm.fit(X)\n",
    "    y_pred = gm.predict(X)\n",
    "    ss = silhouette_score(X=X, labels=y_pred, metric='euclidean')\n",
    "    if ss > gm_ss_max:\n",
    "        gm_bst_cnt_cl = i\n",
    "        gm_ss_max = ss\n",
    "    ac = AgglomerativeClustering(n_clusters=i)\n",
    "    ac.fit(X)\n",
    "    y_pred = ac.labels_\n",
    "    ss = silhouette_score(X=X, labels=y_pred, metric='euclidean')\n",
    "    if ss > ac_ss_max:\n",
    "        ac_bst_cnt_cl = i\n",
    "        ac_ss_max = ss\n",
    "\n",
    "print(km_bst_cnt_cl, gm_bst_cnt_cl, ac_bst_cnt_cl)"
   ]
  },
  {
   "cell_type": "markdown",
   "id": "64757895",
   "metadata": {},
   "source": [
    "[К содержанию](#0)"
   ]
  },
  {
   "cell_type": "markdown",
   "id": "43862c32",
   "metadata": {},
   "source": [
    "---"
   ]
  },
  {
   "cell_type": "markdown",
   "id": "ef7c392d",
   "metadata": {},
   "source": [
    "# Однородность. Практика<a name=\"12\"></a>"
   ]
  },
  {
   "cell_type": "markdown",
   "id": "fdeaa20b",
   "metadata": {},
   "source": [
    "<b><span style=\"color:green\">Однородность</span></b> можно посчитать при помощи реализации из библиотеки <b><span style=\"color:green\">sklearn</span></b>:"
   ]
  },
  {
   "cell_type": "code",
   "execution_count": 134,
   "id": "014979c8",
   "metadata": {},
   "outputs": [
    {
     "data": {
      "text/plain": [
       "0.8025180661661425"
      ]
     },
     "execution_count": 134,
     "metadata": {},
     "output_type": "execute_result"
    }
   ],
   "source": [
    "from sklearn.cluster import KMeans\n",
    "from sklearn.metrics.cluster import homogeneity_score\n",
    "from sklearn.preprocessing import StandardScaler\n",
    "\n",
    "\n",
    "# сначала получим предсказанные кластеры при помощи метода кластеризации\n",
    "kmeans = KMeans(n_clusters=3, random_state=42)\n",
    "std_sclr_X = StandardScaler().fit_transform(X)\n",
    "kmeans.fit(std_sclr_X)\n",
    "kmeans_pred = kmeans.labels_ \n",
    "# теперь посчитаем однородность\n",
    "homogeneity_score(labels_true=y, labels_pred=kmeans_pred)"
   ]
  },
  {
   "cell_type": "markdown",
   "id": "b0eb0734",
   "metadata": {},
   "source": [
    ">Полное описание функции можно прочитать в [документации](https://scikit-learn.org/stable/modules/generated/sklearn.metrics.homogeneity_score.html) (англ.)."
   ]
  },
  {
   "cell_type": "markdown",
   "id": "24c7f248",
   "metadata": {},
   "source": [
    "### ЗАДАЧИ"
   ]
  },
  {
   "cell_type": "markdown",
   "id": "5d1aaee6",
   "metadata": {},
   "source": [
    "Сравните результаты кластеризации алгоритмов k-means, GaussianMixture, AgglomerativeClustering и DBSCAN на исходном датасете при помощи однородности, инициализируйте алгоритмы со следующими параметрами:\n",
    "\n",
    "* k-means — <code>n_clusters=3</code>, <code>random_state=42</code>\n",
    "* GaussianMixture — <code>n_components=3</code>, <code>random_state=42</code>\n",
    "* AgglomerativeClustering — <code>n_clusters=3</code>\n",
    "* DBSCAN — <code>eps=0.9</code>, <code>min_samples=35</code>  \n",
    "\n",
    "\n",
    "В качестве ответа укажите **максимальное значение однородности**, полученное при помощи данных моделей. Ответ округлите до сотых и запишите с точкой.\n",
    "\n",
    "При решении задания модуля стандартизация должна быть включена."
   ]
  },
  {
   "cell_type": "code",
   "execution_count": 135,
   "id": "c5685527",
   "metadata": {},
   "outputs": [
    {
     "name": "stdout",
     "output_type": "stream",
     "text": [
      "K-means = 0.8\n"
     ]
    }
   ],
   "source": [
    "k_means = KMeans(n_clusters=3, random_state=42)\n",
    "k_means.fit(std_sclr_X)\n",
    "y_pred = k_means.labels_\n",
    "print('K-means =', \n",
    "      round(homogeneity_score(labels_true=y, labels_pred=y_pred), 2))"
   ]
  },
  {
   "cell_type": "code",
   "execution_count": 136,
   "id": "4cefb8f4",
   "metadata": {},
   "outputs": [
    {
     "name": "stdout",
     "output_type": "stream",
     "text": [
      "EM-алгоритм = 0.93\n"
     ]
    }
   ],
   "source": [
    "gm = GaussianMixture(n_components=3, random_state=42)\n",
    "gm.fit(std_sclr_X)\n",
    "y_pred = gm.predict(std_sclr_X)\n",
    "print('EM-алгоритм =', \n",
    "      round(homogeneity_score(labels_true=y, labels_pred=y_pred), 2))"
   ]
  },
  {
   "cell_type": "code",
   "execution_count": 137,
   "id": "b608628c",
   "metadata": {},
   "outputs": [
    {
     "name": "stdout",
     "output_type": "stream",
     "text": [
      "Агломеративная кластеризация = 0.91\n"
     ]
    }
   ],
   "source": [
    "ac = AgglomerativeClustering(n_clusters=3)\n",
    "ac.fit(std_sclr_X)\n",
    "y_pred = ac.labels_\n",
    "print('Агломеративная кластеризация =', \n",
    "      round(homogeneity_score(labels_true=y, labels_pred=y_pred), 2))"
   ]
  },
  {
   "cell_type": "code",
   "execution_count": 138,
   "id": "403ed1f7",
   "metadata": {},
   "outputs": [
    {
     "name": "stdout",
     "output_type": "stream",
     "text": [
      "DBSCAN 0.0\n"
     ]
    }
   ],
   "source": [
    "dbscan = DBSCAN(eps=0.9, min_samples=35)\n",
    "dbscan.fit(std_sclr_X)\n",
    "y_pred = dbscan.labels_\n",
    "print('DBSCAN', \n",
    "      round(homogeneity_score(labels_true=y, labels_pred=y_pred), 2))"
   ]
  },
  {
   "cell_type": "markdown",
   "id": "4c90fd2e",
   "metadata": {},
   "source": [
    "[К содержанию](#0)"
   ]
  },
  {
   "cell_type": "markdown",
   "id": "5b0a2ef1",
   "metadata": {},
   "source": [
    "---"
   ]
  },
  {
   "cell_type": "markdown",
   "id": "e7cc42be",
   "metadata": {},
   "source": [
    "# Полнота. Практика<a name=\"13\"></a>"
   ]
  },
  {
   "cell_type": "markdown",
   "id": "6f659dcf",
   "metadata": {},
   "source": [
    "<b><span style=\"color:green\">Полноту</span></b> можно посчитать при помощи реализации из библиотеки <b><span style=\"color:green\">sklearn</span></b>:"
   ]
  },
  {
   "cell_type": "code",
   "execution_count": 139,
   "id": "b53e5585",
   "metadata": {},
   "outputs": [
    {
     "data": {
      "text/plain": [
       "0.7808712092278982"
      ]
     },
     "execution_count": 139,
     "metadata": {},
     "output_type": "execute_result"
    }
   ],
   "source": [
    "from sklearn.cluster import KMeans\n",
    "from sklearn.metrics.cluster import completeness_score\n",
    "\n",
    "# сначала получим предсказанные кластеры при помощи метода кластеризации\n",
    "kmeans = KMeans(n_clusters=3, random_state=42)\n",
    "kmeans.fit(std_sclr_X)\n",
    "kmeans_pred = kmeans.labels_\n",
    "\n",
    "# теперь посчитаем полноту\n",
    "completeness_score(labels_true=y, labels_pred=kmeans_pred)"
   ]
  },
  {
   "cell_type": "markdown",
   "id": "cd028f9d",
   "metadata": {},
   "source": [
    ">Полное описание функции можно прочитать в [документации](https://scikit-learn.org/stable/modules/generated/sklearn.metrics.completeness_score.html) (англ.)."
   ]
  },
  {
   "cell_type": "markdown",
   "id": "a565b70d",
   "metadata": {},
   "source": [
    "### ЗАДАЧИ"
   ]
  },
  {
   "cell_type": "markdown",
   "id": "fbf9347d",
   "metadata": {},
   "source": [
    "Обучите **модель GaussianMixture** с параметрами <code>n_components=3</code> и <code>random_state=42</code> на признаках исходного датасета. Посчитайте **полноту** для получившейся кластеризации.\n",
    "\n",
    "Подсказка: При решении задания модуля стандартизация должна быть включена. Ответ округлите до сотых и запишите с точкой."
   ]
  },
  {
   "cell_type": "code",
   "execution_count": 140,
   "id": "d87a3b5d",
   "metadata": {},
   "outputs": [
    {
     "name": "stdout",
     "output_type": "stream",
     "text": [
      "EM-алгоритм = 0.93\n"
     ]
    }
   ],
   "source": [
    "gm = GaussianMixture(n_components=3, random_state=42)\n",
    "gm.fit(std_sclr_X)\n",
    "y_pred = gm.predict(std_sclr_X)\n",
    "print('EM-алгоритм =', \n",
    "      round(completeness_score(labels_true=y, labels_pred=y_pred), 2))"
   ]
  },
  {
   "cell_type": "markdown",
   "id": "eba75ff0",
   "metadata": {},
   "source": [
    "Сравните результаты кластеризации алгоритмов k-means, GaussianMixture, AgglomerativeClustering и DBSCAN на исходном датасете при помощи однородности, инициализируйте алгоритмы со следующими параметрами:\n",
    "\n",
    "* k-means — <code>n_clusters=3</code>, <code>random_state=42</code>\n",
    "* GaussianMixture — <code>n_components=3</code>, <code>random_state=42</code>\n",
    "* AgglomerativeClustering — <code>n_clusters=3</code>\n",
    "* DBSCAN — <code>eps=0.9</code>, <code>min_samples=35</code>  \n",
    "\n",
    "\n",
    "В качестве ответа укажите **максимальное значение полноты**, полученное при помощи данных моделей. Ответ округлите до сотых и запишите с точкой.\n",
    "\n",
    "При решении задания модуля стандартизация должна быть включена."
   ]
  },
  {
   "cell_type": "code",
   "execution_count": 141,
   "id": "45d466c5",
   "metadata": {},
   "outputs": [
    {
     "name": "stdout",
     "output_type": "stream",
     "text": [
      "K-means = 0.78\n",
      "EM-алгоритм = 0.93\n",
      "Агломеративная кластеризация = 0.91\n",
      "DBSCAN 0.08\n"
     ]
    }
   ],
   "source": [
    "k_means = KMeans(n_clusters=3, random_state=42)\n",
    "k_means.fit(std_sclr_X)\n",
    "y_pred = k_means.labels_\n",
    "print('K-means =', \n",
    "      round(completeness_score(labels_true=y, labels_pred=y_pred), 2))\n",
    "\n",
    "gm = GaussianMixture(n_components=3, random_state=42)\n",
    "gm.fit(std_sclr_X)\n",
    "y_pred = gm.predict(std_sclr_X)\n",
    "print('EM-алгоритм =', \n",
    "      round(completeness_score(labels_true=y, labels_pred=y_pred), 2))\n",
    "\n",
    "ac = AgglomerativeClustering(n_clusters=3)\n",
    "ac.fit(std_sclr_X)\n",
    "y_pred = ac.labels_\n",
    "print('Агломеративная кластеризация =', \n",
    "      round(completeness_score(labels_true=y, labels_pred=y_pred), 2))\n",
    "\n",
    "dbscan = DBSCAN(eps=0.9, min_samples=35)\n",
    "dbscan.fit(std_sclr_X)\n",
    "y_pred = dbscan.labels_\n",
    "print('DBSCAN', \n",
    "      round(completeness_score(labels_true=y, labels_pred=y_pred), 2))"
   ]
  },
  {
   "cell_type": "markdown",
   "id": "3e842218",
   "metadata": {},
   "source": [
    "[К содержанию](#0)"
   ]
  },
  {
   "cell_type": "markdown",
   "id": "383b0ec1",
   "metadata": {},
   "source": [
    "---"
   ]
  },
  {
   "cell_type": "markdown",
   "id": "f28bb04a",
   "metadata": {},
   "source": [
    "# V-мера. Практика<a name=\"14\"></a>"
   ]
  },
  {
   "cell_type": "markdown",
   "id": "44bda38e",
   "metadata": {},
   "source": [
    "<b><span style=\"color:green\">V-меру</span></b> можно посчитать при помощи реализации из библиотеки <b><span style=\"color:green\">sklearn</span></b>:"
   ]
  },
  {
   "cell_type": "code",
   "execution_count": 142,
   "id": "28dc4ef0",
   "metadata": {},
   "outputs": [
    {
     "data": {
      "text/plain": [
       "0.791546668267586"
      ]
     },
     "execution_count": 142,
     "metadata": {},
     "output_type": "execute_result"
    }
   ],
   "source": [
    "from sklearn.cluster import KMeans\n",
    "from sklearn.metrics.cluster import v_measure_score\n",
    "\n",
    "# сначала получим предсказанные кластеры при помощи метода кластеризации\n",
    "kmeans = KMeans(n_clusters=3, random_state=42)\n",
    "kmeans.fit(std_sclr_X)\n",
    "kmeans_pred = kmeans.labels_\n",
    "\n",
    "# теперь посчитаем полноту\n",
    "v_measure_score(labels_true=y, labels_pred=kmeans_pred)"
   ]
  },
  {
   "cell_type": "markdown",
   "id": "c3b8ac17",
   "metadata": {},
   "source": [
    ">Полное описание функции можно прочитать в [документации](https://scikit-learn.org/stable/modules/generated/sklearn.metrics.v_measure_score.html) (англ.)."
   ]
  },
  {
   "cell_type": "markdown",
   "id": "24f1ece8",
   "metadata": {},
   "source": [
    "### ЗАДАЧИ"
   ]
  },
  {
   "cell_type": "markdown",
   "id": "81ac7d07",
   "metadata": {},
   "source": [
    "Обучите **модель GaussianMixture** с параметрами <code>n_components=3</code> и <code>random_state=42</code> на признаках исходного датасета. Посчитайте **v-меру** для получившейся кластеризации.\n",
    "\n",
    "Подсказка: При решении задания модуля стандартизация должна быть включена. Ответ округлите до сотых и запишите с точкой."
   ]
  },
  {
   "cell_type": "code",
   "execution_count": 143,
   "id": "ad4fc052",
   "metadata": {},
   "outputs": [
    {
     "name": "stdout",
     "output_type": "stream",
     "text": [
      "EM-алгоритм = 0.93\n"
     ]
    }
   ],
   "source": [
    "gm = GaussianMixture(n_components=3, random_state=42)\n",
    "gm.fit(std_sclr_X)\n",
    "y_pred = gm.predict(std_sclr_X)\n",
    "print('EM-алгоритм =', \n",
    "      round(v_measure_score(labels_true=y, labels_pred=y_pred), 2))"
   ]
  },
  {
   "cell_type": "markdown",
   "id": "6266dd42",
   "metadata": {},
   "source": [
    "Сравните результаты кластеризации алгоритмов k-means, GaussianMixture, AgglomerativeClustering и DBSCAN на исходном датасете при помощи однородности, инициализируйте алгоритмы со следующими параметрами:\n",
    "\n",
    "* k-means — <code>n_clusters=3</code>, <code>random_state=42</code>\n",
    "* GaussianMixture — <code>n_components=3</code>, <code>random_state=42</code>\n",
    "* AgglomerativeClustering — <code>n_clusters=3</code>\n",
    "* DBSCAN — <code>eps=0.9</code>, <code>min_samples=35</code>  \n",
    "\n",
    "\n",
    "В качестве ответа укажите **максимальное значение v-меры**, полученное при помощи данных моделей. Ответ округлите до сотых и запишите с точкой.\n",
    "\n",
    "При решении задания модуля стандартизация должна быть включена."
   ]
  },
  {
   "cell_type": "code",
   "execution_count": 144,
   "id": "8b7f311e",
   "metadata": {},
   "outputs": [
    {
     "name": "stdout",
     "output_type": "stream",
     "text": [
      "K-means = 0.79\n",
      "EM-алгоритм = 0.93\n",
      "Агломеративная кластеризация = 0.91\n",
      "DBSCAN 0.0\n"
     ]
    }
   ],
   "source": [
    "k_means = KMeans(n_clusters=3, random_state=42)\n",
    "k_means.fit(std_sclr_X)\n",
    "y_pred = k_means.labels_\n",
    "print('K-means =', \n",
    "      round(v_measure_score(labels_true=y, labels_pred=y_pred), 2))\n",
    "\n",
    "gm = GaussianMixture(n_components=3, random_state=42)\n",
    "gm.fit(std_sclr_X)\n",
    "y_pred = gm.predict(std_sclr_X)\n",
    "print('EM-алгоритм =', \n",
    "      round(v_measure_score(labels_true=y, labels_pred=y_pred), 2))\n",
    "\n",
    "ac = AgglomerativeClustering(n_clusters=3)\n",
    "ac.fit(std_sclr_X)\n",
    "y_pred = ac.labels_\n",
    "print('Агломеративная кластеризация =', \n",
    "      round(v_measure_score(labels_true=y, labels_pred=y_pred), 2))\n",
    "\n",
    "dbscan = DBSCAN(eps=0.9, min_samples=35)\n",
    "dbscan.fit(std_sclr_X)\n",
    "y_pred = dbscan.labels_\n",
    "print('DBSCAN', \n",
    "      round(v_measure_score(labels_true=y, labels_pred=y_pred), 2))"
   ]
  },
  {
   "cell_type": "markdown",
   "id": "08668641",
   "metadata": {},
   "source": [
    "Сравним модификации K-means с использованием случайной инициализации **центроид** и с использованием алгоритма **K-means++** для инициализации центроид.\n",
    "\n",
    "Для этого обучим на исходном датасете 2 модели k-means со следующими параметрами:\n",
    "\n",
    "* <code>n_clusters=3, init='k-means++', n_init=1, random_state=42</code>\n",
    "* <code>n_clusters=3, init='random', n_init=1, random_state=42</code>  \n",
    "\n",
    "В качестве ответа укажите **максимальное значение v-меры**, полученное при помощи данных моделей.\n",
    "\n",
    "Подсказка: При решении задания модуля стандартизация должна быть включена. Ответ округлите до сотых и запишите с точкой."
   ]
  },
  {
   "cell_type": "code",
   "execution_count": 145,
   "id": "82886305",
   "metadata": {},
   "outputs": [
    {
     "name": "stdout",
     "output_type": "stream",
     "text": [
      "K-means++ = 0.79\n",
      "Random K-means = 0.79\n"
     ]
    }
   ],
   "source": [
    "k_means = KMeans(n_clusters=3, init='k-means++', n_init=1, random_state=42)\n",
    "k_means.fit(std_sclr_X)\n",
    "y_pred = k_means.labels_\n",
    "print('K-means++ =', \n",
    "      round(v_measure_score(labels_true=y, labels_pred=y_pred), 2))\n",
    "\n",
    "k_means = KMeans(n_clusters=3, init='random', n_init=1, random_state=42)\n",
    "k_means.fit(std_sclr_X)\n",
    "y_pred = k_means.labels_\n",
    "print('Random K-means =', \n",
    "      round(v_measure_score(labels_true=y, labels_pred=y_pred), 2))"
   ]
  },
  {
   "cell_type": "markdown",
   "id": "11133d97",
   "metadata": {},
   "source": [
    "Теперь сравним k-means с ещё одной модификацией — K-means mini batch. Воспользоваться реализацией K-means mini batch в библиотеке *sklearn* можно следующим образом:"
   ]
  },
  {
   "cell_type": "code",
   "execution_count": 146,
   "id": "2d0d3894",
   "metadata": {},
   "outputs": [],
   "source": [
    "from sklearn.cluster import MiniBatchKMeans\n",
    "\n",
    "kmeans_mini_batch = MiniBatchKMeans(n_clusters=\n",
    "3, random_state=\n",
    "42)\n",
    "kmeans_mini_batch.fit(std_sclr_X)\n",
    "kmeans_mini_batch_pred = kmeans_mini_batch.labels_"
   ]
  },
  {
   "cell_type": "markdown",
   "id": "06ad2b83",
   "metadata": {},
   "source": [
    "Механизм кластеризации версии K-means mini batch схож с оригинальной версией алгоритма. Обучите на исходном датасете две модели:\n",
    "\n",
    "* _k-means_ с параметрами <code>n_clusters=3, n_init=1, random_state=42</code>\n",
    "* _MiniBatchKMeans_ с параметрами <code>n_clusters=3, n_init=1, random_state=42</code>  \n",
    "\n",
    "В качестве ответа введите **максимальное значение v-меры**, полученное при помощи данных моделей. В задании может понадобиться, а может не понадобиться нормализация и это нужно проверить во время решения задания. Ответ округлите до десятых и запишите с точкой."
   ]
  },
  {
   "cell_type": "code",
   "execution_count": 147,
   "id": "56216631",
   "metadata": {},
   "outputs": [
    {
     "name": "stdout",
     "output_type": "stream",
     "text": [
      "K-means = 0.8\n",
      "MiniBatch = 0.7\n"
     ]
    }
   ],
   "source": [
    "k_means = KMeans(n_clusters=3, n_init=1, random_state=42)\n",
    "k_means.fit(std_sclr_X)\n",
    "y_pred = k_means.labels_\n",
    "print('K-means =', \n",
    "      round(v_measure_score(labels_true=y, labels_pred=y_pred), 1))\n",
    "\n",
    "kmeans_mini_batch = MiniBatchKMeans(n_clusters=3, n_init=1, random_state=42)\n",
    "kmeans_mini_batch.fit(std_sclr_X)\n",
    "y_pred = kmeans_mini_batch.labels_\n",
    "print('MiniBatch =', \n",
    "      round(v_measure_score(labels_true=y, labels_pred=y_pred), 1))"
   ]
  },
  {
   "cell_type": "markdown",
   "id": "b8301ace",
   "metadata": {},
   "source": [
    "Рассмотрим агломеративную кластеризацию. Сравним, как влияет на качество кластеризации разный тип расстояния между кластерами.\n",
    "\n",
    "Обучите на исходном датасете четыре **модели AgglomerativeClustering** с параметром <code>n_clusters=3</code>, меняя параметр <code>linkage</code>.\n",
    "\n",
    "В качестве ответа укажите **максимальное значение v-меры**, полученное при помощи данных моделей. В задании может понадобиться, а может не понадобиться нормализация и это нужно проверить во время решения задания. Ответ округлите до десятых и запишите с точкой."
   ]
  },
  {
   "cell_type": "code",
   "execution_count": 148,
   "id": "8c0bea83",
   "metadata": {},
   "outputs": [
    {
     "name": "stdout",
     "output_type": "stream",
     "text": [
      "ward = 0.9\n",
      "complete = 0.6\n",
      "average = 0.7\n",
      "single = 0.0\n"
     ]
    }
   ],
   "source": [
    "linkage_lst = ['ward', 'complete', 'average', 'single']\n",
    "for link in linkage_lst:\n",
    "    ac = AgglomerativeClustering(n_clusters=3, linkage=link)\n",
    "    ac.fit(std_sclr_X)\n",
    "    y_pred = ac.labels_\n",
    "    print(link, '=', \n",
    "          round(v_measure_score(labels_true=y, labels_pred=y_pred), 1))"
   ]
  },
  {
   "cell_type": "markdown",
   "id": "917b1372",
   "metadata": {},
   "source": [
    "Сравним, как влияет предварительный расчёт матрицы смежности на качество агломеративной кластеризации.\n",
    "\n",
    "Обучите на исходном датасете две **модели AgglomerativeClustering**:\n",
    "\n",
    "* с параметром <code>n_clusters=3</code>\n",
    "* с параметром <code>n_clusters=3</code> и предварительно посчитанной матрицей смежности для объектов датасета\n",
    "\n",
    "Построить матрицу смежности можно с помощью кода:"
   ]
  },
  {
   "cell_type": "code",
   "execution_count": 149,
   "id": "6dd2e422",
   "metadata": {},
   "outputs": [],
   "source": [
    "from sklearn.neighbors import kneighbors_graph\n",
    "\n",
    "connectivity = kneighbors_graph(std_sclr_X, n_neighbors=\n",
    "6, include_self=\n",
    "False)\n",
    "connectivity = 0.5 * (connectivity + connectivity.T)"
   ]
  },
  {
   "cell_type": "markdown",
   "id": "a41a4fbd",
   "metadata": {},
   "source": [
    "В качестве ответа введите **максимальное значение v-меры**, полученное при помощи данных моделей. В задании может понадобиться, а может не понадобиться нормализация и это нужно проверить во время решения задания. Ответ округлите до сотых и запишите с точкой."
   ]
  },
  {
   "cell_type": "code",
   "execution_count": 150,
   "id": "dcc4af5b",
   "metadata": {},
   "outputs": [
    {
     "name": "stdout",
     "output_type": "stream",
     "text": [
      "AgglomerativeClustering = 0.7\n",
      "AgglomerativeClusteringConnectivity = 0.91\n"
     ]
    }
   ],
   "source": [
    "ac = AgglomerativeClustering(n_clusters=3)\n",
    "ac.fit(X)\n",
    "y_pred = ac.labels_\n",
    "print('AgglomerativeClustering =', \n",
    "      round(v_measure_score(labels_true=y, labels_pred=y_pred), 1))\n",
    "\n",
    "ac_con = AgglomerativeClustering(n_clusters=3, connectivity=connectivity)\n",
    "ac_con.fit(X)\n",
    "y_pred = ac_con.labels_\n",
    "print('AgglomerativeClusteringConnectivity =', \n",
    "      round(v_measure_score(labels_true=y, labels_pred=y_pred), 2))"
   ]
  },
  {
   "cell_type": "markdown",
   "id": "2f25c142",
   "metadata": {},
   "source": [
    "Алгоритм DBSCAN очень требователен к параметрам: небольшое изменение в параметре <code>eps</code> или <code>min_samples</code> может изменить результат и качество кластеризации.\n",
    "\n",
    "Обучите на исходном датасете две модели DBSCAN:\n",
    "\n",
    "* с параметрами <code>eps=0.9</code>, <code>min_samples=35</code>\n",
    "* с параметрами <code>eps=0.8</code>, <code>min_samples=35</code>  \n",
    "\n",
    "В качестве ответа укажите **максимальное значение v-меры**, полученное при помощи данных моделей. В задании может понадобиться, а может не понадобиться нормализация и это нужно проверить во время решения задания. Ответ округлите до сотых и запишите с точкой."
   ]
  },
  {
   "cell_type": "code",
   "execution_count": 154,
   "id": "576b76b5",
   "metadata": {},
   "outputs": [
    {
     "name": "stdout",
     "output_type": "stream",
     "text": [
      "DBSCAN 0.9 = 0.77\n",
      "DBSCAN 0.8 = 0.71\n"
     ]
    }
   ],
   "source": [
    "dbscan = DBSCAN(eps=0.9, min_samples=35)\n",
    "dbscan.fit(X)\n",
    "y_pred = dbscan.labels_\n",
    "print('DBSCAN 0.9 =', \n",
    "      round(v_measure_score(labels_true=y, labels_pred=y_pred), 2))\n",
    "\n",
    "dbscan = DBSCAN(eps=0.8, min_samples=35)\n",
    "dbscan.fit(X)\n",
    "y_pred = dbscan.labels_\n",
    "print('DBSCAN 0.8 =', \n",
    "      round(v_measure_score(labels_true=y, labels_pred=y_pred), 2))"
   ]
  },
  {
   "cell_type": "markdown",
   "id": "d0523f64",
   "metadata": {},
   "source": [
    "Особенностью алгоритма DBSCAN является то, что помимо кластеризации этот алгоритм определяет **выбросы в выборке**. Посмотрим на качество кластеризации без учёта таких объектов.\n",
    "\n",
    "Обучите на исходном датасете модель DBSCAN с параметрами <code>eps=0.9</code>, <code>min_samples=35</code>. Посчитайте **значение v-меры** только для основных и граничных объектов выборки, то есть для объектов, что не являются выбросами. Ответ округлите до сотых и запишите с точкой."
   ]
  },
  {
   "cell_type": "code",
   "execution_count": 155,
   "id": "230b8a19",
   "metadata": {},
   "outputs": [],
   "source": [
    "dbscan = DBSCAN(eps=0.9, min_samples=35)\n",
    "dbscan.fit(X)\n",
    "y_pred = dbscan.labels_"
   ]
  },
  {
   "cell_type": "code",
   "execution_count": 156,
   "id": "edae1396",
   "metadata": {},
   "outputs": [
    {
     "name": "stdout",
     "output_type": "stream",
     "text": [
      "DBSCAN = 0.97\n"
     ]
    }
   ],
   "source": [
    "out_df = pd.DataFrame({'y': y, 'y_pred': y_pred})\n",
    "out_df = out_df[out_df['y_pred'] != -1]\n",
    "print('DBSCAN =', \n",
    "      round(v_measure_score(labels_true=out_df['y'], \n",
    "                            labels_pred=out_df['y_pred']), 2))"
   ]
  },
  {
   "cell_type": "markdown",
   "id": "14d3ead5",
   "metadata": {},
   "source": [
    "В курсе мы рассмотрели две метода нормализации данных:\n",
    "\n",
    "* MinMax нормализация — приведение данных к масштабу между $0$ и $1$.\n",
    "* Стандартная нормализация — данные имеют среднее $0$ и стандартное отклонение $1$.  \n",
    "\n",
    "Проверим, влияет ли предобработка данных на результат кластеризации. Обучите две модели AgglomerativeClustering с параметрами <code>n_clusters=3</code>:\n",
    "\n",
    "* на признаках исходного датасета,\n",
    "* предварительно трансформируйте признаки при помощи стандартной нормализации.\n",
    "\n",
    "Посчитайте **v-меру** для получившихся результатов, в качестве ответа введите наибольшее значение. Ответ округлите до сотых и запишите с точкой."
   ]
  },
  {
   "cell_type": "code",
   "execution_count": 158,
   "id": "78fc2fa0",
   "metadata": {},
   "outputs": [
    {
     "name": "stdout",
     "output_type": "stream",
     "text": [
      "AgglomerativeClustering = 0.7\n",
      "AgglomerativeClusteringStdSclr = 0.91\n"
     ]
    }
   ],
   "source": [
    "ac = AgglomerativeClustering(n_clusters=3)\n",
    "ac.fit(X)\n",
    "y_pred = ac.labels_\n",
    "print('AgglomerativeClustering =', \n",
    "      round(v_measure_score(labels_true=y, labels_pred=y_pred), 2))\n",
    "\n",
    "ac = AgglomerativeClustering(n_clusters=3)\n",
    "ac.fit(std_sclr_X)\n",
    "y_pred = ac.labels_\n",
    "print('AgglomerativeClusteringStdSclr =', \n",
    "      round(v_measure_score(labels_true=y, labels_pred=y_pred), 2))"
   ]
  },
  {
   "cell_type": "markdown",
   "id": "b46401fc",
   "metadata": {},
   "source": [
    "Обучите две модели AgglomerativeClustering с параметрами <code>n_clusters=3</code>:\n",
    "\n",
    "* на признаках исходного датасета,\n",
    "* предварительно трансформируйте признаки при помощи MinMax нормализации.\n",
    "\n",
    "Посчитайте **v-меру** для получившихся результатов, в качестве ответа введите наибольшее значение. Ответ округлите до сотых и запишите с точкой."
   ]
  },
  {
   "cell_type": "code",
   "execution_count": 160,
   "id": "8b38872a",
   "metadata": {},
   "outputs": [
    {
     "name": "stdout",
     "output_type": "stream",
     "text": [
      "AgglomerativeClustering = 0.7\n",
      "AgglomerativeClusteringMMSclr = 0.89\n"
     ]
    }
   ],
   "source": [
    "from sklearn.preprocessing import MinMaxScaler\n",
    "MM_sclr_X = MinMaxScaler().fit_transform(X)\n",
    "\n",
    "ac = AgglomerativeClustering(n_clusters=3)\n",
    "ac.fit(X)\n",
    "y_pred = ac.labels_\n",
    "print('AgglomerativeClustering =', \n",
    "      round(v_measure_score(labels_true=y, labels_pred=y_pred), 2))\n",
    "\n",
    "ac = AgglomerativeClustering(n_clusters=3)\n",
    "ac.fit(MM_sclr_X)\n",
    "y_pred = ac.labels_\n",
    "print('AgglomerativeClusteringMMSclr =', \n",
    "      round(v_measure_score(labels_true=y, labels_pred=y_pred), 2))"
   ]
  },
  {
   "cell_type": "markdown",
   "id": "9868097b",
   "metadata": {},
   "source": [
    "[К содержанию](#0)"
   ]
  },
  {
   "cell_type": "markdown",
   "id": "58858f47",
   "metadata": {},
   "source": [
    "---"
   ]
  },
  {
   "cell_type": "markdown",
   "id": "63e8a002",
   "metadata": {},
   "source": [
    "# Кластеризация текстов<a name=\"15\"></a>"
   ]
  },
  {
   "cell_type": "markdown",
   "id": "166d6301",
   "metadata": {},
   "source": [
    "Рассмотрим пример кластеризации текстов на стандартном наборе данных, новостях, выберем в наборе 4 из 20 категорий."
   ]
  },
  {
   "cell_type": "code",
   "execution_count": 161,
   "id": "19f5b242",
   "metadata": {
    "id": "MKKyqBfLb2sS"
   },
   "outputs": [],
   "source": [
    "import numpy as np\n",
    "import matplotlib.pyplot as plt\n",
    "\n",
    "from sklearn import metrics\n",
    "from sklearn.cluster import KMeans\n",
    "from sklearn.datasets import fetch_20newsgroups\n",
    "from sklearn.feature_extraction.text import CountVectorizer"
   ]
  },
  {
   "cell_type": "code",
   "execution_count": 162,
   "id": "9705b299",
   "metadata": {
    "colab": {
     "base_uri": "https://localhost:8080/"
    },
    "id": "y986XeGbb2sU",
    "outputId": "e67fd3ac-715d-42d1-dfcf-c60e73f4f71f"
   },
   "outputs": [
    {
     "name": "stdout",
     "output_type": "stream",
     "text": [
      "3903 документов\n",
      "4 категории\n"
     ]
    }
   ],
   "source": [
    "# Выбираем 4 категории новостей для легковесности примера\n",
    "categories = [\n",
    "    'rec.sport.hockey', # хоккей\n",
    "    'talk.politics.mideast', # политические новости о Ближнем Востоке\n",
    "    'comp.graphics', # компьютерная графика\n",
    "    'sci.crypt' # криптография\n",
    "]\n",
    "\n",
    "# Скачиваем набор данных\n",
    "dataset = fetch_20newsgroups(subset='all', categories=categories,\n",
    "                             shuffle=True, random_state=42)\n",
    "\n",
    "print(\"%d документов\" % len(dataset.data))\n",
    "print(\"%d категории\" % len(dataset.target_names))\n",
    "\n",
    "# Записываем значения категорий для каждой новости\n",
    "labels = dataset.target"
   ]
  },
  {
   "cell_type": "markdown",
   "id": "f4f7720c",
   "metadata": {
    "id": "l7WF38eFb2sV"
   },
   "source": [
    "## Предобработка данных"
   ]
  },
  {
   "cell_type": "code",
   "execution_count": 163,
   "id": "d04ea424",
   "metadata": {
    "colab": {
     "base_uri": "https://localhost:8080/"
    },
    "id": "xj_s3sGpb2sV",
    "outputId": "c9e52c1d-4825-4be5-810c-d9d85b94ee3e"
   },
   "outputs": [
    {
     "name": "stdout",
     "output_type": "stream",
     "text": [
      "From: c5ff@jupiter.sun.csd.unb.ca (COOK  Charlie)\n",
      "Subject: NHL Summary parse results for games played Mon, April 19, 1993\n",
      "Organization: University of New Brunswick\n",
      "Lines: 79\n",
      "\n",
      "Toronto                          1 1 1--3\n",
      "Detroit                          1 4 1--6\n",
      "First period\n",
      "     1, Detroit, Yzerman 1 (Gallant, Ciccarelli) 4:48.\n",
      "     2, Toronto, Cullen 1 (Clark, Gill) 10:44.\n",
      "Second period\n",
      "     3, Detroit, Sheppard 1 (Probert, Coffey) pp, 5:04.\n",
      "     4, Detroit, Burr 1 (Racine) sh, 6:42.\n",
      "     5, Detroit, Chiasson 1 (Coffey) pp,11:00.\n",
      "     6, Detroit, Howe 1 (Yzerman, Drake) 14:46.\n",
      "     7, Toronto, Gilmour 1 (Borschevsky, Ellett) pp, 19:59.\n",
      "Third period\n",
      "     8, Detroit, Racine 1 (Primeau, Drake) 5:10.\n",
      "     9, Toronto, Lefebvre 1 (Cullen, Pearson) 7:45.\n",
      "\n",
      "Detroit: 6    Power play: 6-2   Special goals:  pp: 2  sh: 1  Total: 3\n",
      "Scorer            G    A   Pts\n",
      "---------------  ---  ---  ---\n",
      "Burr               1    0    1\n",
      "Chiasson           1    0    1\n",
      "Ciccarelli         0    1    1\n",
      "Coffey             0    2    2\n",
      "Drake              0    2    2\n",
      "Gallant            0    1    1\n",
      "Howe               1    0    1\n",
      "Primeau            0    1    1\n",
      "Probert            0    1    1\n",
      "Racine             1    1    2\n",
      "Sheppard           1    0    1\n",
      "Yzerman            1    1    2\n",
      "\n",
      "Toronto: 3    Power play: 5-1\n",
      "Scorer            G    A   Pts\n",
      "---------------  ---  ---  ---\n",
      "Borschevsky        0    1    1\n",
      "Clark              0    1    1\n",
      "Cullen             1    1    2\n",
      "Ellett             0    1    1\n",
      "Gill               0    1    1\n",
      "Gilmour            1    0    1\n",
      "Lefebvre           1    0    1\n",
      "Pearson            0    1    1\n",
      "\n",
      "-----------------------------------------\n",
      "Winnipeg                         1 0 1--2\n",
      "Vancouver                        2 0 2--4\n",
      "First period\n",
      "     1, Vancouver, Adams 1 (Linden, Bure) pp, 1:23.\n",
      "     2, Vancouver, Craven 1 (Bure, Murzyn) 9:56.\n",
      "     3, Winnipeg, Steen 1 (Shannon, Housley) pp, 17:53.\n",
      "Second period\n",
      "     No scoring.\n",
      "Third period\n",
      "     4, Winnipeg, King 1 (Barnes) 3:43.\n",
      "     5, Vancouver, Linden 1(Courtnall, McLean) 12:16.\n",
      "     6, Vancouver, Ronning 1 (Courtnall) 18:31.\n",
      "\n",
      "Vancouver: 4    Power play: 6-1\n",
      "Scorer            G    A   Pts\n",
      "---------------  ---  ---  ---\n",
      "Adams              1    0    1\n",
      "Bure               0    2    2\n",
      "Courtnall          0    2    2\n",
      "Craven             1    0    1\n",
      "Linden             1    1    2\n",
      "McLean             0    1    1\n",
      "Murzyn             0    1    1\n",
      "Ronning            1    0    1\n",
      "\n",
      "Winnipeg: 2    Power play: 3-1\n",
      "Scorer            G    A   Pts\n",
      "---------------  ---  ---  ---\n",
      "Barnes             0    1    1\n",
      "Housley            0    1    1\n",
      "King               1    0    1\n",
      "Shannon            0    1    1\n",
      "Steen              1    0    1\n",
      "\n",
      "-----------------------------------------\n",
      "\n",
      "**************************************************\n",
      "\n",
      "From: golchowy@alchemy.chem.utoronto.ca (Gerald Olchowy)\n",
      "Subject: Re: Wings will win\n",
      "Organization: University of Toronto Chemistry Department\n",
      "Lines: 47\n",
      "\n",
      "In article <ragraca.735586800@vela.acs.oakland.edu> ragraca@vela.acs.oakland.edu (Randy A. Graca) writes:\n",
      ">\n",
      ">It's true that Vancouver did not make the playoffs for many a year before \n",
      ">Quinn came, but in those years the Smythe Division was a lot--I mean *a lot*--\n",
      ">tougher division than the Norris, also known as the \"Snorris\", division.\n",
      ">Vancouver had to play Edmonton and Calgary, both very legitimate Stanley\n",
      ">Cup contenders, eight times a year, while Detroit got to play such \n",
      ">powerhouses as Toronto and Minnesota.  Now, Edmonton is hardly even a force\n",
      ">in the league, and the Smythe even has the mighty San Jose sharks, while\n",
      "\n",
      "Them thar's fighting words...hardly a force...geez...miss the playoffs\n",
      "once in 15 years, and even after making the final four 3 times in the\n",
      "last five years, and everyone thinks its doomsville.\n",
      "\n",
      ">over this same period of time in which Vancouver was improving, so was \n",
      ">everybody in the Norris (except St. Louis).  Detroit had to improve just\n",
      ">to keep up with the competition in their division.  They had to improve *a\n",
      ">lot* to get better than their competition in the Norris.\n",
      ">\n",
      ">Bryan Murray inherited a team with very little talent.  For really good\n",
      ">players, they had Yzerman, Burr, and Probert, and that was about it.  (And\n",
      ">no doubt some will dispute whether Burr and Probert were that good). The\n",
      ">rest were either very green rookies or washed up veterans.  The only reason\n",
      ">they got as far as they did in the years before Murray came was due to the\n",
      ">coaching of Demers, who, at least at first, got every last ounce of effort\n",
      ">possible out of his team.  Then, even his coaching began to degrade.\n",
      ">\n",
      "\n",
      "Fedorov, Primeau, Kozlov, Lidstrom, Sillinger, Konstantinov, Drake,\n",
      "Kennedy, Racine, and Cheveldae were already in the pipeline due to\n",
      "Devellano...Murray inherited these guys...in addition to Yzerman,\n",
      "Probert, Carson, Chiasson, etc.\n",
      "\n",
      ">There are a number of reasons why Detroit wasn't in as bad a shape standings\n",
      ">wise when Murray took over as Vanc. was when Quinn took over, some of which\n",
      ">I outlined above, but Murray did not have any better personnel to work with\n",
      ">at the outset than did Quinn, with the exception of Yzerman.  And one player\n",
      ">cannot alone make a team into a Stanley Cup contender, as I'm sure everyone\n",
      ">reading this will agree.  \n",
      ">\n",
      "\n",
      "No...Quinn had far less...Murray took over Detroit at a time to \n",
      "take advantage of all of Devellano's good drafting...if Devellano\n",
      "had not given in to Demers request to make the Oates trade, he might\n",
      "still be GM.\n",
      "\n",
      "Gerald\n",
      "\n",
      "**************************************************\n",
      "\n",
      "From: rdippold@qualcomm.com (Ron \"Asbestos\" Dippold)\n",
      "Subject: Re: The battle is joined\n",
      "Originator: rdippold@qualcom.qualcomm.com\n",
      "Nntp-Posting-Host: qualcom.qualcomm.com\n",
      "Organization: Qualcomm, Inc., San Diego, CA\n",
      "Lines: 19\n",
      "\n",
      "In article <1993Apr16.181040.9381@qualcomm.com> karn@servo.qualcomm.com (Phil Karn) writes:\n",
      ">It looks like Dorothy Denning's wrong-headed ideas have gotten to the\n",
      ">Administration even sooner than we feared.\n",
      "\n",
      "If the Administration is this far along, is it possible that the\n",
      "government been working on it for a while and has been using the\n",
      "Dennings to prime the pump, so to speak, or as the Judas goat?\n",
      "Whether paid off, just gullible, or what, doesn't really matter.\n",
      "\n",
      "It might also be possible that the NSA / whoever has had the idea for\n",
      "this for quite a while, has been promoting it (Denning, et al) and\n",
      "siezed the new opportunity - a new administration who wants to spend\n",
      "more money on espionage than Bush did.\n",
      "\n",
      "Whatever, i'm not so sure that the cause/effect order is totally\n",
      "obvious.\n",
      "-- \n",
      "You will lose your \"Drug Free And Proud\" ribbon.  Two days later, you will\n",
      "catch a neighborhood kid smoking it.\n",
      "\n",
      "**************************************************\n",
      "\n",
      "From: mkapor@eff.org (Mitch Kapor)\n",
      "Subject: Re: Jerry Berman on pseudonymous privacy\n",
      "Originator: mkapor@eff.org\n",
      "Nntp-Posting-Host: eff.org\n",
      "Organization: The Electronic Frontier Foundation\n",
      "Lines: 21\n",
      "\n",
      "nobody@alumni.cco.caltech.edu correctly states Jerry Berman's 1985 view on\n",
      "privacy, but he mistakenly assumes that this represents Berman's 1993 view as\n",
      "EFF Executive Director.\n",
      "\n",
      "As one of the people who convinced Jerry that legal protections for privacy\n",
      "are insufficient, and that technical measures, especially public key\n",
      "cryptography, are also vitally necessary, I can tell you that Jerry and EFF\n",
      "are fully committed to this position.\n",
      "\n",
      "The previous poster is apparently unaware of a long series of EFF positions in\n",
      "support of this view.  I suggest those interested read EFF's position on\n",
      "Clipper or our other work in digital privacy.  Check ftp.eff.org for more\n",
      "details.\n",
      "\n",
      "One of the great things about human beings is that they are capable of change\n",
      "and evolution in their thinking.  The idea that crypto is critical to privacy\n",
      "is one which is no longer limited to certain net afficianados, but is \n",
      "spreading to parts of the public policy community in Washington.\n",
      "\n",
      "Mitch Kapor\n",
      "co-Founder, EFF \n",
      "\n",
      "**************************************************\n",
      "\n",
      "From: jfc@athena.mit.edu (John F Carr)\n",
      "Subject: Re: Screw the people, crypto is for hard-core hackers & spooks only\n",
      "Organization: Massachusetts Institute of Technology\n",
      "Lines: 16\n",
      "NNTP-Posting-Host: achates.mit.edu\n",
      "\n",
      "In article <19930419.155204.305@almaden.ibm.com>\n",
      "\tameline@vnet.IBM.COM (Ian Ameline) writes:\n",
      "\n",
      ">  I also believe that someone will reverse engineer the clipper chip,\n",
      ">and knowlege of the algorithm will likely be fairly widespread.\n",
      "\n",
      "The chip and algorithm are classified.  If you reverse engineer it and\n",
      "tell people, you are likely to go to jail.\n",
      "\n",
      "Perhaps some foreign governments or corporations could help us out by\n",
      "cracking the system outside the USA.  The US government could probably\n",
      "stop importation of clone hardware, but a software implementation\n",
      "should be practical.\n",
      "\n",
      "--\n",
      "    John Carr (jfc@athena.mit.edu)\n",
      "\n",
      "**************************************************\n",
      "\n",
      "From: B8HA000 <B8HA@MUSICB.MCGILL.CA>\n",
      "Subject: Zionism is Racism\n",
      "Lines: 8\n",
      "Nntp-Posting-Host: vm1.mcgill.ca\n",
      "Organization: McGill University\n",
      "\n",
      "In Re:Syria's Expansion, the author writes that the UN thought\n",
      "Zionism was Racism and that they were wrong.  They were correct\n",
      "the first time, Zionism is Racism and thankfully, the McGill Daily\n",
      "(the student newspaper at McGill) was proud enough to print an article\n",
      "saying so.  If you want a copy, send me mail.\n",
      "\n",
      "Steve\n",
      "\n",
      "\n",
      "**************************************************\n",
      "\n",
      "From: bc744@cleveland.Freenet.Edu (Mark Ira Kaufman)\n",
      "Subject: Re: Hamza Salah, the Humanist\n",
      "Organization: Case Western Reserve University, Cleveland, Ohio (USA)\n",
      "Lines: 8\n",
      "NNTP-Posting-Host: thor.ins.cwru.edu\n",
      "\n",
      "\n",
      "Mr. Salah, why are you such a homicidal racist?  Do you feel this\n",
      "same hatred towards Christans, or is it only Jews?  Are you from\n",
      "a family of racists?  Did you learn this racism in your home?  Or\n",
      "are you a self-made bigot?  How does one become such a racist?  I\n",
      "wonder what you think your racism will accomplish.  Are you under\n",
      "the impression that your racism will help bring peace in the mid-\n",
      "east?  I would like to know your thoughts on this.\n",
      "\n",
      "**************************************************\n",
      "\n",
      "From: rjc@hal.gnu.ai.mit.edu (Ray)\n",
      "Subject: Re: Once tapped, your code is no good any more.\n",
      "Distribution: na\n",
      "Organization: /etc/organization\n",
      "Lines: 27\n",
      "\n",
      "In article <C5pGFu.IA4@dscomsa.desy.de> hallam@zeus02.desy.de writes:\n",
      ">views would be to recruit them as spooks. They can be guaranteed to give\n",
      ">the government line when it counts. In US history it has been the \n",
      ">socialists such as myself who have been persecuted. \n",
      "\n",
      "  And in Russia, capitalists were persecuted for trading goods on the\n",
      "black market. And in the US, capitalist minded types are imprisoned and killed\n",
      "for things such as selling drugs, guns, pornography, and other victimless\n",
      "activities.  It doesn't matter whether you are socialist or capitalist,\n",
      "power and control are central to government. Since citizens can't be trusted to\n",
      "run their own affairs, the government must watch them.  (for their\n",
      "own good of course. I mean, with strong cryptography, citizens might <gasp!>\n",
      "start to hide things from the IRS, sell drugs/guns/pornography, and\n",
      "that cannot be allowed!)\n",
      "\n",
      ">trials. Ever seen Ed Meese pissed? I have, it was when he said that socialism\n",
      ">and communism were the same thing and brought the house down with laughter.\n",
      ">It took several minutes before we realised that he was serious.\n",
      "\n",
      "  Not very surprising to anyone who believes in \"hands off\" government. If\n",
      "you believe that your private life (both social and financial) are none of\n",
      "anyone else's business, the difference between socialism and communism is\n",
      "like the difference between murder by lethal injection or by\n",
      "chainsaw. The more centralized the economy is, the more potential\n",
      "abuses for accumulation of information on individuals. If you think\n",
      "credit companies are bad, ...  Well, I'm sure a democratic socialist society\n",
      "would vote for absolute privacy of all citizens -- NOT!\n",
      "\n",
      "**************************************************\n",
      "\n",
      "From: markus@octavia.anu.edu.au (Markus Buchhorn)\n",
      "Subject: Re: HDF readers/viewers\n",
      "Organization: Australian National University, Canberra\n",
      "Lines: 22\n",
      "Distribution: world\n",
      "NNTP-Posting-Host: 150.203.5.35\n",
      "Originator: markus@octavia\n",
      "\n",
      "\n",
      "I wrote...\n",
      "> \n",
      "> G'day all,\n",
      "> \n",
      "> Can anybody point me at a utility which will read/convert/crop/whatnot/\n",
      "> display HDF image files ? I've had a look at the HDF stuff under NCSA \n",
      "> and it must take an award for odd directory structure, strange storage\n",
      "> approaches and minimalist documentation :-)\n",
      "\n",
      "and it has since turned out that all the mirror sites I looked at were \n",
      "fooled by a restructuring at the original site - zaphod.ncsa.uiuc.edu - \n",
      "and hence were in a mess. That and a pointer to 'imconv' should get\n",
      "me started. Ta muchly.\n",
      "\n",
      "Cheers\n",
      "\tMarkus\n",
      "-- \n",
      "Markus Buchhorn, Parallel Computing Research Facility\n",
      "email = markus@octavia.anu.edu.au\n",
      "Australian National University, Canberra, 0200 , Australia.\n",
      "[International = +61 6, Australia = 06] [Phone = 2492930, Fax = 2490747]\n",
      "\n",
      "**************************************************\n",
      "\n",
      "From: \"dan mckinnon\" <dan.mckinnon@canrem.com>\n",
      "Subject: \"clipper chip\"\n",
      "Reply-To: \"dan mckinnon\" <dan.mckinnon@canrem.com>\n",
      "Organization: Canada Remote Systems\n",
      "Distribution: sci\n",
      "Lines: 30\n",
      "\n",
      "   I have lurked here a bit lately, and though some of the math is\n",
      "unknown to me, found it interesting. I thought I would post an article I\n",
      "found in the Saturday, April 17, 1993 Toronto Star:\n",
      "\n",
      "                  'CLIPPER CHIP' to protect privacy\n",
      "\n",
      "   Washington (REUTER) - President Bill CLinton announced yesterday a\n",
      "plan to plant a new \"Clipper Chip\" in every government telephone and\n",
      "computer line to prevent eavesdropping.\n",
      "\n",
      "   Eventually the chips, developed by the government's National\n",
      "Institute for Standards and Technology, would be used by commercial and\n",
      "private electronics communication users.\n",
      "\n",
      "   The White House said that to assure privacy, each device containing\n",
      "the encryption devices would be assigned two unique \"keys\" - numbers\n",
      "that will be needed by government agencies to decode messages.\n",
      "\n",
      "   The attorney-general has been assigned the task of arranging that the\n",
      "keys are deposited in two \"key-escrow\" data bases. Access to them would\n",
      "be limited to government officials with legal authorization to conduct a\n",
      "wiretap, the White House said in a statement.\n",
      "\n",
      "                              -30-\n",
      "\n",
      "\n",
      " Dan McKinnon\n",
      "--\n",
      "Canada Remote Systems - Toronto, Ontario\n",
      "416-629-7000/629-7044\n",
      "\n",
      "**************************************************\n",
      "\n"
     ]
    }
   ],
   "source": [
    "# Исходный набор данных, первые 10 примеров\n",
    "for i in range(10):\n",
    "    print(dataset.data[i], end='\\n' + '*' * 50 + '\\n\\n')"
   ]
  },
  {
   "cell_type": "markdown",
   "id": "c984e955",
   "metadata": {},
   "source": [
    "Тексты новостей нужно преобразовать в числа и почистить от посторонних символов. Для этого воспользуемся инструментом из библиотеки sklearn, он построит <b><span style=\"color:green\">токенизированные данные</span></b>.\n",
    "\n",
    ">**Примечание**: Токенизация — это разделение текста на компоненты. Например, токенизация по предложениям — это процесс разделения письменного языка на предложения-компоненты. А токенизация по словам — это разделение предложений на слова-компоненты."
   ]
  },
  {
   "cell_type": "code",
   "execution_count": 164,
   "id": "fff4362d",
   "metadata": {
    "colab": {
     "base_uri": "https://localhost:8080/"
    },
    "id": "sPHDwlK6b2sW",
    "outputId": "7d2b15ff-62ed-4777-884e-581c790cd3ea"
   },
   "outputs": [
    {
     "name": "stdout",
     "output_type": "stream",
     "text": [
      "['c5ff', 'jupiter', 'sun', 'csd', 'unb', 'ca', 'cook', 'charlie', 'subject', 'nhl', 'summary', 'parse', 'results', 'games', 'played', 'mon', 'april', '19', '1993', 'organization', 'university', 'new', 'brunswick', 'lines', '79', 'toronto', 'detroit', 'period', 'detroit', 'yzerman', 'gallant', 'ciccarelli', '48', 'toronto', 'cullen', 'clark', 'gill', '10', '44', 'second', 'period', 'detroit', 'sheppard', 'probert', 'coffey', 'pp', '04', 'detroit', 'burr', 'racine', 'sh', '42', 'detroit', 'chiasson', 'coffey', 'pp', '11', '00', 'detroit', 'howe', 'yzerman', 'drake', '14', '46', 'toronto', 'gilmour', 'borschevsky', 'ellett', 'pp', '19', '59', 'period', 'detroit', 'racine', 'primeau', 'drake', '10', 'toronto', 'lefebvre', 'cullen', 'pearson', '45', 'detroit', 'power', 'play', 'special', 'goals', 'pp', 'sh', 'total', 'scorer', 'pts', 'burr', 'chiasson', 'ciccarelli', 'coffey', 'drake', 'gallant', 'howe', 'primeau', 'probert', 'racine', 'sheppard', 'yzerman', 'toronto', 'power', 'play', 'scorer', 'pts', 'borschevsky', 'clark', 'cullen', 'ellett', 'gill', 'gilmour', 'lefebvre', 'pearson', 'winnipeg', 'vancouver', 'period', 'vancouver', 'adams', 'linden', 'bure', 'pp', '23', 'vancouver', 'craven', 'bure', 'murzyn', '56', 'winnipeg', 'steen', 'shannon', 'housley', 'pp', '17', '53', 'second', 'period', 'scoring', 'period', 'winnipeg', 'king', 'barnes', '43', 'vancouver', 'linden', 'courtnall', 'mclean', '12', '16', 'vancouver', 'ronning', 'courtnall', '18', '31', 'vancouver', 'power', 'play', 'scorer', 'pts', 'adams', 'bure', 'courtnall', 'craven', 'linden', 'mclean', 'murzyn', 'ronning', 'winnipeg', 'power', 'play', 'scorer', 'pts', 'barnes', 'housley', 'king', 'shannon', 'steen']\n",
      "\n",
      "['golchowy', 'alchemy', 'chem', 'utoronto', 'ca', 'gerald', 'olchowy', 'subject', 'wings', 'win', 'organization', 'university', 'toronto', 'chemistry', 'department', 'lines', '47', 'article', 'ragraca', '735586800', 'vela', 'acs', 'oakland', 'edu', 'ragraca', 'vela', 'acs', 'oakland', 'edu', 'randy', 'graca', 'writes', 'true', 'vancouver', 'did', 'make', 'playoffs', 'year', 'quinn', 'came', 'years', 'smythe', 'division', 'lot', 'mean', 'lot', 'tougher', 'division', 'norris', 'known', 'snorris', 'division', 'vancouver', 'play', 'edmonton', 'calgary', 'legitimate', 'stanley', 'cup', 'contenders', 'times', 'year', 'detroit', 'got', 'play', 'powerhouses', 'toronto', 'minnesota', 'edmonton', 'hardly', 'force', 'league', 'smythe', 'mighty', 'san', 'jose', 'sharks', 'thar', 'fighting', 'words', 'hardly', 'force', 'geez', 'miss', 'playoffs', '15', 'years', 'making', 'final', 'times', 'years', 'thinks', 'doomsville', 'period', 'time', 'vancouver', 'improving', 'everybody', 'norris', 'st', 'louis', 'detroit', 'improve', 'just', 'competition', 'division', 'improve', 'lot', 'better', 'competition', 'norris', 'bryan', 'murray', 'inherited', 'team', 'little', 'talent', 'really', 'good', 'players', 'yzerman', 'burr', 'probert', 'doubt', 'dispute', 'burr', 'probert', 'good', 'rest', 'green', 'rookies', 'washed', 'veterans', 'reason', 'got', 'far', 'did', 'years', 'murray', 'came', 'coaching', 'demers', 'got', 'ounce', 'effort', 'possible', 'team', 'coaching', 'began', 'degrade', 'fedorov', 'primeau', 'kozlov', 'lidstrom', 'sillinger', 'konstantinov', 'drake', 'kennedy', 'racine', 'cheveldae', 'pipeline', 'devellano', 'murray', 'inherited', 'guys', 'addition', 'yzerman', 'probert', 'carson', 'chiasson', 'number', 'reasons', 'detroit', 'wasn', 'bad', 'shape', 'standings', 'wise', 'murray', 'took', 'vanc', 'quinn', 'took', 'outlined', 'murray', 'did', 'better', 'personnel', 'work', 'outset', 'did', 'quinn', 'exception', 'yzerman', 'player', 'make', 'team', 'stanley', 'cup', 'contender', 'sure', 'reading', 'agree', 'quinn', 'far', 'murray', 'took', 'detroit', 'time', 'advantage', 'devellano', 'good', 'drafting', 'devellano', 'given', 'demers', 'request', 'make', 'oates', 'trade', 'gm', 'gerald']\n",
      "\n",
      "['rdippold', 'qualcomm', 'com', 'ron', 'asbestos', 'dippold', 'subject', 'battle', 'joined', 'originator', 'rdippold', 'qualcom', 'qualcomm', 'com', 'nntp', 'posting', 'host', 'qualcom', 'qualcomm', 'com', 'organization', 'qualcomm', 'san', 'diego', 'ca', 'lines', '19', 'article', '1993apr16', '181040', '9381', 'qualcomm', 'com', 'karn', 'servo', 'qualcomm', 'com', 'phil', 'karn', 'writes', 'looks', 'like', 'dorothy', 'denning', 'wrong', 'headed', 'ideas', 'gotten', 'administration', 'sooner', 'feared', 'administration', 'far', 'possible', 'government', 'working', 'using', 'dennings', 'prime', 'pump', 'speak', 'judas', 'goat', 'paid', 'just', 'gullible', 'doesn', 'really', 'matter', 'possible', 'nsa', 'idea', 'quite', 'promoting', 'denning', 'et', 'al', 'siezed', 'new', 'opportunity', 'new', 'administration', 'wants', 'spend', 'money', 'espionage', 'bush', 'did', 'sure', 'cause', 'effect', 'order', 'totally', 'obvious', 'lose', 'drug', 'free', 'proud', 'ribbon', 'days', 'later', 'catch', 'neighborhood', 'kid', 'smoking']\n",
      "\n",
      "['mkapor', 'eff', 'org', 'mitch', 'kapor', 'subject', 'jerry', 'berman', 'pseudonymous', 'privacy', 'originator', 'mkapor', 'eff', 'org', 'nntp', 'posting', 'host', 'eff', 'org', 'organization', 'electronic', 'frontier', 'foundation', 'lines', '21', 'alumni', 'cco', 'caltech', 'edu', 'correctly', 'states', 'jerry', 'berman', '1985', 'view', 'privacy', 'mistakenly', 'assumes', 'represents', 'berman', '1993', 'view', 'eff', 'executive', 'director', 'people', 'convinced', 'jerry', 'legal', 'protections', 'privacy', 'insufficient', 'technical', 'measures', 'especially', 'public', 'key', 'cryptography', 'vitally', 'necessary', 'tell', 'jerry', 'eff', 'fully', 'committed', 'position', 'previous', 'poster', 'apparently', 'unaware', 'long', 'series', 'eff', 'positions', 'support', 'view', 'suggest', 'interested', 'read', 'eff', 'position', 'clipper', 'work', 'digital', 'privacy', 'check', 'ftp', 'eff', 'org', 'details', 'great', 'things', 'human', 'beings', 'capable', 'change', 'evolution', 'thinking', 'idea', 'crypto', 'critical', 'privacy', 'longer', 'limited', 'certain', 'net', 'afficianados', 'spreading', 'parts', 'public', 'policy', 'community', 'washington', 'mitch', 'kapor', 'founder', 'eff']\n",
      "\n",
      "['jfc', 'athena', 'mit', 'edu', 'john', 'carr', 'subject', 'screw', 'people', 'crypto', 'hard', 'core', 'hackers', 'spooks', 'organization', 'massachusetts', 'institute', 'technology', 'lines', '16', 'nntp', 'posting', 'host', 'achates', 'mit', 'edu', 'article', '19930419', '155204', '305', 'almaden', 'ibm', 'com', 'ameline', 'vnet', 'ibm', 'com', 'ian', 'ameline', 'writes', 'believe', 'reverse', 'engineer', 'clipper', 'chip', 'knowlege', 'algorithm', 'likely', 'fairly', 'widespread', 'chip', 'algorithm', 'classified', 'reverse', 'engineer', 'tell', 'people', 'likely', 'jail', 'foreign', 'governments', 'corporations', 'help', 'cracking', 'outside', 'usa', 'government', 'probably', 'stop', 'importation', 'clone', 'hardware', 'software', 'implementation', 'practical', 'john', 'carr', 'jfc', 'athena', 'mit', 'edu']\n",
      "\n",
      "['b8ha000', 'b8ha', 'musicb', 'mcgill', 'ca', 'subject', 'zionism', 'racism', 'lines', 'nntp', 'posting', 'host', 'vm1', 'mcgill', 'ca', 'organization', 'mcgill', 'university', 'syria', 'expansion', 'author', 'writes', 'thought', 'zionism', 'racism', 'wrong', 'correct', 'time', 'zionism', 'racism', 'thankfully', 'mcgill', 'daily', 'student', 'newspaper', 'mcgill', 'proud', 'print', 'article', 'saying', 'want', 'copy', 'send', 'mail', 'steve']\n",
      "\n",
      "['bc744', 'cleveland', 'freenet', 'edu', 'mark', 'ira', 'kaufman', 'subject', 'hamza', 'salah', 'humanist', 'organization', 'case', 'western', 'reserve', 'university', 'cleveland', 'ohio', 'usa', 'lines', 'nntp', 'posting', 'host', 'thor', 'ins', 'cwru', 'edu', 'mr', 'salah', 'homicidal', 'racist', 'feel', 'hatred', 'christans', 'jews', 'family', 'racists', 'did', 'learn', 'racism', 'home', 'self', 'bigot', 'does', 'racist', 'wonder', 'think', 'racism', 'accomplish', 'impression', 'racism', 'help', 'bring', 'peace', 'mid', 'east', 'like', 'know', 'thoughts']\n",
      "\n",
      "['rjc', 'hal', 'gnu', 'ai', 'mit', 'edu', 'ray', 'subject', 'tapped', 'code', 'good', 'distribution', 'na', 'organization', 'organization', 'lines', '27', 'article', 'c5pgfu', 'ia4', 'dscomsa', 'desy', 'hallam', 'zeus02', 'desy', 'writes', 'views', 'recruit', 'spooks', 'guaranteed', 'government', 'line', 'counts', 'history', 'socialists', 'persecuted', 'russia', 'capitalists', 'persecuted', 'trading', 'goods', 'black', 'market', 'capitalist', 'minded', 'types', 'imprisoned', 'killed', 'things', 'selling', 'drugs', 'guns', 'pornography', 'victimless', 'activities', 'doesn', 'matter', 'socialist', 'capitalist', 'power', 'control', 'central', 'government', 'citizens', 'trusted', 'run', 'affairs', 'government', 'watch', 'good', 'course', 'mean', 'strong', 'cryptography', 'citizens', 'gasp', 'start', 'hide', 'things', 'irs', 'sell', 'drugs', 'guns', 'pornography', 'allowed', 'trials', 'seen', 'ed', 'meese', 'pissed', 'said', 'socialism', 'communism', 'thing', 'brought', 'house', 'laughter', 'took', 'minutes', 'realised', 'surprising', 'believes', 'hands', 'government', 'believe', 'private', 'life', 'social', 'financial', 'business', 'difference', 'socialism', 'communism', 'like', 'difference', 'murder', 'lethal', 'injection', 'chainsaw', 'centralized', 'economy', 'potential', 'abuses', 'accumulation', 'information', 'individuals', 'think', 'credit', 'companies', 'bad', 'sure', 'democratic', 'socialist', 'society', 'vote', 'absolute', 'privacy', 'citizens']\n",
      "\n",
      "['markus', 'octavia', 'anu', 'edu', 'au', 'markus', 'buchhorn', 'subject', 'hdf', 'readers', 'viewers', 'organization', 'australian', 'national', 'university', 'canberra', 'lines', '22', 'distribution', 'world', 'nntp', 'posting', 'host', '150', '203', '35', 'originator', 'markus', 'octavia', 'wrote', 'day', 'anybody', 'point', 'utility', 'read', 'convert', 'crop', 'whatnot', 'display', 'hdf', 'image', 'files', 've', 'look', 'hdf', 'stuff', 'ncsa', 'award', 'odd', 'directory', 'structure', 'strange', 'storage', 'approaches', 'minimalist', 'documentation', 'turned', 'mirror', 'sites', 'looked', 'fooled', 'restructuring', 'original', 'site', 'zaphod', 'ncsa', 'uiuc', 'edu', 'mess', 'pointer', 'imconv', 'started', 'ta', 'muchly', 'cheers', 'markus', 'markus', 'buchhorn', 'parallel', 'computing', 'research', 'facility', 'email', 'markus', 'octavia', 'anu', 'edu', 'au', 'australian', 'national', 'university', 'canberra', '0200', 'australia', 'international', '61', 'australia', '06', 'phone', '2492930', 'fax', '2490747']\n",
      "\n",
      "['dan', 'mckinnon', 'dan', 'mckinnon', 'canrem', 'com', 'subject', 'clipper', 'chip', 'reply', 'dan', 'mckinnon', 'dan', 'mckinnon', 'canrem', 'com', 'organization', 'canada', 'remote', 'systems', 'distribution', 'sci', 'lines', '30', 'lurked', 'bit', 'lately', 'math', 'unknown', 'interesting', 'thought', 'post', 'article', 'saturday', 'april', '17', '1993', 'toronto', 'star', 'clipper', 'chip', 'protect', 'privacy', 'washington', 'reuter', 'president', 'clinton', 'announced', 'yesterday', 'plan', 'plant', 'new', 'clipper', 'chip', 'government', 'telephone', 'computer', 'line', 'prevent', 'eavesdropping', 'eventually', 'chips', 'developed', 'government', 'national', 'institute', 'standards', 'technology', 'used', 'commercial', 'private', 'electronics', 'communication', 'users', 'white', 'house', 'said', 'assure', 'privacy', 'device', 'containing', 'encryption', 'devices', 'assigned', 'unique', 'keys', 'numbers', 'needed', 'government', 'agencies', 'decode', 'messages', 'attorney', 'general', 'assigned', 'task', 'arranging', 'keys', 'deposited', 'key', 'escrow', 'data', 'bases', 'access', 'limited', 'government', 'officials', 'legal', 'authorization', 'conduct', 'wiretap', 'white', 'house', 'said', 'statement', '30', 'dan', 'mckinnon', 'canada', 'remote', 'systems', 'toronto', 'ontario', '416', '629', '7000', '629', '7044']\n",
      "\n"
     ]
    }
   ],
   "source": [
    "# Создаём объект, который будет токенизировать данные\n",
    "analyzer = CountVectorizer(stop_words='english').build_analyzer()\n",
    "\n",
    "# Токенизируем наш набор данных\n",
    "docs = []\n",
    "for document in dataset.data:\n",
    "    docs.append(analyzer(document.replace('_', '')))\n",
    "\n",
    "# И посмотрим 10 первых примеров\n",
    "for i in range(10):\n",
    "    print(docs[i], end='\\n\\n')"
   ]
  },
  {
   "cell_type": "code",
   "execution_count": 165,
   "id": "de6844aa",
   "metadata": {
    "colab": {
     "base_uri": "https://localhost:8080/"
    },
    "id": "igJTO2Ysb2sX",
    "outputId": "5941366a-d2d4-4cae-a47a-471c63361fc9",
    "scrolled": true
   },
   "outputs": [
    {
     "data": {
      "text/plain": [
       "3903"
      ]
     },
     "execution_count": 165,
     "metadata": {},
     "output_type": "execute_result"
    }
   ],
   "source": [
    "# Проверим, что число документов осталось прежним\n",
    "len(docs)"
   ]
  },
  {
   "cell_type": "markdown",
   "id": "dd501253",
   "metadata": {
    "id": "X27GZd-8b2sY"
   },
   "source": [
    "## Векторизация текстов"
   ]
  },
  {
   "cell_type": "code",
   "execution_count": 168,
   "id": "3b19f798",
   "metadata": {},
   "outputs": [],
   "source": [
    "# Установка пакета gensim\n",
    "# !pip install -U gensim"
   ]
  },
  {
   "cell_type": "markdown",
   "id": "5583ff02",
   "metadata": {},
   "source": [
    "При работе в Google Colab обязательно нужно запустить код из ячейки выше, несмотря на то, что в Google Colab gensim уже предустановлен. Так gensim обновится до последней версии.  \n",
    "На данный момент в Google Colab уставнолена одна из прошлых версий модуля gensim, и поэтому на ней код ниже работать не будет."
   ]
  },
  {
   "cell_type": "markdown",
   "id": "b5f01697",
   "metadata": {},
   "source": [
    "Каждый текст превратился в отдельный набор слов. Перейдём к <b><span style=\"color:green\">векторизации текстов</span></b>: воспользуемся моделью <b><span style=\"color:green\">Word2Vec</span></b>, которая для каждого слова строит числовой вектор, в нашем случае каждое слово будет <b><span style=\"color:green\">кодироваться</span></b> 50 числами. При этом вектора будем делать для тех слов, которые встречаются больше 20 раз во всех текстах документов. Также сделаем средний вектор для всех слов, таким образом получим вектор для текста в целом.\n",
    "\n",
    ">**Примечание**: более подробно с моделью *Word2vec* можно познакомиться в [этой статье](https://habr.com/ru/post/446530/)."
   ]
  },
  {
   "cell_type": "code",
   "execution_count": 169,
   "id": "e9cfb7fd",
   "metadata": {
    "id": "qgqicmb7b2sZ"
   },
   "outputs": [],
   "source": [
    "from gensim.models import Word2Vec\n",
    "\n",
    "# Обучаем модель векторайзера на нашем наборе данных\n",
    "# На выходе мы получим вектор признаков для каждого слова\n",
    "model = Word2Vec(docs, min_count=20, vector_size=50)\n",
    "\n",
    "# Наивный подход к созданию единого эмбеддинга для документа – средний эмбеддинг по словам\n",
    "def doc_vectorizer(doc, model):\n",
    "    doc_vector = []\n",
    "    num_words = 0\n",
    "    for word in doc:\n",
    "        try:\n",
    "            if num_words == 0:\n",
    "                doc_vector = model.wv[word]\n",
    "            else:\n",
    "                doc_vector = np.add(doc_vector, model.wv[word])\n",
    "            num_words += 1\n",
    "        except:\n",
    "            pass\n",
    "     \n",
    "    return np.asarray(doc_vector) / num_words\n",
    "\n",
    "# Составляем эмбеддинги для наших документов\n",
    "X = []\n",
    "for doc in docs:\n",
    "    X.append(doc_vectorizer(doc, model))"
   ]
  },
  {
   "cell_type": "code",
   "execution_count": 170,
   "id": "d908f7f1",
   "metadata": {
    "colab": {
     "base_uri": "https://localhost:8080/"
    },
    "id": "9-ZvPfa2expv",
    "outputId": "c4a14c9d-b2d6-424e-9792-ac6758e2beff"
   },
   "outputs": [
    {
     "data": {
      "text/plain": [
       "[array([-1.5473624e+00,  1.5673032e-02,  6.6698784e-01,  8.7817472e-01,\n",
       "         1.6711414e-01,  1.0530778e-01,  1.0585860e+00,  6.7709702e-01,\n",
       "        -1.0357201e+00, -1.5458575e-01, -1.0179010e-01, -7.3593605e-01,\n",
       "        -3.8460192e-01,  3.5996431e-01,  1.8279199e-01, -1.3327588e-01,\n",
       "        -2.8960440e-01, -2.5062080e-02, -1.2326103e-01, -3.2335100e-01,\n",
       "        -2.1454294e-01, -3.1974569e-01,  1.0881034e+00, -6.4989650e-01,\n",
       "         3.2396644e-01,  2.8416246e-01, -9.5552772e-01, -9.9894768e-03,\n",
       "        -2.6567519e-01, -6.6826433e-01, -1.9210671e-01,  3.4442437e-01,\n",
       "         2.0854296e-01,  5.1561624e-01, -1.2103362e+00, -6.4318366e-02,\n",
       "        -2.0167126e-01, -4.1096073e-01,  6.5618479e-01, -9.4845998e-01,\n",
       "         5.6826293e-01, -2.6525199e-01, -3.9906019e-01, -1.7060265e-04,\n",
       "         5.3414440e-01,  4.2513689e-01, -6.4389729e-01, -9.9121618e-01,\n",
       "        -3.3348894e-01, -6.2526681e-02], dtype=float32),\n",
       " array([-1.1992542 , -0.12364964,  0.21700646,  0.55325323, -0.11658319,\n",
       "        -0.32741496,  0.8051336 ,  0.6269558 , -0.86682814, -0.16867827,\n",
       "        -0.49119914, -0.73150855, -0.3942523 ,  0.10159576, -0.26503032,\n",
       "        -0.27287054,  0.06068955, -0.1533642 , -0.22316663, -0.03142224,\n",
       "        -0.52447015,  0.5414547 ,  0.64021695, -0.29235965,  0.13836055,\n",
       "         0.14605798, -0.544367  ,  0.39491677, -0.17449017, -0.24519444,\n",
       "         0.34171185, -0.04304843,  0.46655586,  0.14391461, -0.7736616 ,\n",
       "        -0.33524337,  0.2514189 , -0.20994875,  0.52470326, -0.36475956,\n",
       "         0.30235955, -0.17263941, -0.7494728 ,  0.02327904,  0.6938771 ,\n",
       "        -0.05232215, -0.46362004, -0.4843013 ,  0.21696357,  0.07704453],\n",
       "       dtype=float32),\n",
       " array([-0.04011592, -0.21373916, -0.0568501 , -0.14491607, -0.03304027,\n",
       "        -0.19080883,  0.32530028,  0.43852004, -0.48970044,  0.08852696,\n",
       "        -0.3936511 , -0.75544333, -0.11415624,  0.47093153, -0.2475429 ,\n",
       "         0.4028795 ,  0.73056036,  0.6769779 , -0.6286954 , -0.3308593 ,\n",
       "        -0.56166434,  0.8564075 ,  0.9561791 ,  0.13429536, -0.03293076,\n",
       "         0.3095758 ,  0.15293731,  0.28969872, -0.17821926, -0.02148286,\n",
       "         0.6711382 , -0.28696704,  0.43404844, -0.05301685, -0.22491936,\n",
       "        -0.02338712,  0.6525019 , -0.28914806,  0.22181115, -0.43675786,\n",
       "         0.15923251, -0.36703923, -0.5449474 ,  0.05584046,  1.0193466 ,\n",
       "         0.09430485, -0.12068765, -0.30772468, -0.04783266, -0.41669208],\n",
       "       dtype=float32),\n",
       " array([ 0.1320969 , -0.13823444, -0.03021785, -0.31163645, -0.31587934,\n",
       "        -0.3153898 ,  0.31728297,  0.34949017, -0.22157392,  0.07287169,\n",
       "        -0.36291486, -0.5316174 , -0.01752797,  0.19726548, -0.64928746,\n",
       "         0.5422102 ,  0.688358  ,  0.34417066, -0.71480924, -0.46919647,\n",
       "        -0.06551611,  0.5447049 ,  1.0948347 ,  0.518002  , -0.3480257 ,\n",
       "         0.35223755,  0.4366305 , -0.24618575, -0.510037  ,  0.23909386,\n",
       "         0.04174745, -0.2372608 ,  0.40938807, -0.4078178 ,  0.47674915,\n",
       "         0.57269245,  0.5135329 , -0.3277725 , -0.1041856 , -0.3745441 ,\n",
       "         0.5004397 , -0.18162733,  0.01731677,  0.17320648,  1.2632076 ,\n",
       "         0.15657437, -0.103333  , -0.1568023 , -0.10938784,  0.08902323],\n",
       "       dtype=float32),\n",
       " array([ 0.01352819, -0.20342633,  0.10476401, -0.29948255,  0.10856339,\n",
       "        -0.0838939 ,  0.5016117 ,  0.4934768 , -0.20288445,  0.37403503,\n",
       "        -0.17718042, -0.6202139 , -0.34788114,  0.842068  , -0.60765797,\n",
       "         0.83313674,  0.53391105,  0.86285406, -0.858949  , -0.51454306,\n",
       "        -0.07787669,  1.0211467 ,  1.4228677 ,  0.58940583,  0.06941409,\n",
       "         0.09120318,  0.07606759,  0.03728297, -0.27053985, -0.22281453,\n",
       "         0.7092976 , -0.41911453,  0.6838906 , -0.22975795, -0.01043484,\n",
       "         0.29387653,  0.8440881 , -0.21905585,  0.15985835, -0.53939986,\n",
       "         0.3887844 , -0.47800788, -0.30005723,  0.11845215,  1.0466863 ,\n",
       "         0.36279696,  0.10529477,  0.07114032,  0.03487349, -0.2874735 ],\n",
       "       dtype=float32),\n",
       " array([-0.55909455, -0.13301362,  0.49903408, -0.11382715, -0.00939775,\n",
       "        -0.16501145,  0.51479137,  0.45392808, -0.7572427 ,  0.8752713 ,\n",
       "        -0.01889305, -0.5419777 , -0.23447101,  0.48709947, -0.05658864,\n",
       "         0.40666243,  0.6745708 ,  0.4824895 , -0.8394026 , -0.51050234,\n",
       "         0.4888126 ,  1.2795095 ,  1.250611  , -0.02295977, -0.55848646,\n",
       "         0.80707234, -0.11911314, -0.42183745,  0.19752194, -0.5095639 ,\n",
       "         0.6092436 , -0.02681022,  0.23696354,  0.03068907,  0.42811066,\n",
       "        -0.4426101 ,  0.778149  ,  0.02902467,  0.3217258 , -0.8004806 ,\n",
       "         0.1761808 , -0.53385365, -0.5143133 , -0.6453758 ,  1.114125  ,\n",
       "        -0.36916277, -0.28850183, -0.5423005 ,  0.21223524, -0.61319953],\n",
       "       dtype=float32),\n",
       " array([-5.7634974e-01,  1.8475994e-01,  2.7062318e-01, -1.1564466e-01,\n",
       "        -9.2041987e-04, -2.2063074e-01,  4.9157405e-01,  7.6523161e-01,\n",
       "        -7.9776716e-01,  7.0200241e-01,  1.5751582e-01, -5.3404915e-01,\n",
       "        -3.9079911e-01,  3.8278341e-01, -5.6683153e-01,  8.4517770e-02,\n",
       "         4.0293288e-01,  4.3128137e-02, -7.6087272e-01, -2.5547135e-01,\n",
       "         1.9495714e-01,  1.0772700e+00,  1.1891043e+00,  2.1439177e-01,\n",
       "        -3.1205794e-01,  5.2180505e-01, -5.6160694e-01, -2.7074274e-01,\n",
       "         1.7391972e-01, -2.5019887e-01,  7.5890970e-01, -2.5443041e-01,\n",
       "         3.2438144e-01, -1.2929514e-01,  6.2135392e-01, -1.2528287e-01,\n",
       "         6.5606189e-01, -6.4167671e-02,  2.4579813e-01, -6.3125354e-01,\n",
       "         2.6050827e-01, -4.9326193e-01, -5.0667626e-01, -3.1334108e-01,\n",
       "         7.7228224e-01, -4.2592126e-01, -2.2184516e-01, -3.1901520e-01,\n",
       "        -1.2502106e-01, -3.0472964e-01], dtype=float32),\n",
       " array([-0.17323035, -0.02752256, -0.09133143, -0.20482914, -0.14214505,\n",
       "        -0.35958207,  0.39307976,  0.50342655, -0.36373612, -0.17886853,\n",
       "        -0.41130477, -0.5667649 , -0.2557603 ,  0.11186215, -0.7350786 ,\n",
       "         0.16487095,  0.52574325,  0.02160295, -0.3855821 , -0.01046928,\n",
       "        -0.42248514,  0.83783233,  0.68708307,  0.24074595, -0.10035184,\n",
       "         0.24298644, -0.2130109 ,  0.24262388, -0.18540537,  0.4188988 ,\n",
       "         0.45783454, -0.24362831,  0.3424519 , -0.25277698,  0.05183519,\n",
       "         0.220363  ,  0.447998  , -0.27698326,  0.2071576 , -0.13636938,\n",
       "         0.5181618 , -0.22023676, -0.33429694,  0.15608709,  1.0752491 ,\n",
       "        -0.14820974, -0.13451944, -0.27251068, -0.12253448,  0.18974999],\n",
       "       dtype=float32),\n",
       " array([-0.6208482 , -0.24260546,  0.35944155,  0.04896086,  0.00544134,\n",
       "         0.04972069,  0.54161596,  0.43779364, -0.5234504 ,  0.53769034,\n",
       "         0.13933103, -0.34495822, -0.11997893,  0.48034322, -0.53010195,\n",
       "         0.54978734,  0.21548565,  0.33114597, -0.48513022, -0.71632844,\n",
       "         0.5512595 ,  0.70713854,  1.2262527 ,  0.13493179,  0.16996174,\n",
       "         0.15087456, -0.13300996, -0.4438886 , -0.33909908, -0.28972235,\n",
       "         0.5547083 , -0.09707183,  0.32372287, -0.20231722, -0.0650344 ,\n",
       "         0.37518808,  0.44862556,  0.13206382, -0.01035193, -0.7229919 ,\n",
       "         0.6503059 , -0.33787835,  0.11114945, -0.04111345,  0.72461164,\n",
       "         0.23424144,  0.18252915, -0.39796674, -0.08219787,  0.09656531],\n",
       "       dtype=float32),\n",
       " array([ 0.2730373 , -0.3889738 ,  0.03993482, -0.46102205,  0.1118826 ,\n",
       "        -0.09793944,  0.6625852 ,  0.39704198, -0.09364098, -0.37594593,\n",
       "        -0.7182064 , -0.62629783, -0.4228556 ,  0.5696143 , -0.56003773,\n",
       "         0.7726693 ,  0.72243464,  0.82354945, -0.3979456 , -0.27995214,\n",
       "        -0.47830102,  0.36378667,  1.1419624 ,  0.63645947, -0.09136432,\n",
       "         0.1232576 , -0.09239458,  0.28984308, -0.4692888 ,  0.3240563 ,\n",
       "         0.12109773, -0.14036779,  0.71464294, -0.3339902 , -0.09762719,\n",
       "         0.58700395,  0.5132012 , -0.5626094 ,  0.0582707 , -0.16677734,\n",
       "         0.83080584, -0.43279052, -0.15956835,  0.34928194,  1.356483  ,\n",
       "         0.45366293,  0.10364746, -0.17423847, -0.35796872,  0.05617177],\n",
       "       dtype=float32)]"
      ]
     },
     "execution_count": 170,
     "metadata": {},
     "output_type": "execute_result"
    }
   ],
   "source": [
    "# Как выглядят первые 10 документов после векторизации \n",
    "X[:10]"
   ]
  },
  {
   "cell_type": "code",
   "execution_count": 171,
   "id": "84038ea5",
   "metadata": {
    "colab": {
     "base_uri": "https://localhost:8080/"
    },
    "id": "WKOBa-p4b2sa",
    "outputId": "398b7a9d-cdb7-4ba8-8285-c7c342111e1c"
   },
   "outputs": [
    {
     "name": "stdout",
     "output_type": "stream",
     "text": [
      "(3903, 50)\n"
     ]
    }
   ],
   "source": [
    "# Проверим размер вектора для документа\n",
    "print(np.asarray(X).shape)"
   ]
  },
  {
   "cell_type": "markdown",
   "id": "acdce276",
   "metadata": {},
   "source": [
    "Наша кластеризация будет работать лучше, если снизить <b><span style=\"color:green\">размерность</span></b>. Для этого воспользуемся методом TSNE.\n",
    "\n",
    ">**Примечание**: TSNE — это техника нелинейного снижения размерности и визуализации многомерных признаков, почитать о ней можно, например, [здесь](https://habr.com/ru/post/267041/).\n",
    "\n",
    "При понижении размерности мы сохраняем близость элементов, то есть если элементы были близки при size=50, то они останутся близки и при size=2."
   ]
  },
  {
   "cell_type": "code",
   "execution_count": 172,
   "id": "98ed23eb",
   "metadata": {
    "colab": {
     "base_uri": "https://localhost:8080/"
    },
    "id": "O5UdbBRVb2sb",
    "outputId": "1dbfe974-f69a-481b-9ad7-e60b01236e91"
   },
   "outputs": [
    {
     "name": "stdout",
     "output_type": "stream",
     "text": [
      "(3903, 2)\n"
     ]
    }
   ],
   "source": [
    "# t-SNE – метод понижения размерности\n",
    "from sklearn.manifold import TSNE\n",
    "\n",
    "# Создаём объект для выполнения t-SNE\n",
    "tsne = TSNE(n_components=2, random_state=0)\n",
    "\n",
    "# Преобразуем наши данные, понизив размерность с 50 до 2\n",
    "X = tsne.fit_transform(X)\n",
    "\n",
    "print(np.asarray(X).shape)"
   ]
  },
  {
   "cell_type": "markdown",
   "id": "fedb6c5d",
   "metadata": {
    "id": "01NHiYa9b2sb"
   },
   "source": [
    "## Кластеризация"
   ]
  },
  {
   "cell_type": "markdown",
   "id": "c06991ad",
   "metadata": {},
   "source": [
    "Создадим кластеризатор <b><span style=\"color:green\">KMeans</span></b> и обучим на подготовленных данных. Мы можем посмотреть получившиеся центроиды и предсказанные кластеры."
   ]
  },
  {
   "cell_type": "code",
   "execution_count": 173,
   "id": "61c46c0b",
   "metadata": {
    "colab": {
     "base_uri": "https://localhost:8080/"
    },
    "id": "BTgYBxfab2sb",
    "outputId": "b9d6a45a-e8dc-42f8-b2cb-20c572222bac"
   },
   "outputs": [
    {
     "data": {
      "text/plain": [
       "KMeans(n_clusters=4)"
      ]
     },
     "execution_count": 173,
     "metadata": {},
     "output_type": "execute_result"
    }
   ],
   "source": [
    "# Создаём KMeans кластеризатор \n",
    "kmeans = KMeans(n_clusters=4)\n",
    "\n",
    "# Обучим кластеризатор на подготовленных данных\n",
    "kmeans.fit(X)"
   ]
  },
  {
   "cell_type": "code",
   "execution_count": 174,
   "id": "991f0111",
   "metadata": {
    "colab": {
     "base_uri": "https://localhost:8080/"
    },
    "id": "cOgDW8qkb2sc",
    "outputId": "22a52d86-52e4-48f3-d238-b6a52470681d"
   },
   "outputs": [
    {
     "name": "stdout",
     "output_type": "stream",
     "text": [
      "Координаты центроидов:\n",
      " [[ 52.846363    5.663722 ]\n",
      " [ -8.878304   45.32106  ]\n",
      " [-38.69465    -3.8168564]\n",
      " [ -3.0743556 -37.567425 ]]\n"
     ]
    }
   ],
   "source": [
    "# Получаем предсказанные кластеры\n",
    "y_pred = kmeans.labels_.astype(int)\n",
    "\n",
    "# Координаты полученных центроидов\n",
    "print (\"Координаты центроидов:\\n\", kmeans.cluster_centers_)"
   ]
  },
  {
   "cell_type": "code",
   "execution_count": 175,
   "id": "6efb9de7",
   "metadata": {
    "colab": {
     "base_uri": "https://localhost:8080/"
    },
    "id": "2vRpvl5Effqk",
    "outputId": "ab512ed0-fa70-4efb-e9db-d48b80f0b7a2"
   },
   "outputs": [
    {
     "name": "stdout",
     "output_type": "stream",
     "text": [
      "Коэффициент силуэта: 0.512\n",
      "Однородность: 0.768\n",
      "Полнота: 0.771\n",
      "V-мера: 0.769\n"
     ]
    }
   ],
   "source": [
    "# Метрики\n",
    "print (\"Коэффициент силуэта: %0.3f\" % metrics.silhouette_score(X, y_pred, metric='euclidean'))\n",
    "print(\"Однородность: %0.3f\" % metrics.homogeneity_score(labels, y_pred))\n",
    "print(\"Полнота: %0.3f\" % metrics.completeness_score(labels, y_pred))\n",
    "print(\"V-мера: %0.3f\" % metrics.v_measure_score(labels, y_pred))"
   ]
  },
  {
   "cell_type": "code",
   "execution_count": 176,
   "id": "4497061b",
   "metadata": {
    "colab": {
     "base_uri": "https://localhost:8080/",
     "height": 592
    },
    "id": "2AB8Fpc8f7MX",
    "outputId": "99e50dfd-a2d5-46d6-8973-21ce8b3006c6"
   },
   "outputs": [
    {
     "data": {
      "image/png": "[encoded data removed]",
      "text/plain": [
       "<Figure size 720x720 with 1 Axes>"
      ]
     },
     "metadata": {
      "needs_background": "light"
     },
     "output_type": "display_data"
    }
   ],
   "source": [
    "# Графики полученных кластеров\n",
    "plt.rcParams['figure.figsize'] = 10, 10\n",
    "plt.scatter(X[:, 0], X[:, 1], c=y_pred, s=200, alpha=.5)\n",
    "plt.scatter(kmeans.cluster_centers_[:, 0], kmeans.cluster_centers_[:, 1], c='red', s=200, marker='+')\n",
    "plt.show()"
   ]
  },
  {
   "cell_type": "code",
   "execution_count": 177,
   "id": "bf58d4d0",
   "metadata": {
    "colab": {
     "base_uri": "https://localhost:8080/",
     "height": 592
    },
    "id": "WLx6LqRZb2sd",
    "outputId": "19876968-0763-48bd-9778-fa2faddc0030",
    "scrolled": false
   },
   "outputs": [
    {
     "data": {
      "image/png": "[encoded data removed]",
      "text/plain": [
       "<Figure size 720x720 with 1 Axes>"
      ]
     },
     "metadata": {
      "needs_background": "light"
     },
     "output_type": "display_data"
    }
   ],
   "source": [
    "# Построим график истинных классов\n",
    "colors = (\"red\", \"green\", \"blue\", \"yellow\")\n",
    "\n",
    "for i in range(4):\n",
    "    plt.scatter(X[labels==i][:, 0], X[labels==i][:, 1], \\\n",
    "                s=200, alpha=.5, c=colors[i], label=dataset.target_names[i])\n",
    "    plt.legend(loc=2)\n",
    "\n",
    "plt.show()"
   ]
  },
  {
   "cell_type": "markdown",
   "id": "38e0f776",
   "metadata": {},
   "source": [
    "Какие у нас <b><span style=\"color:green\">метрики</span></b>? Коэффициент силуэта, однородность, полнота и V-мера говорят о том, что кластеры довольно цельные, высокие совпадения между истинными значениями и теми, что мы получили."
   ]
  },
  {
   "cell_type": "markdown",
   "id": "5c9dddd8",
   "metadata": {},
   "source": [
    "[К содержанию](#0)"
   ]
  }
 ],
 "metadata": {
  "kernelspec": {
   "display_name": "Python 3",
   "language": "python",
   "name": "python3"
  },
  "language_info": {
   "codemirror_mode": {
    "name": "ipython",
    "version": 3
   },
   "file_extension": ".py",
   "mimetype": "text/x-python",
   "name": "python",
   "nbconvert_exporter": "python",
   "pygments_lexer": "ipython3",
   "version": "3.8.8"
  }
 },
 "nbformat": 4,
 "nbformat_minor": 5
}
