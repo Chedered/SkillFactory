{
 "cells": [
  {
   "cell_type": "code",
   "execution_count": 1,
   "metadata": {
    "_cell_guid": "b1076dfc-b9ad-4769-8c92-a6c4dae69d19",
    "_uuid": "8f2839f25d086af736a60e9eeb907d3b93b6e0e5",
    "colab": {},
    "colab_type": "code",
    "id": "U2D2gTdJVp90"
   },
   "outputs": [],
   "source": [
    "import pandas as pd\n",
    "from collections import Counter\n",
    "from itertools import combinations "
   ]
  },
  {
   "cell_type": "code",
   "execution_count": 2,
   "metadata": {
    "_cell_guid": "79c7e3d0-c299-4dcb-8224-4455121ee9b0",
    "_uuid": "d629ff2d2480ee46fbb7e2d37f6b5fab8052498a",
    "colab": {},
    "colab_type": "code",
    "id": "oyGfxL3eVp9-"
   },
   "outputs": [],
   "source": [
    "data = pd.read_csv('movie_bd_v5.csv')"
   ]
  },
  {
   "cell_type": "code",
   "execution_count": 3,
   "metadata": {
    "colab": {},
    "colab_type": "code",
    "id": "CoYUnagMVp-C"
   },
   "outputs": [
    {
     "data": {
      "text/html": [
       "<div>\n",
       "<style scoped>\n",
       "    .dataframe tbody tr th:only-of-type {\n",
       "        vertical-align: middle;\n",
       "    }\n",
       "\n",
       "    .dataframe tbody tr th {\n",
       "        vertical-align: top;\n",
       "    }\n",
       "\n",
       "    .dataframe thead th {\n",
       "        text-align: right;\n",
       "    }\n",
       "</style>\n",
       "<table border=\"1\" class=\"dataframe\">\n",
       "  <thead>\n",
       "    <tr style=\"text-align: right;\">\n",
       "      <th></th>\n",
       "      <th>budget</th>\n",
       "      <th>revenue</th>\n",
       "      <th>runtime</th>\n",
       "      <th>vote_average</th>\n",
       "      <th>release_year</th>\n",
       "    </tr>\n",
       "  </thead>\n",
       "  <tbody>\n",
       "    <tr>\n",
       "      <th>count</th>\n",
       "      <td>1.889000e+03</td>\n",
       "      <td>1.889000e+03</td>\n",
       "      <td>1889.000000</td>\n",
       "      <td>1889.000000</td>\n",
       "      <td>1889.000000</td>\n",
       "    </tr>\n",
       "    <tr>\n",
       "      <th>mean</th>\n",
       "      <td>5.431083e+07</td>\n",
       "      <td>1.553653e+08</td>\n",
       "      <td>109.658549</td>\n",
       "      <td>6.140762</td>\n",
       "      <td>2007.860773</td>\n",
       "    </tr>\n",
       "    <tr>\n",
       "      <th>std</th>\n",
       "      <td>4.858721e+07</td>\n",
       "      <td>2.146698e+08</td>\n",
       "      <td>18.017041</td>\n",
       "      <td>0.764763</td>\n",
       "      <td>4.468841</td>\n",
       "    </tr>\n",
       "    <tr>\n",
       "      <th>min</th>\n",
       "      <td>5.000000e+06</td>\n",
       "      <td>2.033165e+06</td>\n",
       "      <td>63.000000</td>\n",
       "      <td>3.300000</td>\n",
       "      <td>2000.000000</td>\n",
       "    </tr>\n",
       "    <tr>\n",
       "      <th>25%</th>\n",
       "      <td>2.000000e+07</td>\n",
       "      <td>3.456058e+07</td>\n",
       "      <td>97.000000</td>\n",
       "      <td>5.600000</td>\n",
       "      <td>2004.000000</td>\n",
       "    </tr>\n",
       "    <tr>\n",
       "      <th>50%</th>\n",
       "      <td>3.800000e+07</td>\n",
       "      <td>8.361541e+07</td>\n",
       "      <td>107.000000</td>\n",
       "      <td>6.100000</td>\n",
       "      <td>2008.000000</td>\n",
       "    </tr>\n",
       "    <tr>\n",
       "      <th>75%</th>\n",
       "      <td>7.200000e+07</td>\n",
       "      <td>1.782626e+08</td>\n",
       "      <td>120.000000</td>\n",
       "      <td>6.600000</td>\n",
       "      <td>2012.000000</td>\n",
       "    </tr>\n",
       "    <tr>\n",
       "      <th>max</th>\n",
       "      <td>3.800000e+08</td>\n",
       "      <td>2.781506e+09</td>\n",
       "      <td>214.000000</td>\n",
       "      <td>8.100000</td>\n",
       "      <td>2015.000000</td>\n",
       "    </tr>\n",
       "  </tbody>\n",
       "</table>\n",
       "</div>"
      ],
      "text/plain": [
       "             budget       revenue      runtime  vote_average  release_year\n",
       "count  1.889000e+03  1.889000e+03  1889.000000   1889.000000   1889.000000\n",
       "mean   5.431083e+07  1.553653e+08   109.658549      6.140762   2007.860773\n",
       "std    4.858721e+07  2.146698e+08    18.017041      0.764763      4.468841\n",
       "min    5.000000e+06  2.033165e+06    63.000000      3.300000   2000.000000\n",
       "25%    2.000000e+07  3.456058e+07    97.000000      5.600000   2004.000000\n",
       "50%    3.800000e+07  8.361541e+07   107.000000      6.100000   2008.000000\n",
       "75%    7.200000e+07  1.782626e+08   120.000000      6.600000   2012.000000\n",
       "max    3.800000e+08  2.781506e+09   214.000000      8.100000   2015.000000"
      ]
     },
     "execution_count": 3,
     "metadata": {},
     "output_type": "execute_result"
    }
   ],
   "source": [
    "data.describe()"
   ]
  },
  {
   "cell_type": "markdown",
   "metadata": {
    "colab_type": "text",
    "id": "DTIt7ezGVp-G"
   },
   "source": [
    "# Предобработка"
   ]
  },
  {
   "cell_type": "code",
   "execution_count": 4,
   "metadata": {
    "colab": {},
    "colab_type": "code",
    "id": "jNb40DwKVp-H"
   },
   "outputs": [],
   "source": [
    "answers = {} # создадим словарь для ответов"
   ]
  },
  {
   "cell_type": "code",
   "execution_count": 5,
   "metadata": {},
   "outputs": [],
   "source": [
    "data['profit'] = data['revenue'] - data['budget'] # столбец с выгодой"
   ]
  },
  {
   "cell_type": "markdown",
   "metadata": {},
   "source": [
    "Отделим месяц от даты выхода, переименуем и создадим новую колонку."
   ]
  },
  {
   "cell_type": "code",
   "execution_count": 6,
   "metadata": {},
   "outputs": [],
   "source": [
    "months = 'Январь, Февраль, Март, Апрель, Май, Июнь, Июль, Август, Сентябрь, Октябрь, Ноябрь, Декабрь'.split(', ')\n",
    "data['release_month'] = data['release_date'].apply(lambda x: months[int(x[:x.find('/')]) - 1])"
   ]
  },
  {
   "cell_type": "markdown",
   "metadata": {},
   "source": [
    "Создадим списки в колонках, где разделитель - вертикальная черта."
   ]
  },
  {
   "cell_type": "code",
   "execution_count": 7,
   "metadata": {},
   "outputs": [],
   "source": [
    "split_columns = ['cast', 'director', 'genres', 'production_companies']\n",
    "for column in split_columns:\n",
    "    data[column] = data[column].str.split('|')"
   ]
  },
  {
   "cell_type": "markdown",
   "metadata": {},
   "source": [
    "Развернем списки в отдельные ячейки для каждой колонки со списками."
   ]
  },
  {
   "cell_type": "code",
   "execution_count": 8,
   "metadata": {},
   "outputs": [],
   "source": [
    "cast = data.explode('cast')\n",
    "genres = data.explode('genres')\n",
    "directors = data.explode('director')\n",
    "companies = data.explode('production_companies')"
   ]
  },
  {
   "cell_type": "markdown",
   "metadata": {},
   "source": [
    "Поправим наименование Warner для вопросов о студиях."
   ]
  },
  {
   "cell_type": "code",
   "execution_count": 9,
   "metadata": {},
   "outputs": [],
   "source": [
    "def fix_warner(company):\n",
    "    if 'Warner Bros' in company:\n",
    "        return 'Warner Bros'\n",
    "    else:\n",
    "        return company"
   ]
  },
  {
   "cell_type": "markdown",
   "metadata": {},
   "source": [
    "Проверка и вывод для вопроса №26."
   ]
  },
  {
   "cell_type": "code",
   "execution_count": 10,
   "metadata": {},
   "outputs": [],
   "source": [
    "def best(titles):\n",
    "    variants = {1: ['Inside Out', 'The Dark Knight', '12 Years a Slave'],\n",
    "                2: ['BloodRayne', 'The Adventures of Rocky & Bullwinkle'],\n",
    "                3: ['Batman Begins', 'The Lord of the Rings: The Return of the King', 'Upside Down'],\n",
    "                4: ['300', 'Lucky Number Slevin', 'Kill Bill: Vol. 1'],\n",
    "                5: ['Upside Down', 'Inside Out', 'Iron Man']}\n",
    "    check = {1: [], 2: [], 3: [], 4: [], 5: []}\n",
    "    other_titles = [] # список для вывода других вариантов\n",
    "\n",
    "    '''Проверяем значение в словаре с вариантами и добавляем в проверочный словарь'''\n",
    "    for title in list(titles):\n",
    "        for key, value in variants.items():\n",
    "            if title in value:\n",
    "                check[key].append(title)\n",
    "                other_titles.append(title)\n",
    "\n",
    "    other_titles = set(other_titles)\n",
    "\n",
    "    '''Сравниваем пары из словарей'''\n",
    "    for key in variants.keys():\n",
    "        if sorted(variants[key]) == sorted(check[key]):\n",
    "            for title in variants[key]:\n",
    "                other_titles.remove(title)\n",
    "            print('Ответ на вопрос №26: ', ', '.join(variants[key]))\n",
    "            print('Другие фильмы из вариантов в топе:',\n",
    "                  ', '.join(other_titles))\n",
    "            break"
   ]
  },
  {
   "cell_type": "markdown",
   "metadata": {},
   "source": [
    "Проверка и вывод для вопроса №27."
   ]
  },
  {
   "cell_type": "code",
   "execution_count": 11,
   "metadata": {},
   "outputs": [],
   "source": [
    "def actors(pairs):\n",
    "    variants = [('Johnny Depp', 'Helena Bonham Carter'),\n",
    "                ('Ben Stiller', 'Owen Wilson'),\n",
    "                ('Vin Diesel', 'Paul Walker'),\n",
    "                ('Adam Sandler', 'Kevin James'),\n",
    "                ('Daniel Radcliffe', 'Rupert Grint')]\n",
    "    check = {}\n",
    "\n",
    "    '''Заполняем словарь парами актеры:кол-во фильмов'''\n",
    "    for variant in variants:\n",
    "        if variant in dict(pairs).keys():\n",
    "            check[variant] = dict(pairs)[variant]\n",
    "\n",
    "    final_check = {value: key for key, value in check.items()}\n",
    "    print('Ответ на вопрос №27: ',\n",
    "          ' & '.join(final_check.get(max(final_check.keys()))))\n",
    "    print('Количество фильмов: ', max(final_check.keys()))\n",
    "    print('И Эмма с ними')"
   ]
  },
  {
   "cell_type": "markdown",
   "metadata": {
    "colab_type": "text",
    "id": "YxZaH-nPVp-L"
   },
   "source": [
    "# 1. У какого фильма из списка самый большой бюджет?"
   ]
  },
  {
   "cell_type": "code",
   "execution_count": 12,
   "metadata": {
    "colab": {},
    "colab_type": "code",
    "id": "uVnXAY5RVp-O"
   },
   "outputs": [],
   "source": [
    "answers['1'] = 'Pirates of the Caribbean: On Stranger Tides', '+'"
   ]
  },
  {
   "cell_type": "markdown",
   "metadata": {},
   "source": [
    "Большинство решений - это вариации фильтров с выводом индекса по макимальному\\минимальному значению, либо самого частого значения."
   ]
  },
  {
   "cell_type": "code",
   "execution_count": 13,
   "metadata": {
    "colab": {},
    "colab_type": "code",
    "id": "dZwb3m28Vp-S"
   },
   "outputs": [
    {
     "name": "stdout",
     "output_type": "stream",
     "text": [
      "Ответ на вопрос №1:  Pirates of the Caribbean: On Stranger Tides\n",
      "Бюджет:  380,000,000\n"
     ]
    }
   ],
   "source": [
    "answer = data['original_title'][data['budget'].idxmax()]\n",
    "print('Ответ на вопрос №1: ', answer)\n",
    "print('Бюджет: ', '{:,d}'.format(data['budget'][data['original_title'] == answer].values[0]))"
   ]
  },
  {
   "cell_type": "markdown",
   "metadata": {
    "colab_type": "text",
    "id": "FNRbbI3vVp-c"
   },
   "source": [
    "# 2. Какой из фильмов самый длительный (в минутах)?"
   ]
  },
  {
   "cell_type": "code",
   "execution_count": 14,
   "metadata": {
    "colab": {},
    "colab_type": "code",
    "id": "vHAoEXNTVp-d"
   },
   "outputs": [],
   "source": [
    "answers['2'] = 'Gods and Generals', '+'"
   ]
  },
  {
   "cell_type": "code",
   "execution_count": 15,
   "metadata": {
    "colab": {},
    "colab_type": "code",
    "id": "ot-VX2XrVp-g"
   },
   "outputs": [
    {
     "name": "stdout",
     "output_type": "stream",
     "text": [
      "Ответ на вопрос №2:  Gods and Generals\n",
      "Длительность:  214\n"
     ]
    }
   ],
   "source": [
    "answer = data['original_title'][data['runtime'].idxmax()]\n",
    "print('Ответ на вопрос №2: ', answer)\n",
    "print('Длительность: ', data['runtime'][data['original_title'] == answer].values[0])"
   ]
  },
  {
   "cell_type": "markdown",
   "metadata": {
    "colab_type": "text",
    "id": "bapLlpW8Vp-k"
   },
   "source": [
    "# 3. Какой из фильмов самый короткий (в минутах)?\n",
    "\n",
    "\n",
    "\n"
   ]
  },
  {
   "cell_type": "code",
   "execution_count": 16,
   "metadata": {
    "colab": {},
    "colab_type": "code",
    "id": "YBxaSHuAVp-l"
   },
   "outputs": [],
   "source": [
    "answers['3'] = 'Winnie the Pooh', '+'"
   ]
  },
  {
   "cell_type": "code",
   "execution_count": 17,
   "metadata": {},
   "outputs": [
    {
     "name": "stdout",
     "output_type": "stream",
     "text": [
      "Ответ на вопрос №3:  Winnie the Pooh\n",
      "Длительность:  63\n"
     ]
    }
   ],
   "source": [
    "answer = data['original_title'][data['runtime'].idxmin()]\n",
    "print('Ответ на вопрос №3: ', answer)\n",
    "print('Длительность: ', data['runtime'][data['original_title'] == answer].values[0])"
   ]
  },
  {
   "cell_type": "markdown",
   "metadata": {
    "colab_type": "text",
    "id": "TfQbxbfNVp-p"
   },
   "source": [
    "# 4. Какова средняя длительность фильмов?\n"
   ]
  },
  {
   "cell_type": "code",
   "execution_count": 18,
   "metadata": {
    "colab": {},
    "colab_type": "code",
    "id": "5K6dKZYVVp-q"
   },
   "outputs": [],
   "source": [
    "answers['4'] = '110', '+'"
   ]
  },
  {
   "cell_type": "code",
   "execution_count": 19,
   "metadata": {},
   "outputs": [
    {
     "name": "stdout",
     "output_type": "stream",
     "text": [
      "Ответ на вопрос №4:  110\n"
     ]
    }
   ],
   "source": [
    "answer = round(data['runtime'].mean())\n",
    "print('Ответ на вопрос №4: ', answer)"
   ]
  },
  {
   "cell_type": "markdown",
   "metadata": {
    "colab_type": "text",
    "id": "r5TvbnT_Vp-u"
   },
   "source": [
    "# 5. Каково медианное значение длительности фильмов? "
   ]
  },
  {
   "cell_type": "code",
   "execution_count": 20,
   "metadata": {},
   "outputs": [],
   "source": [
    "answers['5'] = '107', '+'"
   ]
  },
  {
   "cell_type": "code",
   "execution_count": 21,
   "metadata": {
    "colab": {},
    "colab_type": "code",
    "id": "iBROplKnVp-v"
   },
   "outputs": [
    {
     "name": "stdout",
     "output_type": "stream",
     "text": [
      "Ответ на вопрос №5:  107.0\n"
     ]
    }
   ],
   "source": [
    "answer = data['runtime'].median()\n",
    "print('Ответ на вопрос №5: ', answer)"
   ]
  },
  {
   "cell_type": "markdown",
   "metadata": {
    "colab_type": "text",
    "id": "39P-deDSVp-y"
   },
   "source": [
    "# 6. Какой самый прибыльный фильм?\n",
    "#### Внимание! Здесь и далее под «прибылью» или «убытками» понимается разность между сборами и бюджетом фильма. (прибыль = сборы - бюджет) в нашем датасете это будет (profit = revenue - budget) "
   ]
  },
  {
   "cell_type": "code",
   "execution_count": 22,
   "metadata": {
    "colab": {},
    "colab_type": "code",
    "id": "UYZh4T9WVp-y"
   },
   "outputs": [],
   "source": [
    "answers['6'] = 'Avatar', '+'"
   ]
  },
  {
   "cell_type": "code",
   "execution_count": 23,
   "metadata": {},
   "outputs": [
    {
     "name": "stdout",
     "output_type": "stream",
     "text": [
      "Ответ на вопрос №6:  Avatar\n",
      "Прибыль:  2,544,505,847\n"
     ]
    }
   ],
   "source": [
    "answer = data['original_title'][data['profit'].idxmax()]\n",
    "print('Ответ на вопрос №6: ', answer)\n",
    "print('Прибыль: ', '{:,d}'.format(data['profit'][data['original_title'] == answer].values[0]))"
   ]
  },
  {
   "cell_type": "markdown",
   "metadata": {
    "colab_type": "text",
    "id": "M99JmIX4Vp-2"
   },
   "source": [
    "# 7. Какой фильм самый убыточный? "
   ]
  },
  {
   "cell_type": "code",
   "execution_count": 24,
   "metadata": {},
   "outputs": [],
   "source": [
    "answers['7'] = 'The Lone Ranger', '+'"
   ]
  },
  {
   "cell_type": "code",
   "execution_count": 25,
   "metadata": {
    "colab": {},
    "colab_type": "code",
    "id": "w-D2m4XPVp-3"
   },
   "outputs": [
    {
     "name": "stdout",
     "output_type": "stream",
     "text": [
      "Ответ на вопрос №7:  The Lone Ranger\n",
      "Убыток:  -165,710,090\n"
     ]
    }
   ],
   "source": [
    "answer = data['original_title'][data['profit'].idxmin()]\n",
    "print('Ответ на вопрос №7: ', answer)\n",
    "print('Убыток: ', '{:,d}'.format(data['profit'][data['original_title'] == answer].values[0]))"
   ]
  },
  {
   "cell_type": "markdown",
   "metadata": {
    "colab_type": "text",
    "id": "wEOM5ERVVp-6"
   },
   "source": [
    "# 8. У скольких фильмов из датасета объем сборов оказался выше бюджета?"
   ]
  },
  {
   "cell_type": "code",
   "execution_count": 26,
   "metadata": {},
   "outputs": [],
   "source": [
    "answers['8'] = '1478', '+'"
   ]
  },
  {
   "cell_type": "code",
   "execution_count": 27,
   "metadata": {
    "colab": {},
    "colab_type": "code",
    "id": "y00_7HD6Vp-7"
   },
   "outputs": [
    {
     "name": "stdout",
     "output_type": "stream",
     "text": [
      "Ответ на вопрос №8:  1478\n"
     ]
    }
   ],
   "source": [
    "answer = data['profit'][data['profit'] > 0].count()\n",
    "print('Ответ на вопрос №8: ', answer)"
   ]
  },
  {
   "cell_type": "markdown",
   "metadata": {
    "colab_type": "text",
    "id": "xhpspA9KVp_A"
   },
   "source": [
    "# 9. Какой фильм оказался самым кассовым в 2008 году?"
   ]
  },
  {
   "cell_type": "code",
   "execution_count": 28,
   "metadata": {},
   "outputs": [],
   "source": [
    "answers['9'] = 'The Dark Knight', '+'"
   ]
  },
  {
   "cell_type": "code",
   "execution_count": 29,
   "metadata": {
    "colab": {},
    "colab_type": "code",
    "id": "MoUyQr9RVp_B"
   },
   "outputs": [
    {
     "name": "stdout",
     "output_type": "stream",
     "text": [
      "Ответ на вопрос №9:  The Dark Knight\n",
      "Прибыль:  816,921,825\n"
     ]
    }
   ],
   "source": [
    "answer = data['original_title'][data['profit'][data['release_year'] == 2008].idxmax()]\n",
    "print('Ответ на вопрос №9: ', answer)\n",
    "print('Прибыль: ', '{:,d}'.format(data['profit'][data['original_title'] == answer].values[0]))"
   ]
  },
  {
   "cell_type": "markdown",
   "metadata": {
    "colab_type": "text",
    "id": "Zi4hDKidVp_F"
   },
   "source": [
    "# 10. Самый убыточный фильм за период с 2012 по 2014 г. (включительно)?\n"
   ]
  },
  {
   "cell_type": "code",
   "execution_count": 30,
   "metadata": {},
   "outputs": [],
   "source": [
    "answers['10'] = 'The Lone Ranger', '+'"
   ]
  },
  {
   "cell_type": "code",
   "execution_count": 31,
   "metadata": {},
   "outputs": [
    {
     "name": "stdout",
     "output_type": "stream",
     "text": [
      "Ответ на вопрос №10:  The Lone Ranger\n",
      "Убыток:  -165,710,090\n"
     ]
    }
   ],
   "source": [
    "answer = data['original_title'][data['profit'][(data['release_year'] >= 2012) &\n",
    "                                               (data['release_year'] <= 2014)].idxmin()]\n",
    "print('Ответ на вопрос №10: ', answer)\n",
    "print('Убыток: ', '{:,d}'.format(data['profit'][data['original_title'] == answer].values[0]))"
   ]
  },
  {
   "cell_type": "markdown",
   "metadata": {
    "colab_type": "text",
    "id": "EA7Sa9dkVp_I"
   },
   "source": [
    "# 11. Какого жанра фильмов больше всего?"
   ]
  },
  {
   "cell_type": "code",
   "execution_count": 32,
   "metadata": {},
   "outputs": [],
   "source": [
    "answers['11'] = 'Drama', '+'"
   ]
  },
  {
   "cell_type": "markdown",
   "metadata": {},
   "source": [
    "ВАРИАНТ 1 (через счетчик)"
   ]
  },
  {
   "cell_type": "code",
   "execution_count": 33,
   "metadata": {},
   "outputs": [
    {
     "name": "stdout",
     "output_type": "stream",
     "text": [
      "Ответ на вопрос №11:  Drama\n",
      "Количество фильмов:  782\n"
     ]
    }
   ],
   "source": [
    "answer = Counter(data['genres'].sum()).most_common(1)[0][0]\n",
    "print('Ответ на вопрос №11: ', answer)\n",
    "print('Количество фильмов: ', Counter(data['genres'].sum()).most_common(1)[0][1])"
   ]
  },
  {
   "cell_type": "markdown",
   "metadata": {
    "colab_type": "text",
    "id": "Ax6g2C8SVp_M"
   },
   "source": [
    "ВАРИАНТ 2 (самое частое значение)"
   ]
  },
  {
   "cell_type": "code",
   "execution_count": 34,
   "metadata": {
    "colab": {},
    "colab_type": "code",
    "id": "otO3SbrSVp_N"
   },
   "outputs": [
    {
     "name": "stdout",
     "output_type": "stream",
     "text": [
      "Ответ на вопрос №11:  Drama\n",
      "Количество фильмов:  782\n"
     ]
    }
   ],
   "source": [
    "answer = genres['genres'].mode()[0]\n",
    "print('Ответ на вопрос №11: ', answer)\n",
    "print('Количество фильмов: ', genres[genres['genres'] == answer].count()[0])"
   ]
  },
  {
   "cell_type": "markdown",
   "metadata": {
    "colab_type": "text",
    "id": "T9_bPWpkVp_Q"
   },
   "source": [
    "# 12. Фильмы какого жанра чаще всего становятся прибыльными? "
   ]
  },
  {
   "cell_type": "code",
   "execution_count": 35,
   "metadata": {},
   "outputs": [],
   "source": [
    "answers['12'] = 'Drama', '+'"
   ]
  },
  {
   "cell_type": "code",
   "execution_count": 36,
   "metadata": {},
   "outputs": [
    {
     "name": "stdout",
     "output_type": "stream",
     "text": [
      "Ответ на вопрос №12:  Drama\n",
      "Общая прибыль:  49,257,224,159\n"
     ]
    }
   ],
   "source": [
    "answer = genres['genres'][data['profit'] > 0].mode()[0]\n",
    "print('Ответ на вопрос №12: ', answer)\n",
    "print('Общая прибыль: ', '{:,d}'.format(genres['profit'][genres['genres'] == answer].sum()))"
   ]
  },
  {
   "cell_type": "markdown",
   "metadata": {
    "colab_type": "text",
    "id": "0F23bgsDVp_U"
   },
   "source": [
    "# 13. У какого режиссера самые большие суммарные кассовые сборы?"
   ]
  },
  {
   "cell_type": "code",
   "execution_count": 37,
   "metadata": {},
   "outputs": [],
   "source": [
    "answers['13'] = 'Peter Jackson', '+'"
   ]
  },
  {
   "cell_type": "code",
   "execution_count": 38,
   "metadata": {
    "colab": {},
    "colab_type": "code",
    "id": "K6Z3J8ygVp_X"
   },
   "outputs": [
    {
     "name": "stdout",
     "output_type": "stream",
     "text": [
      "Ответ на вопрос №13:  Peter Jackson\n",
      "Общие сборы:  6,490,593,685\n"
     ]
    }
   ],
   "source": [
    "answer = directors.groupby('director')['revenue'].sum().idxmax()\n",
    "print('Ответ на вопрос №13: ', answer)\n",
    "print('Общие сборы: ', '{:,d}'.format(directors['revenue'][directors['director'] == answer].sum()))"
   ]
  },
  {
   "cell_type": "markdown",
   "metadata": {
    "colab_type": "text",
    "id": "PsYC9FgRVp_a"
   },
   "source": [
    "# 14. Какой режисер снял больше всего фильмов в стиле Action?"
   ]
  },
  {
   "cell_type": "code",
   "execution_count": 39,
   "metadata": {},
   "outputs": [],
   "source": [
    "answers['14'] = 'Robert Rodriguez', '+'"
   ]
  },
  {
   "cell_type": "code",
   "execution_count": 40,
   "metadata": {
    "colab": {},
    "colab_type": "code",
    "id": "wd2M-wHeVp_b"
   },
   "outputs": [
    {
     "name": "stdout",
     "output_type": "stream",
     "text": [
      "Ответ на вопрос №14:  Robert Rodriguez\n",
      "Количество фильмов: 9\n"
     ]
    }
   ],
   "source": [
    "action_directors = directors.explode('genres')\n",
    "answer = action_directors[action_directors['genres'] == 'Action']['director'].value_counts().idxmax()\n",
    "print('Ответ на вопрос №14: ', answer)\n",
    "print('Количество фильмов:',\n",
    "      action_directors[(action_directors['director'] == answer) &\n",
    "                       (action_directors['genres'] == 'Action')].count()[0])"
   ]
  },
  {
   "cell_type": "markdown",
   "metadata": {
    "colab_type": "text",
    "id": "PQ0KciD7Vp_f"
   },
   "source": [
    "# 15. Фильмы с каким актером принесли самые высокие кассовые сборы в 2012 году? "
   ]
  },
  {
   "cell_type": "code",
   "execution_count": 41,
   "metadata": {},
   "outputs": [],
   "source": [
    "answers['15'] = 'Chris Hemsworth', '+'"
   ]
  },
  {
   "cell_type": "code",
   "execution_count": 42,
   "metadata": {
    "colab": {},
    "colab_type": "code",
    "id": "aga62oeKVp_g"
   },
   "outputs": [
    {
     "name": "stdout",
     "output_type": "stream",
     "text": [
      "Ответ на вопрос №15:  Chris Hemsworth\n",
      "Общая прибыль: 1,542,450,773\n"
     ]
    }
   ],
   "source": [
    "answer = cast[cast['release_year'] == 2012].groupby('cast')['profit'].sum().idxmax()\n",
    "print('Ответ на вопрос №15: ', answer)\n",
    "print('Общая прибыль:',\n",
    "      '{:,d}'.format(cast['profit'][(cast['release_year'] == 2012) &\n",
    "                                    (cast['cast'] == answer)].sum()))"
   ]
  },
  {
   "cell_type": "markdown",
   "metadata": {
    "colab_type": "text",
    "id": "mWHyyL7QVp_j"
   },
   "source": [
    "# 16. Какой актер снялся в большем количестве высокобюджетных фильмов?"
   ]
  },
  {
   "cell_type": "code",
   "execution_count": 43,
   "metadata": {},
   "outputs": [],
   "source": [
    "answers['16'] = 'Matt Damon', '+'"
   ]
  },
  {
   "cell_type": "code",
   "execution_count": 44,
   "metadata": {
    "colab": {},
    "colab_type": "code",
    "id": "qQtmHKTFVp_k"
   },
   "outputs": [
    {
     "name": "stdout",
     "output_type": "stream",
     "text": [
      "Ответ на вопрос №16:  Matt Damon\n",
      "Количество фильмов: 18\n"
     ]
    }
   ],
   "source": [
    "answer = cast[cast['budget'] > cast['budget'].mean()]['cast'].value_counts().idxmax()\n",
    "print('Ответ на вопрос №16: ', answer)\n",
    "print('Количество фильмов:',\n",
    "      cast[(cast['budget'] > cast['budget'].mean()) &\n",
    "           (cast['cast'] == answer)].count()[0])"
   ]
  },
  {
   "cell_type": "markdown",
   "metadata": {
    "colab_type": "text",
    "id": "NIh6AaW5Vp_n"
   },
   "source": [
    "# 17. В фильмах какого жанра больше всего снимался Nicolas Cage? "
   ]
  },
  {
   "cell_type": "code",
   "execution_count": 45,
   "metadata": {},
   "outputs": [],
   "source": [
    "answers['17'] = 'Action', '+'"
   ]
  },
  {
   "cell_type": "code",
   "execution_count": 46,
   "metadata": {
    "colab": {},
    "colab_type": "code",
    "id": "H74SJDIBVp_n"
   },
   "outputs": [
    {
     "name": "stdout",
     "output_type": "stream",
     "text": [
      "Ответ на вопрос №17:  Action\n",
      "Количество фильмов: 17\n"
     ]
    }
   ],
   "source": [
    "cage_genres = cast.explode('genres')\n",
    "answer = cage_genres['genres'][cage_genres['cast'] == 'Nicolas Cage'].mode()[0]\n",
    "print('Ответ на вопрос №17: ', answer)\n",
    "print('Количество фильмов:',\n",
    "      cage_genres[(cage_genres['cast'] == 'Nicolas Cage') &\n",
    "                  (cage_genres['genres'] == answer)].count()[0])"
   ]
  },
  {
   "cell_type": "markdown",
   "metadata": {
    "colab_type": "text",
    "id": "RqOmPRfWVp_q"
   },
   "source": [
    "# 18. Самый убыточный фильм от Paramount Pictures"
   ]
  },
  {
   "cell_type": "code",
   "execution_count": 47,
   "metadata": {},
   "outputs": [],
   "source": [
    "answers['18'] = 'K-19: The Widowmaker', '+'"
   ]
  },
  {
   "cell_type": "code",
   "execution_count": 48,
   "metadata": {
    "colab": {},
    "colab_type": "code",
    "id": "9E_B0Y96Vp_r"
   },
   "outputs": [
    {
     "name": "stdout",
     "output_type": "stream",
     "text": [
      "Ответ на вопрос №18:  K-19: The Widowmaker\n",
      "Убыток:  -64,831,034\n"
     ]
    }
   ],
   "source": [
    "paramount_movies = companies[companies['production_companies'] == 'Paramount Pictures']\n",
    "answer = paramount_movies['original_title'][paramount_movies['profit'].idxmin()]\n",
    "print('Ответ на вопрос №18: ', answer)\n",
    "print('Убыток: ',\n",
    "      '{:,d}'.format(paramount_movies['profit'][paramount_movies['original_title'] == answer].values[0]))"
   ]
  },
  {
   "cell_type": "markdown",
   "metadata": {
    "colab_type": "text",
    "id": "vS8Ur6ddVp_u"
   },
   "source": [
    "# 19. Какой год стал самым успешным по суммарным кассовым сборам?"
   ]
  },
  {
   "cell_type": "code",
   "execution_count": 49,
   "metadata": {},
   "outputs": [],
   "source": [
    "answers['19'] = '2015', '+'"
   ]
  },
  {
   "cell_type": "code",
   "execution_count": 50,
   "metadata": {
    "colab": {},
    "colab_type": "code",
    "id": "Dnbt4GdIVp_v"
   },
   "outputs": [
    {
     "name": "stdout",
     "output_type": "stream",
     "text": [
      "Ответ на вопрос №19:  2015\n",
      "Прибыль:  18,668,572,378\n"
     ]
    }
   ],
   "source": [
    "answer = data.groupby(['release_year'])['profit'].sum().idxmax()\n",
    "print('Ответ на вопрос №19: ', answer)\n",
    "print('Прибыль: ',\n",
    "      '{:,d}'.format(data['profit'][data['release_year'] == answer].sum()))"
   ]
  },
  {
   "cell_type": "markdown",
   "metadata": {
    "colab_type": "text",
    "id": "JAzJh4QAVp_z"
   },
   "source": [
    "# 20. Какой самый прибыльный год для студии Warner Bros?"
   ]
  },
  {
   "cell_type": "code",
   "execution_count": 51,
   "metadata": {},
   "outputs": [],
   "source": [
    "answers['20'] = '2014', '+'"
   ]
  },
  {
   "cell_type": "code",
   "execution_count": 52,
   "metadata": {
    "colab": {},
    "colab_type": "code",
    "id": "wgVu02DEVp_0"
   },
   "outputs": [
    {
     "name": "stdout",
     "output_type": "stream",
     "text": [
      "Ответ на вопрос №20:  2014\n",
      "Прибыль:  2,292,949,646\n"
     ]
    }
   ],
   "source": [
    "companies['production_companies'] = companies['production_companies'].apply(fix_warner)\n",
    "answer = companies[companies['production_companies'] == 'Warner Bros'].groupby(['release_year'])[\n",
    "    'profit'].sum().idxmax()\n",
    "print('Ответ на вопрос №20: ', answer)\n",
    "print('Прибыль: ',\n",
    "      '{:,d}'.format(companies['profit'][(companies['release_year'] == answer) &\n",
    "                                         (companies['production_companies'] == 'Warner Bros')].sum()))"
   ]
  },
  {
   "cell_type": "markdown",
   "metadata": {
    "colab_type": "text",
    "id": "8Im1S2HRVp_4"
   },
   "source": [
    "# 21. В каком месяце за все годы суммарно вышло больше всего фильмов?"
   ]
  },
  {
   "cell_type": "code",
   "execution_count": 53,
   "metadata": {},
   "outputs": [],
   "source": [
    "answers['21'] = 'Сентябрь', '+'"
   ]
  },
  {
   "cell_type": "markdown",
   "metadata": {},
   "source": [
    "ВАРИАНТ 1"
   ]
  },
  {
   "cell_type": "code",
   "execution_count": 54,
   "metadata": {
    "colab": {},
    "colab_type": "code",
    "id": "lev6TH7gVp_4"
   },
   "outputs": [
    {
     "name": "stdout",
     "output_type": "stream",
     "text": [
      "Ответ на вопрос №21:  Сентябрь\n",
      "Количество фильмов:  227\n"
     ]
    }
   ],
   "source": [
    "answer = data.groupby(['release_month'])['original_title'].count().idxmax()\n",
    "print('Ответ на вопрос №21: ', answer)\n",
    "print('Количество фильмов: ', data[data['release_month'] == answer].count()[0])"
   ]
  },
  {
   "cell_type": "markdown",
   "metadata": {},
   "source": [
    "ВАРИАНТ 2"
   ]
  },
  {
   "cell_type": "code",
   "execution_count": 55,
   "metadata": {},
   "outputs": [
    {
     "name": "stdout",
     "output_type": "stream",
     "text": [
      "Ответ на вопрос №21:  Сентябрь\n",
      "Количество фильмов:  227\n"
     ]
    }
   ],
   "source": [
    "answer = data['release_month'].mode()[0]\n",
    "print('Ответ на вопрос №21: ', answer)\n",
    "print('Количество фильмов: ', data['release_month'].value_counts()[0])"
   ]
  },
  {
   "cell_type": "markdown",
   "metadata": {
    "colab_type": "text",
    "id": "uAJsZ_NeVp_7"
   },
   "source": [
    "# 22. Сколько суммарно вышло фильмов летом? (за июнь, июль, август)"
   ]
  },
  {
   "cell_type": "code",
   "execution_count": 56,
   "metadata": {},
   "outputs": [],
   "source": [
    "answers['22'] = '450', '+'"
   ]
  },
  {
   "cell_type": "markdown",
   "metadata": {},
   "source": [
    "ВАРИАНТ 1"
   ]
  },
  {
   "cell_type": "code",
   "execution_count": 57,
   "metadata": {
    "colab": {},
    "colab_type": "code",
    "id": "Aa-hEREoVp_8"
   },
   "outputs": [
    {
     "name": "stdout",
     "output_type": "stream",
     "text": [
      "Ответ на вопрос №22:  450\n"
     ]
    }
   ],
   "source": [
    "count_months = Counter(data['release_month'])\n",
    "sum_movies = 0\n",
    "summer = ['Июнь', 'Июль', 'Август']\n",
    "for i in count_months.keys():\n",
    "    if i in summer:\n",
    "        sum_movies += count_months[i]\n",
    "answer = sum_movies\n",
    "print('Ответ на вопрос №22: ', answer)"
   ]
  },
  {
   "cell_type": "markdown",
   "metadata": {},
   "source": [
    "ВАРИАНТ 2"
   ]
  },
  {
   "cell_type": "code",
   "execution_count": 58,
   "metadata": {},
   "outputs": [
    {
     "name": "stdout",
     "output_type": "stream",
     "text": [
      "Ответ на вопрос №22:  450\n"
     ]
    }
   ],
   "source": [
    "summer = data[(data['release_month'] == \"Июнь\") |\n",
    "              (data['release_month'] == \"Июль\") |\n",
    "              (data['release_month'] == \"Август\")]\n",
    "answer = summer['original_title'].count()\n",
    "print('Ответ на вопрос №22: ', answer)"
   ]
  },
  {
   "cell_type": "markdown",
   "metadata": {
    "colab_type": "text",
    "id": "G94ppOY1VqAA"
   },
   "source": [
    "# 23. Для какого режиссера зима – самое продуктивное время года? "
   ]
  },
  {
   "cell_type": "code",
   "execution_count": 59,
   "metadata": {},
   "outputs": [],
   "source": [
    "answers['23'] = 'Peter Jackson', '+'"
   ]
  },
  {
   "cell_type": "code",
   "execution_count": 60,
   "metadata": {
    "colab": {},
    "colab_type": "code",
    "id": "RhNTsamuVqAB"
   },
   "outputs": [
    {
     "name": "stdout",
     "output_type": "stream",
     "text": [
      "Ответ на вопрос №23:  Peter Jackson\n",
      "Количество фильмов:  7\n"
     ]
    }
   ],
   "source": [
    "winter = directors[(directors['release_month'] == \"Декабрь\") |\n",
    "                   (directors['release_month'] == \"Январь\") |\n",
    "                   (directors['release_month'] == \"Февраль\")]\n",
    "answer = winter['director'].mode()[0]\n",
    "print('Ответ на вопрос №23: ', answer)\n",
    "print('Количество фильмов: ', winter['director'].value_counts()[0])"
   ]
  },
  {
   "cell_type": "markdown",
   "metadata": {
    "colab_type": "text",
    "id": "RBo0JVjVVqAF"
   },
   "source": [
    "# 24. Какая студия дает самые длинные названия своим фильмам по количеству символов?"
   ]
  },
  {
   "cell_type": "code",
   "execution_count": 61,
   "metadata": {},
   "outputs": [],
   "source": [
    "answers['24'] = 'Four By Two Productions', '+'"
   ]
  },
  {
   "cell_type": "markdown",
   "metadata": {},
   "source": [
    "Лямбдой удаляем пробелы и считаем кол-во символов в новую колонку"
   ]
  },
  {
   "cell_type": "code",
   "execution_count": 62,
   "metadata": {
    "colab": {},
    "colab_type": "code",
    "id": "QRGS8L0iVqAG"
   },
   "outputs": [
    {
     "name": "stdout",
     "output_type": "stream",
     "text": [
      "Ответ на вопрос №24:  Four By Two Productions\n"
     ]
    }
   ],
   "source": [
    "companies['symbols_of_title'] = companies['original_title'].apply(lambda x: len(''.join(x.split())))\n",
    "answer = companies.groupby(['production_companies'])['symbols_of_title'].mean().idxmax()\n",
    "print ('Ответ на вопрос №24: ', answer)"
   ]
  },
  {
   "cell_type": "markdown",
   "metadata": {
    "colab_type": "text",
    "id": "9G0hbvR7VqAK"
   },
   "source": [
    "# 25. Описание фильмов какой студии в среднем самые длинные по количеству слов?"
   ]
  },
  {
   "cell_type": "code",
   "execution_count": 63,
   "metadata": {},
   "outputs": [],
   "source": [
    "answers['25'] = 'Midnight Picture Show', '+'"
   ]
  },
  {
   "cell_type": "markdown",
   "metadata": {},
   "source": [
    "Лямбдой создаем списки слов и считаем их кол-во в новую колонку"
   ]
  },
  {
   "cell_type": "code",
   "execution_count": 64,
   "metadata": {
    "colab": {},
    "colab_type": "code",
    "id": "Ge2GsLNxVqAK"
   },
   "outputs": [
    {
     "name": "stdout",
     "output_type": "stream",
     "text": [
      "Ответ на вопрос №25:  Midnight Picture Show\n"
     ]
    }
   ],
   "source": [
    "companies['words_in_overview'] = companies['overview'].apply(lambda x: len(x.split()))\n",
    "answer = companies.groupby(['production_companies'])['words_in_overview'].mean().idxmax()\n",
    "print('Ответ на вопрос №25: ', answer)"
   ]
  },
  {
   "cell_type": "markdown",
   "metadata": {
    "colab_type": "text",
    "id": "FJ1AFt90VqAP"
   },
   "source": [
    "# 26. Какие фильмы входят в 1 процент лучших по рейтингу?"
   ]
  },
  {
   "cell_type": "code",
   "execution_count": 65,
   "metadata": {},
   "outputs": [],
   "source": [
    "answers['26'] = 'Inside Out, The Dark Knight, 12 Years a Slave', '+'"
   ]
  },
  {
   "cell_type": "code",
   "execution_count": 66,
   "metadata": {
    "colab": {},
    "colab_type": "code",
    "id": "8qmJVq4CVqAQ"
   },
   "outputs": [
    {
     "name": "stdout",
     "output_type": "stream",
     "text": [
      "Ответ на вопрос №26:  Inside Out, The Dark Knight, 12 Years a Slave\n",
      "Другие фильмы из вариантов в топе: The Lord of the Rings: The Return of the King\n"
     ]
    }
   ],
   "source": [
    "best_titles = data[['vote_average', 'original_title']].sort_values(by='vote_average', ascending=False)\n",
    "best(best_titles['original_title'][:round(len(best_titles) * 0.01)]) # cрез по одному проценту"
   ]
  },
  {
   "cell_type": "markdown",
   "metadata": {
    "colab_type": "text",
    "id": "MdXsUXbCVqAV"
   },
   "source": [
    "# 27. Какие актеры чаще всего снимаются в одном фильме вместе?\n"
   ]
  },
  {
   "cell_type": "code",
   "execution_count": 67,
   "metadata": {},
   "outputs": [],
   "source": [
    "answers['27'] = 'Daniel Radcliffe & Rupert Grint', '+'"
   ]
  },
  {
   "cell_type": "markdown",
   "metadata": {},
   "source": [
    "ВАРИАНТ 1"
   ]
  },
  {
   "cell_type": "markdown",
   "metadata": {},
   "source": [
    "Лямбдой создаем список пар актеров с помощью combinations."
   ]
  },
  {
   "cell_type": "code",
   "execution_count": 68,
   "metadata": {},
   "outputs": [
    {
     "name": "stdout",
     "output_type": "stream",
     "text": [
      "Ответ на вопрос №27:  Daniel Radcliffe & Rupert Grint\n",
      "Количество фильмов:  8\n",
      "И Эмма с ними\n"
     ]
    }
   ],
   "source": [
    "data['list_pair_actors'] = data['cast'].apply(lambda x: list(combinations(x, 2)))\n",
    "pair_actors = data.explode('list_pair_actors') # разворачиваем списки с парами\n",
    "count_pair = pair_actors['list_pair_actors'].value_counts()\n",
    "actors(count_pair[count_pair > 1]) # в вопросе предполагается, что фильмов больше, чем один"
   ]
  },
  {
   "cell_type": "markdown",
   "metadata": {
    "colab_type": "text",
    "id": "4ymnxEVoVqAW"
   },
   "source": [
    "ВАРИАНТ 2"
   ]
  },
  {
   "cell_type": "markdown",
   "metadata": {},
   "source": [
    "Создаем отдельные датафреймы, затем объединяем парами по одинаковым значениям и считаем."
   ]
  },
  {
   "cell_type": "code",
   "execution_count": 69,
   "metadata": {},
   "outputs": [
    {
     "name": "stdout",
     "output_type": "stream",
     "text": [
      "Ответ на вопрос №27:  Daniel Radcliffe & Rupert Grint\n",
      "Количество фильмов:  8\n"
     ]
    }
   ],
   "source": [
    "johnny = pd.DataFrame(cast['original_title'][cast['cast'] == 'Johnny Depp'])\n",
    "helena = pd.DataFrame(cast['original_title'][cast['cast'] == 'Helena Bonham Carter'])\n",
    "hugh = pd.DataFrame(cast['original_title'][cast['cast'] == 'Hugh Jackman'])\n",
    "ian = pd.DataFrame(cast['original_title'][cast['cast'] == 'Ian McKellen'])\n",
    "vin = pd.DataFrame(cast['original_title'][cast['cast'] == 'Vin Diesel'])\n",
    "paul = pd.DataFrame(cast['original_title'][cast['cast'] == 'Paul Walker'])\n",
    "adam = pd.DataFrame(cast['original_title'][cast['cast'] == 'Adam Sandler'])\n",
    "kevin = pd.DataFrame(cast['original_title'][cast['cast'] == 'Kevin James'])\n",
    "daniel = pd.DataFrame(cast['original_title'][cast['cast'] == 'Daniel Radcliffe'])\n",
    "rupert = pd.DataFrame(cast['original_title'][cast['cast'] == 'Rupert Grint'])\n",
    "max_movies = {len(johnny.merge(helena, on='original_title', how='inner')): 'Johnny Depp & Helena Bonham Carter',\n",
    "              len(hugh.merge(ian, on='original_title', how='inner')): 'Hugh Jackman & Ian McKellen',\n",
    "              len(vin.merge(paul, on='original_title', how='inner')): 'Vin Diesel & Paul Walker',\n",
    "              len(adam.merge(kevin, on='original_title', how='inner')): 'Adam Sandler & Kevin James',\n",
    "              len(daniel.merge(rupert, on='original_title', how='inner')): 'Daniel Radcliffe & Rupert Grint'}\n",
    "answer = max_movies.get(max(max_movies.keys()))\n",
    "print('Ответ на вопрос №27: ', answer)\n",
    "print('Количество фильмов: ', max(max_movies.keys()))"
   ]
  },
  {
   "cell_type": "markdown",
   "metadata": {
    "colab_type": "text",
    "id": "U0nONFnGVqAX"
   },
   "source": [
    "# Submission"
   ]
  },
  {
   "cell_type": "markdown",
   "metadata": {},
   "source": [
    "Красивая таблица)"
   ]
  },
  {
   "cell_type": "code",
   "execution_count": 70,
   "metadata": {
    "colab": {},
    "colab_type": "code",
    "id": "IfcaRO9-VqAX",
    "outputId": "0f132912-32bb-4196-c98c-abfbc4ad5a5f"
   },
   "outputs": [
    {
     "data": {
      "text/html": [
       "<div>\n",
       "<style scoped>\n",
       "    .dataframe tbody tr th:only-of-type {\n",
       "        vertical-align: middle;\n",
       "    }\n",
       "\n",
       "    .dataframe tbody tr th {\n",
       "        vertical-align: top;\n",
       "    }\n",
       "\n",
       "    .dataframe thead th {\n",
       "        text-align: right;\n",
       "    }\n",
       "</style>\n",
       "<table border=\"1\" class=\"dataframe\">\n",
       "  <thead>\n",
       "    <tr style=\"text-align: right;\">\n",
       "      <th></th>\n",
       "      <th>Answer</th>\n",
       "      <th>Right</th>\n",
       "    </tr>\n",
       "  </thead>\n",
       "  <tbody>\n",
       "    <tr>\n",
       "      <th>1</th>\n",
       "      <td>Pirates of the Caribbean: On Stranger Tides</td>\n",
       "      <td>+</td>\n",
       "    </tr>\n",
       "    <tr>\n",
       "      <th>2</th>\n",
       "      <td>Gods and Generals</td>\n",
       "      <td>+</td>\n",
       "    </tr>\n",
       "    <tr>\n",
       "      <th>3</th>\n",
       "      <td>Winnie the Pooh</td>\n",
       "      <td>+</td>\n",
       "    </tr>\n",
       "    <tr>\n",
       "      <th>4</th>\n",
       "      <td>110</td>\n",
       "      <td>+</td>\n",
       "    </tr>\n",
       "    <tr>\n",
       "      <th>5</th>\n",
       "      <td>107</td>\n",
       "      <td>+</td>\n",
       "    </tr>\n",
       "    <tr>\n",
       "      <th>6</th>\n",
       "      <td>Avatar</td>\n",
       "      <td>+</td>\n",
       "    </tr>\n",
       "    <tr>\n",
       "      <th>7</th>\n",
       "      <td>The Lone Ranger</td>\n",
       "      <td>+</td>\n",
       "    </tr>\n",
       "    <tr>\n",
       "      <th>8</th>\n",
       "      <td>1478</td>\n",
       "      <td>+</td>\n",
       "    </tr>\n",
       "    <tr>\n",
       "      <th>9</th>\n",
       "      <td>The Dark Knight</td>\n",
       "      <td>+</td>\n",
       "    </tr>\n",
       "    <tr>\n",
       "      <th>10</th>\n",
       "      <td>The Lone Ranger</td>\n",
       "      <td>+</td>\n",
       "    </tr>\n",
       "    <tr>\n",
       "      <th>11</th>\n",
       "      <td>Drama</td>\n",
       "      <td>+</td>\n",
       "    </tr>\n",
       "    <tr>\n",
       "      <th>12</th>\n",
       "      <td>Drama</td>\n",
       "      <td>+</td>\n",
       "    </tr>\n",
       "    <tr>\n",
       "      <th>13</th>\n",
       "      <td>Peter Jackson</td>\n",
       "      <td>+</td>\n",
       "    </tr>\n",
       "    <tr>\n",
       "      <th>14</th>\n",
       "      <td>Robert Rodriguez</td>\n",
       "      <td>+</td>\n",
       "    </tr>\n",
       "    <tr>\n",
       "      <th>15</th>\n",
       "      <td>Chris Hemsworth</td>\n",
       "      <td>+</td>\n",
       "    </tr>\n",
       "    <tr>\n",
       "      <th>16</th>\n",
       "      <td>Matt Damon</td>\n",
       "      <td>+</td>\n",
       "    </tr>\n",
       "    <tr>\n",
       "      <th>17</th>\n",
       "      <td>Action</td>\n",
       "      <td>+</td>\n",
       "    </tr>\n",
       "    <tr>\n",
       "      <th>18</th>\n",
       "      <td>K-19: The Widowmaker</td>\n",
       "      <td>+</td>\n",
       "    </tr>\n",
       "    <tr>\n",
       "      <th>19</th>\n",
       "      <td>2015</td>\n",
       "      <td>+</td>\n",
       "    </tr>\n",
       "    <tr>\n",
       "      <th>20</th>\n",
       "      <td>2014</td>\n",
       "      <td>+</td>\n",
       "    </tr>\n",
       "    <tr>\n",
       "      <th>21</th>\n",
       "      <td>Сентябрь</td>\n",
       "      <td>+</td>\n",
       "    </tr>\n",
       "    <tr>\n",
       "      <th>22</th>\n",
       "      <td>450</td>\n",
       "      <td>+</td>\n",
       "    </tr>\n",
       "    <tr>\n",
       "      <th>23</th>\n",
       "      <td>Peter Jackson</td>\n",
       "      <td>+</td>\n",
       "    </tr>\n",
       "    <tr>\n",
       "      <th>24</th>\n",
       "      <td>Four By Two Productions</td>\n",
       "      <td>+</td>\n",
       "    </tr>\n",
       "    <tr>\n",
       "      <th>25</th>\n",
       "      <td>Midnight Picture Show</td>\n",
       "      <td>+</td>\n",
       "    </tr>\n",
       "    <tr>\n",
       "      <th>26</th>\n",
       "      <td>Inside Out, The Dark Knight, 12 Years a Slave</td>\n",
       "      <td>+</td>\n",
       "    </tr>\n",
       "    <tr>\n",
       "      <th>27</th>\n",
       "      <td>Daniel Radcliffe &amp; Rupert Grint</td>\n",
       "      <td>+</td>\n",
       "    </tr>\n",
       "  </tbody>\n",
       "</table>\n",
       "</div>"
      ],
      "text/plain": [
       "                                           Answer Right\n",
       "1     Pirates of the Caribbean: On Stranger Tides     +\n",
       "2                               Gods and Generals     +\n",
       "3                                 Winnie the Pooh     +\n",
       "4                                             110     +\n",
       "5                                             107     +\n",
       "6                                          Avatar     +\n",
       "7                                 The Lone Ranger     +\n",
       "8                                            1478     +\n",
       "9                                 The Dark Knight     +\n",
       "10                                The Lone Ranger     +\n",
       "11                                          Drama     +\n",
       "12                                          Drama     +\n",
       "13                                  Peter Jackson     +\n",
       "14                               Robert Rodriguez     +\n",
       "15                                Chris Hemsworth     +\n",
       "16                                     Matt Damon     +\n",
       "17                                         Action     +\n",
       "18                           K-19: The Widowmaker     +\n",
       "19                                           2015     +\n",
       "20                                           2014     +\n",
       "21                                       Сентябрь     +\n",
       "22                                            450     +\n",
       "23                                  Peter Jackson     +\n",
       "24                        Four By Two Productions     +\n",
       "25                          Midnight Picture Show     +\n",
       "26  Inside Out, The Dark Knight, 12 Years a Slave     +\n",
       "27                Daniel Radcliffe & Rupert Grint     +"
      ]
     },
     "execution_count": 70,
     "metadata": {},
     "output_type": "execute_result"
    }
   ],
   "source": [
    "pd.DataFrame.from_dict(answers, orient='index', columns=['Answer', 'Right'])"
   ]
  },
  {
   "cell_type": "code",
   "execution_count": 71,
   "metadata": {
    "colab": {},
    "colab_type": "code",
    "id": "SiRmHPl8VqAd"
   },
   "outputs": [
    {
     "data": {
      "text/plain": [
       "27"
      ]
     },
     "execution_count": 71,
     "metadata": {},
     "output_type": "execute_result"
    }
   ],
   "source": [
    "len(answers)"
   ]
  }
 ],
 "metadata": {
  "colab": {
   "name": "Copy of [SF-DST] Movies IMBD v4.1 TEMPLATE.ipynb",
   "provenance": []
  },
  "kernelspec": {
   "display_name": "Python 3",
   "language": "python",
   "name": "python3"
  },
  "language_info": {
   "codemirror_mode": {
    "name": "ipython",
    "version": 3
   },
   "file_extension": ".py",
   "mimetype": "text/x-python",
   "name": "python",
   "nbconvert_exporter": "python",
   "pygments_lexer": "ipython3",
   "version": "3.8.5"
  }
 },
 "nbformat": 4,
 "nbformat_minor": 1
}
